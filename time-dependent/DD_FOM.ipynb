{
 "cells": [
  {
   "cell_type": "markdown",
   "metadata": {},
   "source": [
    "# DD_FOM\n",
    "Notebook to implement and test the DD formulation for the time-dependent 2D Burgers' equation.  \n",
    "Author: Alejandro Diaz  \n",
    "Date: 1/4/2024"
   ]
  },
  {
   "cell_type": "code",
   "execution_count": 1,
   "metadata": {},
   "outputs": [],
   "source": [
    "import numpy as np\n",
    "import matplotlib.pyplot as plt\n",
    "import matplotlib.animation as animation\n",
    "import scipy.sparse as sp\n",
    "from time import time\n",
    "from utils.Burgers2D_probgen import Burgers2D\n",
    "from utils.helpers import sp_diag\n",
    "from utils.domain_decomposition import subdomain_indices, state_component, DD_FOM\n",
    "from IPython.display import HTML, Image\n",
    "from utils.solvers import newton_solve\n",
    "import sys, os\n",
    "import dill as pickle"
   ]
  },
  {
   "cell_type": "code",
   "execution_count": 2,
   "metadata": {},
   "outputs": [],
   "source": [
    "plt.rc('font', size=20)\n",
    "plt.rcParams['text.usetex'] = True"
   ]
  },
  {
   "cell_type": "code",
   "execution_count": 3,
   "metadata": {},
   "outputs": [],
   "source": [
    "# make directories for figures and data\n",
    "data_dir = './data/'\n",
    "fig_dir0 = './figures/'\n",
    "for d in [data_dir, fig_dir0]:\n",
    "    if not os.path.exists(d): os.mkdir(d)"
   ]
  },
  {
   "cell_type": "code",
   "execution_count": 4,
   "metadata": {},
   "outputs": [],
   "source": [
    "# parameters for physical domain and FD discretization\n",
    "x_lim = [0, 1]\n",
    "y_lim = [0, 1]\n",
    "t_lim = [0, 2]\n",
    "nx, ny, nt = 60, 60, 1500\n",
    "viscosity = 1e-4"
   ]
  },
  {
   "cell_type": "code",
   "execution_count": 5,
   "metadata": {},
   "outputs": [
    {
     "name": "stdout",
     "output_type": "stream",
     "text": [
      "Initializing Burgers model...\n",
      "Done!\n"
     ]
    }
   ],
   "source": [
    "# initialize model\n",
    "print('Initializing Burgers model...')\n",
    "sys.stdout.flush()\n",
    "fom = Burgers2D(nx, ny, nt, x_lim, y_lim, t_lim, viscosity)\n",
    "print('Done!')"
   ]
  },
  {
   "cell_type": "code",
   "execution_count": 6,
   "metadata": {},
   "outputs": [],
   "source": [
    "# parameterized initial conditions\n",
    "def u0(XY, mu):\n",
    "    val = np.zeros(len(XY))\n",
    "    for i, xy in enumerate(XY):\n",
    "        if np.all([xy[0] >= 0.0, xy[0] <= 0.5, xy[1] >= 0.0, xy[1] <= 0.5]):\n",
    "            val[i] = mu*np.sin(2*np.pi*xy[0])*np.sin(2*np.pi*xy[1])\n",
    "    return val \n",
    "\n",
    "def v0(XY, mu):\n",
    "    val = np.zeros(len(XY))\n",
    "    for i, xy in enumerate(XY):\n",
    "        if np.all([xy[0] >= 0.0, xy[0] <= 0.5, xy[1] >= 0.0, xy[1] <= 0.5]):\n",
    "            val[i] = mu*np.sin(2*np.pi*xy[0])*np.sin(2*np.pi*xy[1])\n",
    "    return val \n",
    "\n",
    "mu = 1.1\n",
    "\n",
    "# set initial condition\n",
    "fom.set_initial(lambda xy: u0(xy, mu), lambda xy: v0(xy, mu))"
   ]
  },
  {
   "cell_type": "code",
   "execution_count": 7,
   "metadata": {},
   "outputs": [],
   "source": [
    "# load data\n",
    "file = data_dir + f'nx_{nx}_ny_{ny}_nt_{nt}_visc_{viscosity}/mu_{mu}_uv_state.p'\n",
    "uv = pickle.load(open(file, 'rb'))\n",
    "runtime0 = uv['runtime']\n",
    "uv = uv['solution']"
   ]
  },
  {
   "cell_type": "code",
   "execution_count": 8,
   "metadata": {},
   "outputs": [],
   "source": [
    "# # solve monolithic fom\n",
    "# print('Solve Burgers equation with backward Euler:')\n",
    "# sys.stdout.flush()\n",
    "# uu, vv, res_hist, step_hist, runtime = fom.solve(tol=1e-9, maxit=20, print_hist=False)\n",
    "# print('Done!') \n",
    "# sys.stdout.flush()"
   ]
  },
  {
   "cell_type": "code",
   "execution_count": 9,
   "metadata": {},
   "outputs": [],
   "source": [
    "nsub_x, nsub_y = 2, 2\n",
    "ddfom = DD_FOM(fom, nsub_x, nsub_y)\n",
    "ddfom.set_initial(lambda xy: u0(xy, mu), lambda xy: v0(xy, mu))"
   ]
  },
  {
   "cell_type": "code",
   "execution_count": 10,
   "metadata": {},
   "outputs": [],
   "source": [
    "uu = uv[:, :fom.nxy]\n",
    "vv = uv[:, fom.nxy:]\n",
    "u_intr, v_intr, u_intf, v_intf = [], [], [], []\n",
    "dd_data_dir = data_dir + f'nx_{nx}_ny_{ny}_nt_{nt}_visc_{viscosity}/DD_{nsub_x}x_by_{nsub_y}y/' \n",
    "for i, s in enumerate(ddfom.subdomain):\n",
    "    sub_dir = dd_data_dir + f'sub_{i+1}of{ddfom.n_sub}/'\n",
    "    uv_intr = pickle.load(open(sub_dir + f'interior/mu_{mu}_uv_state.p', 'rb'))\n",
    "    runtime = uv_intr['runtime']\n",
    "    uv_intr = uv_intr['solution']\n",
    "    u_intr.append(uv_intr[:, :s.interior.indices.size])\n",
    "    v_intr.append(uv_intr[:, s.interior.indices.size:])\n",
    "    \n",
    "    uv_intf = pickle.load(open(sub_dir + f'interface/mu_{mu}_uv_state.p', 'rb'))\n",
    "    runtime = uv_intf['runtime']\n",
    "    uv_intf = uv_intf['solution']\n",
    "    u_intf.append(uv_intf[:, :s.interface.indices.size])\n",
    "    v_intf.append(uv_intf[:, s.interface.indices.size:])"
   ]
  },
  {
   "cell_type": "code",
   "execution_count": 11,
   "metadata": {},
   "outputs": [],
   "source": [
    "# u_full, v_full, u_intr, v_intr, u_intf, v_intf, lam, runtime = ddfom.solve(tol=1e-9, maxit=15)"
   ]
  },
  {
   "cell_type": "code",
   "execution_count": 12,
   "metadata": {},
   "outputs": [
    {
     "name": "stdout",
     "output_type": "stream",
     "text": [
      "DD FOM absolute error = 9.8773e-18\n"
     ]
    }
   ],
   "source": [
    "abserr = np.zeros(ddfom.nt+1)\n",
    "for i, s in enumerate(ddfom.subdomain):\n",
    "    abserr += np.sum(np.square(uu[:, s.interior.indices]-u_intr[i]), 1) + \\\n",
    "              np.sum(np.square(vv[:, s.interior.indices]-v_intr[i]), 1) + \\\n",
    "              np.sum(np.square(uu[:, s.interface.indices]-u_intf[i]), 1) + \\\n",
    "              np.sum(np.square(vv[:, s.interface.indices]-v_intf[i]), 1)\n",
    "    \n",
    "abserr = np.max(np.sqrt(ddfom.hx*ddfom.hy*abserr/ddfom.n_sub))\n",
    "print(f'DD FOM absolute error = {abserr:1.4e}')"
   ]
  },
  {
   "cell_type": "code",
   "execution_count": 13,
   "metadata": {},
   "outputs": [
    {
     "name": "stdout",
     "output_type": "stream",
     "text": [
      "DD FOM relative error = 5.0786e-17\n"
     ]
    }
   ],
   "source": [
    "num = np.zeros(ddfom.nt+1)\n",
    "den = np.zeros(ddfom.nt+1)\n",
    "for i, s in enumerate(ddfom.subdomain):\n",
    "    num += np.sum(np.square(uu[:, s.interior.indices]-u_intr[i]), 1) + \\\n",
    "           np.sum(np.square(vv[:, s.interior.indices]-v_intr[i]), 1) + \\\n",
    "           np.sum(np.square(uu[:, s.interface.indices]-u_intf[i]), 1) + \\\n",
    "           np.sum(np.square(vv[:, s.interface.indices]-v_intf[i]), 1)\n",
    "    den += np.sum(np.square(uu[:, s.interior.indices]), 1) + \\\n",
    "           np.sum(np.square(vv[:, s.interior.indices]), 1) + \\\n",
    "           np.sum(np.square(uu[:, s.interface.indices]), 1) + \\\n",
    "           np.sum(np.square(vv[:, s.interface.indices]), 1)\n",
    "relerr = np.max(np.sqrt(num))/np.max(np.sqrt(den))\n",
    "print(f'DD FOM relative error = {relerr:1.4e}')"
   ]
  },
  {
   "cell_type": "code",
   "execution_count": null,
   "metadata": {},
   "outputs": [],
   "source": []
  },
  {
   "cell_type": "code",
   "execution_count": null,
   "metadata": {},
   "outputs": [],
   "source": []
  }
 ],
 "metadata": {
  "kernelspec": {
   "display_name": "Open-CE-1.7.2",
   "language": "python",
   "name": "opence-1.7.2-cuda-11.4"
  },
  "language_info": {
   "codemirror_mode": {
    "name": "ipython",
    "version": 3
   },
   "file_extension": ".py",
   "mimetype": "text/x-python",
   "name": "python",
   "nbconvert_exporter": "python",
   "pygments_lexer": "ipython3",
   "version": "3.9.15"
  }
 },
 "nbformat": 4,
 "nbformat_minor": 4
}
