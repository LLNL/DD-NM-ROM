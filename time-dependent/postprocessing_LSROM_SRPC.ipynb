{
 "cells": [
  {
   "cell_type": "markdown",
   "metadata": {},
   "source": [
    "# postprocessing_LSROM_SRPC\n",
    "Notebook to postprocess DD FOM and DD LS-ROM solution data (e.g, computing errors, making plots)   \n",
    "Author: Alejandro Diaz  \n",
    "Date:  1/18/2024"
   ]
  },
  {
   "cell_type": "code",
   "execution_count": 1,
   "metadata": {},
   "outputs": [],
   "source": [
    "import numpy as np\n",
    "import matplotlib.pyplot as plt\n",
    "import matplotlib.animation as animation\n",
    "import scipy.sparse as sp\n",
    "import scipy.linalg as la\n",
    "from time import time\n",
    "from utils.Burgers2D_probgen import Burgers2D\n",
    "from utils.helpers import sp_diag\n",
    "from utils.domain_decomposition import subdomain_indices, state_component, DD_FOM, DDFOM_data, subdomain_data\n",
    "from utils.lsrom import compute_bases_from_svd, DD_LSROM, assemble_snapshot_matrix\n",
    "from IPython.display import HTML, Image\n",
    "from utils.solvers import newton_solve\n",
    "import sys, os\n",
    "import dill as pickle"
   ]
  },
  {
   "cell_type": "code",
   "execution_count": 2,
   "metadata": {},
   "outputs": [],
   "source": [
    "plt.rc('font', size=20)\n",
    "plt.rcParams['lines.linewidth'] = 4\n",
    "plt.rcParams['text.usetex'] = True"
   ]
  },
  {
   "cell_type": "code",
   "execution_count": 3,
   "metadata": {},
   "outputs": [],
   "source": [
    "# make directories for figures and data\n",
    "data_dir = './data/'\n",
    "fig_dir0 = './figures/'\n",
    "for d in [data_dir, fig_dir0]:\n",
    "    if not os.path.exists(d): os.mkdir(d)"
   ]
  },
  {
   "cell_type": "markdown",
   "metadata": {},
   "source": [
    "## Set FOM parameters, initial condition"
   ]
  },
  {
   "cell_type": "code",
   "execution_count": 4,
   "metadata": {},
   "outputs": [],
   "source": [
    "# parameters for physical domain and FD discretization\n",
    "x_lim = [0, 1]\n",
    "y_lim = [0, 1]\n",
    "nx, ny    = 60, 60\n",
    "viscosity = 1e-2\n",
    "\n",
    "# number of subdomains in x and y directions\n",
    "nsub_x, nsub_y = 4, 2\n",
    "nsub = nsub_x*nsub_y\n",
    "\n",
    "# time integration parameters\n",
    "nt    = 1000\n",
    "t_lim = [0, 2]\n",
    "ht    = (t_lim[1]-t_lim[0])/nt\n",
    "\n",
    "# parameter for initial condition\n",
    "mu = 1.0"
   ]
  },
  {
   "cell_type": "code",
   "execution_count": 5,
   "metadata": {},
   "outputs": [],
   "source": [
    "# parameterized initial conditions\n",
    "def u0(XY, mu):\n",
    "    val = np.zeros(len(XY))\n",
    "    for i, xy in enumerate(XY):\n",
    "        if np.all([xy[0] >= 0.0, xy[0] <= 0.5, xy[1] >= 0.0, xy[1] <= 0.5]):\n",
    "            val[i] = mu*np.sin(2*np.pi*xy[0])*np.sin(2*np.pi*xy[1])\n",
    "    return val \n",
    "\n",
    "def v0(XY, mu):\n",
    "    val = np.zeros(len(XY))\n",
    "    for i, xy in enumerate(XY):\n",
    "        if np.all([xy[0] >= 0.0, xy[0] <= 0.5, xy[1] >= 0.0, xy[1] <= 0.5]):\n",
    "            val[i] = mu*np.sin(2*np.pi*xy[0])*np.sin(2*np.pi*xy[1])\n",
    "    return val "
   ]
  },
  {
   "cell_type": "markdown",
   "metadata": {},
   "source": [
    "## Initialize monolithic FOM and DD FOM"
   ]
  },
  {
   "cell_type": "code",
   "execution_count": 6,
   "metadata": {},
   "outputs": [
    {
     "name": "stdout",
     "output_type": "stream",
     "text": [
      "Initializing Burgers model...\n",
      "Done!\n"
     ]
    }
   ],
   "source": [
    "# initialize model\n",
    "print('Initializing Burgers model...')\n",
    "sys.stdout.flush()\n",
    "fom = Burgers2D(nx, ny, x_lim, y_lim, viscosity)\n",
    "print('Done!')"
   ]
  },
  {
   "cell_type": "code",
   "execution_count": 7,
   "metadata": {},
   "outputs": [],
   "source": [
    "# initialize DD FOM\n",
    "ddfom = DD_FOM(fom, nsub_x, nsub_y)\n",
    "ddfom.set_initial(lambda xy: u0(xy, mu), lambda xy: v0(xy, mu))"
   ]
  },
  {
   "cell_type": "markdown",
   "metadata": {},
   "source": [
    "## Load FOM solution"
   ]
  },
  {
   "cell_type": "code",
   "execution_count": 8,
   "metadata": {},
   "outputs": [],
   "source": [
    "ddfom_data = DDFOM_data(nx, ny, nt, viscosity, mu, nsub_x, nsub_y, data_dir)\n",
    "ddfom_data.assemble_full_solution(ddfom)"
   ]
  },
  {
   "cell_type": "code",
   "execution_count": 9,
   "metadata": {},
   "outputs": [
    {
     "data": {
      "text/plain": [
       "(1001, 60, 60)"
      ]
     },
     "execution_count": 9,
     "metadata": {},
     "output_type": "execute_result"
    }
   ],
   "source": [
    "ddfom_data.UU.shape"
   ]
  },
  {
   "cell_type": "markdown",
   "metadata": {},
   "source": [
    "## Load LS-ROM solution"
   ]
  },
  {
   "cell_type": "code",
   "execution_count": 10,
   "metadata": {},
   "outputs": [],
   "source": [
    "# energy criteria for interior and interface bases\n",
    "ec_res  = 1e-16\n",
    "ec_intr = 1e-8\n",
    "ec_intf = 1e-8\n",
    "ec_port = 1e-8\n",
    "\n",
    "# interior, interface, port basis size. set to -1 to use energy criterion\n",
    "nbasis_res  = -1\n",
    "nbasis_intr = 4\n",
    "nbasis_intf = 8\n",
    "nbasis_port = 2\n",
    "\n",
    "# use full subdomain bases\n",
    "full_sub = False\n",
    "\n",
    "# constraint type\n",
    "con_type      = 'srpc'        # 'srpc' (strong ROM-port constraints) or 'wfpc' (weak FOM-port constraints)\n",
    "n_constraints = 1             # number of constraints for WFPC formulation\n",
    "\n",
    "# hyper reduction\n",
    "hr           = True\n",
    "sample_ratio = 2.0\n",
    "n_samples    = -1"
   ]
  },
  {
   "cell_type": "code",
   "execution_count": 11,
   "metadata": {},
   "outputs": [],
   "source": [
    "class DDLSROM_data(DDFOM_data):\n",
    "    def __init__(self, nx, ny, nt, viscosity, mu, nsub_x, nsub_y,\n",
    "                ec_intr, ec_intf, ec_port, nbasis_intr, nbasis_intf, nbasis_port, full_sub, \n",
    "                con_type, n_constraints, hr, sample_ratio, n_samples, data_dir):\n",
    "        \n",
    "        self.nx   = nx\n",
    "        self.ny   = ny\n",
    "        self.nt   = nt\n",
    "        self.viscosity = viscosity\n",
    "        self.mu   = mu\n",
    "        self.nsub_x = nsub_x\n",
    "        self.nsub_y = nsub_y\n",
    "        self.nsub = nsub_x*nsub_y\n",
    "        self.nxy  = nx*ny\n",
    "        \n",
    "        # assemble file locations\n",
    "        data_dir2 = data_dir + f'nx_{nx}_ny_{ny}_nt_{nt}_visc_{viscosity}/DD_{nsub_x}x_by_{nsub_y}y/' \n",
    "        con_dir  = 'srpc/' if con_type == 'srpc' else f'wfpc_ncon_{n_constraints}/'\n",
    "        intr_str = f'ecintr_{ec_intr:1.0e}_' if nbasis_intr < 0 else f'intr_{nbasis_intr}_'\n",
    "        if con_type == 'srpc':\n",
    "            intf_str = f'ecport_{ec_port:1.0e}_' if nbasis_port < 0 else f'port_{nbasis_port}_'\n",
    "        else:\n",
    "            intf_str = f'ecintf_{ec_intf:1.0e}_' if nbasis_intf < 0 else f'intf_{nbasis_intf}_'\n",
    "        if hr:\n",
    "            hr_str = f'hr_{n_samples}_' if n_samples > 0 else f'hr_{sample_ratio}x_'\n",
    "        else:\n",
    "            hr_str = ''\n",
    "    \n",
    "        self.subdomain = []\n",
    "        for i in range(self.nsub):\n",
    "            sub_dir  = data_dir2 + f'sub_{i+1}of{self.nsub}/'\n",
    "            intr_dir = sub_dir + 'interior/' + con_dir\n",
    "            intf_dir = sub_dir + 'interface/' + con_dir\n",
    "\n",
    "            intr_filename = intr_dir + f'lsrom_{intr_str}{hr_str}mu_{mu}_state.p'\n",
    "            intf_filename = intf_dir + f'lsrom_{intf_str}{hr_str}mu_{mu}_state.p'\n",
    "\n",
    "            intr_dict = pickle.load(open(intr_filename, 'rb'))\n",
    "            intf_dict = pickle.load(open(intf_filename, 'rb'))\n",
    "    \n",
    "            self.subdomain.append(subdomain_data(intr_dict, intf_dict))\n",
    "        \n",
    "        self.runtime = self.subdomain[0].interior.runtime\n",
    "        self.nt      = self.subdomain[0].interior.u.shape[0]-1\n",
    "        print(f'DD LS-ROM stopped after {self.nt} time steps.')\n",
    "    \n",
    "    def compute_error(self, ddfom):\n",
    "        # Compute error\n",
    "        abserr = np.zeros(self.nt+1)\n",
    "        for i, s in enumerate(self.subdomain):\n",
    "            abserr += np.sum(np.square(ddfom.subdomain[i].interior.u[:self.nt+1]-s.interior.u), 1) + \\\n",
    "                      np.sum(np.square(ddfom.subdomain[i].interior.v[:self.nt+1]-s.interior.v), 1) + \\\n",
    "                      np.sum(np.square(ddfom.subdomain[i].interface.u[:self.nt+1]-s.interface.u), 1) + \\\n",
    "                      np.sum(np.square(ddfom.subdomain[i].interface.v[:self.nt+1]-s.interface.v), 1)\n",
    "\n",
    "        abserr = np.sqrt(abserr/self.nsub/self.nxy)\n",
    "        maxk   = abserr.argmax()\n",
    "        abserr = abserr.max()\n",
    "        print(f'Absolute error = {abserr:1.4e}')\n",
    "        print(f'max error tk   = {maxk}')\n",
    "        print(f'FOM runtime    = {ddfom.runtime:1.3e} seconds')\n",
    "        print(f'ROM runtime    = {self.runtime:1.3e} seconds')\n",
    "        print(f'Speedup        = {ddfom.runtime/self.runtime}')\n",
    "        return maxk, abserr"
   ]
  },
  {
   "cell_type": "code",
   "execution_count": 12,
   "metadata": {},
   "outputs": [
    {
     "name": "stdout",
     "output_type": "stream",
     "text": [
      "DD LS-ROM stopped after 1000 time steps.\n",
      "Absolute error = 7.7237e-03\n",
      "max error tk   = 198\n",
      "FOM runtime    = 5.214e+02 seconds\n",
      "ROM runtime    = 1.745e+01 seconds\n",
      "Speedup        = 29.88779395289713\n"
     ]
    }
   ],
   "source": [
    "ddlsrom_data = DDLSROM_data(nx, ny, nt, viscosity, mu, nsub_x, nsub_y,\n",
    "                ec_intr, ec_intf, ec_port, nbasis_intr, nbasis_intf, nbasis_port, full_sub, \n",
    "                con_type, n_constraints, hr, sample_ratio, n_samples, data_dir)\n",
    "ddlsrom_data.assemble_full_solution(ddfom)\n",
    "maxk, abserr = ddlsrom_data.compute_error(ddfom_data)"
   ]
  },
  {
   "cell_type": "code",
   "execution_count": 18,
   "metadata": {},
   "outputs": [
    {
     "data": {
      "text/plain": [
       "(8160, 144)"
      ]
     },
     "execution_count": 18,
     "metadata": {},
     "output_type": "execute_result"
    }
   ],
   "source": [
    "fomdof = 0\n",
    "romdof = 0\n",
    "for s in ddlsrom_data.subdomain: \n",
    "    fomdof += s.interior.basis.shape[0]+s.interface.basis.shape[0]\n",
    "    romdof += s.interior.basis.shape[1]+s.interface.basis.shape[1]\n",
    "fomdof, romdof"
   ]
  },
  {
   "cell_type": "markdown",
   "metadata": {},
   "source": [
    "## View solution"
   ]
  },
  {
   "cell_type": "code",
   "execution_count": 13,
   "metadata": {},
   "outputs": [],
   "source": [
    "# frame updater for animation\n",
    "umin = np.min([s.interior.u.min() for s in ddfom_data.subdomain]+\n",
    "              [s.interface.u.min() for s in ddfom_data.subdomain])\n",
    "umax = np.max([s.interior.u.max() for s in ddfom_data.subdomain]+\n",
    "              [s.interface.u.max() for s in ddfom_data.subdomain])\n",
    "vmin = np.min([s.interior.v.min() for s in ddfom_data.subdomain]+\n",
    "              [s.interface.v.min() for s in ddfom_data.subdomain])\n",
    "vmax = np.max([s.interior.v.max() for s in ddfom_data.subdomain]+\n",
    "              [s.interface.v.max() for s in ddfom_data.subdomain])\n",
    "\n",
    "X, Y = np.meshgrid(fom.xx, fom.yy)\n",
    "def update_frame(i, Z, zmin, zmax, cb_label):\n",
    "    plt.clf()\n",
    "    plt.pcolormesh(X, Y, Z[i], cmap='viridis', shading='auto', vmin=zmin, vmax=zmax) \n",
    "#     plt.xlabel('$x$')\n",
    "#     plt.ylabel('$y$')\n",
    "#     plt.title('$t_{'+f'{i:4d}'+'}' + f'={ht*i+t_lim[0]:1.4f}$')\n",
    "    cb = plt.colorbar(orientation='vertical')#, label=cb_label)\n",
    "    return plt"
   ]
  },
  {
   "cell_type": "code",
   "execution_count": 14,
   "metadata": {},
   "outputs": [],
   "source": [
    "con_dir   = 'srpc/' if con_type == 'srpc' else f'wfpc_ncon_{n_constraints}/'\n",
    "fom_figs =  f'./figures/nx_{nx}_ny_{ny}_nt_{nt}_visc_{viscosity}/mu_{mu}/ddfom_{nsub_x}x_by_{nsub_y}y/'\n",
    "rom_figs =  f'./figures/nx_{nx}_ny_{ny}_nt_{nt}_visc_{viscosity}/mu_{mu}/ddlsrom_{nsub_x}x_by_{nsub_y}y/{con_dir}snapshots/'\n",
    "if not os.path.exists(rom_figs):os.mkdir(rom_figs)\n",
    "    \n",
    "intr_str = f'ecintr_{ec_intr:1.0e}_' if nbasis_intr < 0 else f'intr_{nbasis_intr}_'\n",
    "if con_type == 'srpc':\n",
    "    intf_str = f'ecport_{ec_port:1.0e}_' if nbasis_port < 0 else f'port_{nbasis_port}_'\n",
    "else:\n",
    "    intf_str = f'ecintf_{ec_intf:1.0e}_' if nbasis_intf < 0 else f'intf_{nbasis_intf}_'\n",
    "    \n",
    "hr_str    = f'hr_{sample_ratio}x_' if hr else ''"
   ]
  },
  {
   "cell_type": "code",
   "execution_count": 15,
   "metadata": {
    "scrolled": false
   },
   "outputs": [
    {
     "name": "stdout",
     "output_type": "stream",
     "text": [
      "Max error = 0.16892575216718103\n",
      "argmax k  = 198\n"
     ]
    },
    {
     "data": {
      "image/png": "[encoded data removed]",
      "text/plain": [
       "<Figure size 640x480 with 2 Axes>"
      ]
     },
     "metadata": {},
     "output_type": "display_data"
    },
    {
     "data": {
      "image/png": "[encoded data removed]",
      "text/plain": [
       "<Figure size 640x480 with 2 Axes>"
      ]
     },
     "metadata": {},
     "output_type": "display_data"
    },
    {
     "data": {
      "image/png": "[encoded data removed]",
      "text/plain": [
       "<Figure size 640x480 with 2 Axes>"
      ]
     },
     "metadata": {},
     "output_type": "display_data"
    }
   ],
   "source": [
    "tk     = maxk\n",
    "\n",
    "prefix = rom_figs + f't{tk}_{intr_str}{intf_str}{hr_str}'\n",
    "error  = np.abs(ddfom_data.UU - ddlsrom_data.UU)\n",
    "\n",
    "max_error = error.max() #0.9758983174638546\n",
    "\n",
    "print(f'Max error = {error.max()}')\n",
    "print(f'argmax k  = {maxk}')\n",
    "\n",
    "update_frame(tk, ddlsrom_data.UU, umin, umax, '$u(t, x, y)$')\n",
    "plt.savefig(prefix + \"u_state.png\", bbox_inches='tight', pad_inches=0.1)\n",
    "plt.show()\n",
    "\n",
    "update_frame(tk, ddfom_data.UU, umin, umax, '$u(t, x, y)$')\n",
    "plt.savefig(fom_figs+f't{tk}_u_state.png', bbox_inches='tight', pad_inches=0.1)\n",
    "plt.show()\n",
    "\n",
    "update_frame(tk, error, 0.0, max_error, 'error')\n",
    "plt.savefig(prefix + f\"error_max{max_error:1.3e}.png\", bbox_inches='tight', pad_inches=0.1)\n",
    "plt.show()"
   ]
  },
  {
   "cell_type": "markdown",
   "metadata": {},
   "source": [
    "## Sandbox"
   ]
  },
  {
   "cell_type": "code",
   "execution_count": 16,
   "metadata": {},
   "outputs": [],
   "source": [
    "me_srpc = 0.016550346384635276\n",
    "me_wfpc = 0.9913668126427289"
   ]
  },
  {
   "cell_type": "code",
   "execution_count": 17,
   "metadata": {},
   "outputs": [],
   "source": [
    "tk_wfpc = maxk"
   ]
  },
  {
   "cell_type": "code",
   "execution_count": 18,
   "metadata": {},
   "outputs": [],
   "source": [
    "data_dir2 = data_dir + f'nx_{nx}_ny_{ny}_nt_{nt}_visc_{viscosity}/DD_{nsub_x}x_by_{nsub_y}y/' \n",
    "hrfile = data_dir2 + f'{intr_str}{intf_str}{hr_str}ithist.p'\n",
    "file = data_dir2 + f'{intr_str}{intf_str}ithist.p'\n",
    "\n",
    "it_hist = pickle.load(open(file, 'rb'))\n",
    "it_hist_hr = pickle.load(open(hrfile, 'rb'))"
   ]
  },
  {
   "cell_type": "code",
   "execution_count": 19,
   "metadata": {},
   "outputs": [
    {
     "data": {
      "image/png": "[encoded data removed]",
      "text/plain": [
       "<Figure size 600x500 with 1 Axes>"
      ]
     },
     "metadata": {},
     "output_type": "display_data"
    }
   ],
   "source": [
    "plt.figure(figsize=(6, 5))\n",
    "plt.hist([it_hist, it_hist_hr], label=['No HR', 'HR'])\n",
    "plt.xlabel('SQP iterations per time step')\n",
    "plt.ylabel('Number of time steps')\n",
    "plt.title(f'{nsub_x} x {nsub_y}')\n",
    "plt.legend(loc='best')\n",
    "plt.savefig(rom_figs + f'{intr_str}{intf_str}iter_histogram.png', bbox_inches='tight', pad_inches=0.1)\n",
    "plt.show()"
   ]
  },
  {
   "cell_type": "code",
   "execution_count": 22,
   "metadata": {},
   "outputs": [
    {
     "data": {
      "text/plain": [
       "1.254"
      ]
     },
     "execution_count": 22,
     "metadata": {},
     "output_type": "execute_result"
    }
   ],
   "source": [
    "np.mean(it_hist)"
   ]
  },
  {
   "cell_type": "code",
   "execution_count": 23,
   "metadata": {},
   "outputs": [
    {
     "data": {
      "text/plain": [
       "1.196"
      ]
     },
     "execution_count": 23,
     "metadata": {},
     "output_type": "execute_result"
    }
   ],
   "source": [
    "np.mean(it_hist_hr)"
   ]
  },
  {
   "cell_type": "code",
   "execution_count": null,
   "metadata": {},
   "outputs": [],
   "source": []
  }
 ],
 "metadata": {
  "kernelspec": {
   "display_name": "Open-CE-1.7.2",
   "language": "python",
   "name": "opence-1.7.2-cuda-11.4"
  },
  "language_info": {
   "codemirror_mode": {
    "name": "ipython",
    "version": 3
   },
   "file_extension": ".py",
   "mimetype": "text/x-python",
   "name": "python",
   "nbconvert_exporter": "python",
   "pygments_lexer": "ipython3",
   "version": "3.9.15"
  }
 },
 "nbformat": 4,
 "nbformat_minor": 4
}
