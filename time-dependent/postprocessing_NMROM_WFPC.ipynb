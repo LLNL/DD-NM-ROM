{
 "cells": [
  {
   "cell_type": "markdown",
   "metadata": {},
   "source": [
    "# postprocessing_NMROM_WFPC\n",
    "Notebook to postprocess DD FOM and DD NM-ROM solution data (e.g, computing errors, making plots)   \n",
    "Author: Alejandro Diaz  \n",
    "Date:  3/15/2024"
   ]
  },
  {
   "cell_type": "code",
   "execution_count": 1,
   "metadata": {},
   "outputs": [
    {
     "name": "stderr",
     "output_type": "stream",
     "text": [
      "/usr/workspace/diaz64/anaconda/envs/opence-1.7.2-cuda-11.4/lib/python3.9/site-packages/tqdm/auto.py:22: TqdmWarning: IProgress not found. Please update jupyter and ipywidgets. See https://ipywidgets.readthedocs.io/en/stable/user_install.html\n",
      "  from .autonotebook import tqdm as notebook_tqdm\n"
     ]
    }
   ],
   "source": [
    "import numpy as np\n",
    "import matplotlib.pyplot as plt\n",
    "import matplotlib.animation as animation\n",
    "import scipy.sparse as sp\n",
    "import scipy.linalg as la\n",
    "from time import time\n",
    "from utils.Burgers2D_probgen import Burgers2D\n",
    "from utils.helpers import sp_diag\n",
    "from utils.domain_decomposition import DD_FOM, DDFOM_data\n",
    "from utils.lsrom import assemble_snapshot_matrix, compute_bases_from_svd\n",
    "from utils.nmrom import DD_NMROM, dd_rbf\n",
    "from IPython.display import HTML, Image\n",
    "from utils.solvers import newton_solve\n",
    "import sys, os, torch\n",
    "import dill as pickle"
   ]
  },
  {
   "cell_type": "code",
   "execution_count": 2,
   "metadata": {},
   "outputs": [],
   "source": [
    "plt.rc('font', size=20)\n",
    "plt.rcParams['lines.linewidth'] = 4\n",
    "plt.rcParams['text.usetex'] = True"
   ]
  },
  {
   "cell_type": "code",
   "execution_count": 3,
   "metadata": {},
   "outputs": [],
   "source": [
    "# make directories for figures and data\n",
    "data_dir = './data/'\n",
    "fig_dir0 = './figures/'\n",
    "for d in [data_dir, fig_dir0]:\n",
    "    if not os.path.exists(d): os.mkdir(d)"
   ]
  },
  {
   "cell_type": "markdown",
   "metadata": {},
   "source": [
    "## Set FOM parameters, initial condition"
   ]
  },
  {
   "cell_type": "code",
   "execution_count": 4,
   "metadata": {},
   "outputs": [],
   "source": [
    "# parameters for physical domain and FD discretization\n",
    "x_lim = [0, 1]\n",
    "y_lim = [0, 1]\n",
    "nx, ny    = 60, 60\n",
    "viscosity = 1e-2\n",
    "\n",
    "# number of subdomains in x and y directions\n",
    "nsub_x, nsub_y = 2, 1\n",
    "nsub = nsub_x*nsub_y\n",
    "\n",
    "# time integration parameters\n",
    "nt    = 1000\n",
    "t_lim = [0, 2]\n",
    "ht    = (t_lim[1]-t_lim[0])/nt\n",
    "\n",
    "# parameter for initial condition\n",
    "mu = 1.0"
   ]
  },
  {
   "cell_type": "code",
   "execution_count": 5,
   "metadata": {},
   "outputs": [],
   "source": [
    "# parameterized initial conditions\n",
    "def u0(XY, mu):\n",
    "    val = np.zeros(len(XY))\n",
    "    for i, xy in enumerate(XY):\n",
    "        if np.all([xy[0] >= 0.0, xy[0] <= 0.5, xy[1] >= 0.0, xy[1] <= 0.5]):\n",
    "            val[i] = mu*np.sin(2*np.pi*xy[0])*np.sin(2*np.pi*xy[1])\n",
    "    return val \n",
    "\n",
    "def v0(XY, mu):\n",
    "    val = np.zeros(len(XY))\n",
    "    for i, xy in enumerate(XY):\n",
    "        if np.all([xy[0] >= 0.0, xy[0] <= 0.5, xy[1] >= 0.0, xy[1] <= 0.5]):\n",
    "            val[i] = mu*np.sin(2*np.pi*xy[0])*np.sin(2*np.pi*xy[1])\n",
    "    return val "
   ]
  },
  {
   "cell_type": "markdown",
   "metadata": {},
   "source": [
    "## Initialize monolithic FOM and DD FOM"
   ]
  },
  {
   "cell_type": "code",
   "execution_count": 6,
   "metadata": {},
   "outputs": [
    {
     "name": "stdout",
     "output_type": "stream",
     "text": [
      "Initializing Burgers model...\n",
      "Done!\n"
     ]
    }
   ],
   "source": [
    "# initialize model\n",
    "print('Initializing Burgers model...')\n",
    "sys.stdout.flush()\n",
    "fom = Burgers2D(nx, ny, x_lim, y_lim, viscosity)\n",
    "print('Done!')"
   ]
  },
  {
   "cell_type": "code",
   "execution_count": 7,
   "metadata": {},
   "outputs": [],
   "source": [
    "# initialize DD FOM\n",
    "ddfom = DD_FOM(fom, nsub_x, nsub_y)\n",
    "ddfom.set_initial(lambda xy: u0(xy, mu), lambda xy: v0(xy, mu))"
   ]
  },
  {
   "cell_type": "markdown",
   "metadata": {},
   "source": [
    "## Load FOM solution"
   ]
  },
  {
   "cell_type": "code",
   "execution_count": 8,
   "metadata": {},
   "outputs": [],
   "source": [
    "ddfom_data = DDFOM_data(nx, ny, nt, viscosity, mu, nsub_x, nsub_y, data_dir)\n",
    "ddfom_data.assemble_full_solution(ddfom)"
   ]
  },
  {
   "cell_type": "markdown",
   "metadata": {},
   "source": [
    "## Build NM-ROM"
   ]
  },
  {
   "cell_type": "code",
   "execution_count": 9,
   "metadata": {},
   "outputs": [],
   "source": [
    "# parameters for NM-ROM components\n",
    "intr_dict = {'comp': 'intr',\n",
    "             'size':   4, \n",
    "             'rnnz':   5, \n",
    "             'rshift': 5,\n",
    "             'act':    'Swish',\n",
    "             'loss':   'RelMSE',\n",
    "             'batch':  32,\n",
    "             'wd':     1e-6}\n",
    "\n",
    "intf_dict = {'comp': 'intf',\n",
    "             'size':   2, \n",
    "             'rnnz':   5, \n",
    "             'rshift': 5,\n",
    "             'act':    'Swish',\n",
    "             'loss':   'RelMSE',\n",
    "             'batch':  32,\n",
    "             'wd':     1e-6}\n",
    "\n",
    "port_dict = {'comp': 'port',\n",
    "             'size':   2, \n",
    "             'rnnz':   5, \n",
    "             'rshift': 5,\n",
    "             'act':    'Swish',\n",
    "             'loss':   'RelMSE',\n",
    "             'batch':  32,\n",
    "             'wd':     1e-6}\n",
    "\n",
    "# construct file and directory names for loading trained nets\n",
    "net_dir = f'./trained_nets/nx_{nx}_ny_{ny}_nt_{nt}_visc_{viscosity}/DD_{nsub_x}x_by_{nsub_y}y/'\n",
    "\n",
    "# constraint type\n",
    "constraint_type = 'wfpc'        # 'srpc' (strong ROM-port constraints) or 'wfpc' (weak FOM-port constraints)"
   ]
  },
  {
   "cell_type": "code",
   "execution_count": 10,
   "metadata": {},
   "outputs": [],
   "source": [
    "# load trained nets\n",
    "intr_ae_list, intf_ae_list, port_ae_list = [], [], []\n",
    "for i in range(nsub):\n",
    "    intr_file = f\"ld_{intr_dict['size']}_rnnz_{intr_dict['rnnz']}_rshift_{intr_dict['rshift']}_\"  + \\\n",
    "                f\"{intr_dict['act']}_batch_{intr_dict['batch']}_{intr_dict['loss']}loss_wd{intr_dict['wd']}.p\"\n",
    "    intr_dir = net_dir+f'sub_{i+1}of{nsub}/interior/'\n",
    "    intr_ae_list.append(torch.load(intr_dir+intr_file))\n",
    "\n",
    "if constraint_type == 'wfpc':\n",
    "    for i in range(nsub):\n",
    "        intf_file = f\"ld_{intf_dict['size']}_rnnz_{intf_dict['rnnz']}_rshift_{intf_dict['rshift']}_\"  + \\\n",
    "                f\"{intf_dict['act']}_batch_{intf_dict['batch']}_{intf_dict['loss']}loss_wd{intf_dict['wd']}.p\"\n",
    "        intf_dir = net_dir+f'sub_{i+1}of{nsub}/interface/'\n",
    "        intf_ae_list.append(torch.load(intf_dir+intf_file))\n",
    "else:\n",
    "    nports = len(ddfom.ports)\n",
    "    for i in range(nports):\n",
    "        port_file = f\"ld_{port_dict['size']}_rnnz_{port_dict['rnnz']}_rshift_{port_dict['rshift']}_\"  + \\\n",
    "                    f\"{port_dict['act']}_batch_{port_dict['batch']}_{port_dict['loss']}loss_wd{port_dict['wd']}.p\"\n",
    "        port_dir = net_dir + f'port_{i+1}of{nports}/'\n",
    "        port_ae_list.append(torch.load(port_dir+port_file))"
   ]
  },
  {
   "cell_type": "code",
   "execution_count": 11,
   "metadata": {},
   "outputs": [
    {
     "name": "stdout",
     "output_type": "stream",
     "text": [
      "Subdomain 0:\n",
      "residual_basis.shape  = (3600, 128)\n",
      "Subdomain 1:\n",
      "residual_basis.shape  = (3600, 131)\n"
     ]
    }
   ],
   "source": [
    "# compute residual bases\n",
    "ec_res     = 1e-16\n",
    "nbasis_res = -1\n",
    "\n",
    "res_bases = []\n",
    "data_dir2 = data_dir + f'nx_{nx}_ny_{ny}_nt_{nt}_visc_{viscosity}/DD_{nsub_x}x_by_{nsub_y}y/' \n",
    "for i in range(ddfom.n_sub):\n",
    "    sub_dir  = data_dir2 + f'sub_{i+1}of{ddfom.n_sub}/'\n",
    "    res_dict  = pickle.load(open(sub_dir  + f'residual_svd_data.p', 'rb'))\n",
    "    res_bases.append(compute_bases_from_svd(res_dict, ec=ec_res, nbasis=nbasis_res))\n",
    "    \n",
    "    print(f'Subdomain {i}:')\n",
    "    print(f'residual_basis.shape  = {res_bases[i].shape}')"
   ]
  },
  {
   "cell_type": "code",
   "execution_count": 12,
   "metadata": {},
   "outputs": [],
   "source": [
    "# NM-ROM parameters\n",
    "hr              = True       # set to True to employ hyper reduction\n",
    "hr_type         = 'collocation'\n",
    "n_constraints   = 1          # number of constraints when using wfpc formulation\n",
    "sample_ratio    = 2.0          # ratio of HR nodes to residual basis size\n",
    "n_samples       = -1         # number of HR nodes to use. -1 uses sample_ratio\n",
    "n_corners       = -1\n",
    "\n",
    "# port_ae_list = [intf_ae_list[0]]\n",
    "# constraint_type='srpc'\n",
    "\n",
    "ddnmrom = DD_NMROM(ddfom, \n",
    "                   intr_ae_list, \n",
    "                   intf_ae_list=intf_ae_list,\n",
    "                   port_ae_list=port_ae_list, \n",
    "                   res_bases=res_bases,\n",
    "                   constraint_type=constraint_type, \n",
    "                   hr=hr,\n",
    "                   hr_type=hr_type,\n",
    "                   sample_ratio=sample_ratio,\n",
    "                   n_samples=n_samples,\n",
    "                   n_corners=n_corners,\n",
    "                   n_constraints=n_constraints, \n",
    "                   seed=0)\n",
    "ddnmrom.set_initial(lambda xy: u0(xy, mu), lambda xy: v0(xy, mu))"
   ]
  },
  {
   "cell_type": "code",
   "execution_count": 13,
   "metadata": {},
   "outputs": [],
   "source": [
    "# # train rbf interpolant\n",
    "# mu_list = [0.9, 0.95, 1.05, 1.1]\n",
    "# data_dir0 = 'data/'\n",
    "# data_dir1 = data_dir0 + f'nx_{nx}_ny_{ny}_nt_{nt}_visc_{viscosity}/'\n",
    "# snapshots = assemble_snapshot_matrix(data_dir1, mu_list)\n",
    "# rbfmdl    = dd_rbf(ddnmrom, t_lim, nt, mu_list, snapshots, n_snaps=nt+1)"
   ]
  },
  {
   "cell_type": "code",
   "execution_count": 14,
   "metadata": {},
   "outputs": [],
   "source": [
    "# # compute intial guess using RBF interpolant\n",
    "# guess, rbftime = rbfmdl.compute_guess(t_lim, nt, mu, ddnmrom)"
   ]
  },
  {
   "cell_type": "markdown",
   "metadata": {},
   "source": [
    "## Load NM-ROM solution"
   ]
  },
  {
   "cell_type": "code",
   "execution_count": 15,
   "metadata": {},
   "outputs": [],
   "source": [
    "class component_nmrom_data:\n",
    "    def __init__(self,hr_str, mu, rom_dict, folder, component):\n",
    "        rom_str = f\"{rom_dict['comp']}_ld{rom_dict['size']}rnz{rom_dict['rnnz']}rs{rom_dict['rshift']}wd{rom_dict['wd']}{rom_dict['act']}_\"\n",
    "        fname   = folder + f\"nmrom_{rom_str}{hr_str}mu_{mu}_state.p\"\n",
    "\n",
    "        data = pickle.load(open(fname, 'rb'))\n",
    "        self.w = data['solution']\n",
    "        self.romsize = self.w.shape[1]   \n",
    "        self.runtime = data['runtime']\n",
    "        \n",
    "        self.fomsize = component.fomsize\n",
    "        uv = component.decoder.fwd(self.w)\n",
    "        self.u = uv[:, :self.fomsize]\n",
    "        self.v = uv[:, self.fomsize:]        "
   ]
  },
  {
   "cell_type": "code",
   "execution_count": 16,
   "metadata": {},
   "outputs": [],
   "source": [
    "class subdomain_nmrom_data:\n",
    "    def __init__(self, hr_str, mu, intr_dict, intf_dict, con_dir, sub_dir, subdomain):\n",
    "        intr_dir = sub_dir + 'interior/' + con_dir\n",
    "        intf_dir = sub_dir + 'interface/' + con_dir\n",
    "        \n",
    "        self.interior  = component_nmrom_data(hr_str, mu, intr_dict, intr_dir, subdomain.interior)\n",
    "        self.interface = component_nmrom_data(hr_str, mu, intf_dict, intf_dir, subdomain.interface)        "
   ]
  },
  {
   "cell_type": "code",
   "execution_count": 17,
   "metadata": {},
   "outputs": [],
   "source": [
    "class DDNMROM_data(DDFOM_data):\n",
    "    def __init__(self, ddnmrom, nx, ny, nt, viscosity, mu, nsub_x, nsub_y,\n",
    "                 intr_dict, intf_dict, \n",
    "                 con_type, hr, sample_ratio, data_dir):\n",
    "        self.nx   = nx\n",
    "        self.ny   = ny\n",
    "        self.nt   = nt\n",
    "        self.viscosity = viscosity\n",
    "        self.mu   = mu\n",
    "        self.nsub_x = nsub_x\n",
    "        self.nsub_y = nsub_y\n",
    "        self.nsub = nsub_x*nsub_y\n",
    "        self.nxy  = nx*ny\n",
    "        self.con_type = con_type\n",
    "        self.hr = hr\n",
    "        \n",
    "        data_dir1 = data_dir + f'nx_{nx}_ny_{ny}_nt_{nt}_visc_{viscosity}/DD_{nsub_x}x_by_{nsub_y}y/' \n",
    "        con_dir   = 'srpc/' if con_type == 'srpc' else f'wfpc_ncon_{n_constraints}/'\n",
    "        hr_str    = f'hr_{sample_ratio}x_' if hr else ''\n",
    "        \n",
    "        self.subdomain = []\n",
    "        for i, s in enumerate(ddnmrom.subdomain):\n",
    "            sub_dir = data_dir1 + f'sub_{i+1}of{self.nsub}/'\n",
    "            self.subdomain.append(subdomain_nmrom_data(hr_str, mu, intr_dict, intf_dict, con_dir, sub_dir, s))\n",
    "            \n",
    "        self.runtime = self.subdomain[0].interior.runtime\n",
    "        self.nt      = self.subdomain[0].interior.u.shape[0]-1\n",
    "        print(f'DD NM-ROM stopped after {self.nt} time steps.')\n",
    "    def compute_error(self, ddfom):\n",
    "        # Compute error\n",
    "        abserr = np.zeros(self.nt+1)\n",
    "        for i, s in enumerate(self.subdomain):\n",
    "            abserr += np.sum(np.square(ddfom.subdomain[i].interior.u[:self.nt+1]-s.interior.u), 1) + \\\n",
    "                      np.sum(np.square(ddfom.subdomain[i].interior.v[:self.nt+1]-s.interior.v), 1) + \\\n",
    "                      np.sum(np.square(ddfom.subdomain[i].interface.u[:self.nt+1]-s.interface.u), 1) + \\\n",
    "                      np.sum(np.square(ddfom.subdomain[i].interface.v[:self.nt+1]-s.interface.v), 1)\n",
    "        \n",
    "        abserr = np.sqrt(abserr/self.nsub/self.nxy)\n",
    "        maxk   = abserr.argmax()\n",
    "        abserr = abserr.max()\n",
    "        print(f'Absolute error = {abserr:1.3e}')\n",
    "        print(f'max error tk   = {maxk}')\n",
    "        print(f'FOM runtime    = {ddfom.runtime:1.3e} seconds')\n",
    "        print(f'ROM runtime    = {self.runtime:1.3e} seconds')\n",
    "        print(f'Speedup        = {ddfom.runtime/self.runtime}')\n",
    "        return maxk, abserr"
   ]
  },
  {
   "cell_type": "code",
   "execution_count": 19,
   "metadata": {},
   "outputs": [
    {
     "name": "stdout",
     "output_type": "stream",
     "text": [
      "DD NM-ROM stopped after 5 time steps.\n",
      "Absolute error = 4.929e-03\n",
      "max error tk   = 0\n",
      "FOM runtime    = 6.018e+02 seconds\n",
      "ROM runtime    = 2.895e+01 seconds\n",
      "Speedup        = 20.79010054911075\n"
     ]
    }
   ],
   "source": [
    "ddnmrom_data = DDNMROM_data(ddnmrom, nx, ny, nt, viscosity, mu, nsub_x, nsub_y,\n",
    "                            intr_dict, \n",
    "#                             port_dict, \n",
    "                            intf_dict, \n",
    "                            constraint_type, hr, sample_ratio, data_dir)\n",
    "ddnmrom_data.assemble_full_solution(ddfom)\n",
    "maxk, abserr = ddnmrom_data.compute_error(ddfom_data)"
   ]
  },
  {
   "cell_type": "markdown",
   "metadata": {},
   "source": [
    "## View solution"
   ]
  },
  {
   "cell_type": "code",
   "execution_count": 20,
   "metadata": {},
   "outputs": [],
   "source": [
    "# frame updater for animation\n",
    "umin = np.min([s.interior.u.min() for s in ddfom_data.subdomain]+\n",
    "              [s.interface.u.min() for s in ddfom_data.subdomain])\n",
    "umax = np.max([s.interior.u.max() for s in ddfom_data.subdomain]+\n",
    "              [s.interface.u.max() for s in ddfom_data.subdomain])\n",
    "vmin = np.min([s.interior.v.min() for s in ddfom_data.subdomain]+\n",
    "              [s.interface.v.min() for s in ddfom_data.subdomain])\n",
    "vmax = np.max([s.interior.v.max() for s in ddfom_data.subdomain]+\n",
    "              [s.interface.v.max() for s in ddfom_data.subdomain])\n",
    "\n",
    "X, Y = np.meshgrid(fom.xx, fom.yy)\n",
    "def update_frame(i, Z, zmin, zmax, cb_label):\n",
    "    plt.clf()\n",
    "    plt.pcolormesh(X, Y, Z[i], cmap='viridis', shading='auto', vmin=zmin, vmax=zmax) \n",
    "#     plt.xlabel('$x$')\n",
    "#     plt.ylabel('$y$')\n",
    "#     plt.title('$t_{'+f'{i:4d}'+'}' + f'={ht*i+t_lim[0]:1.4f}$')\n",
    "    cb = plt.colorbar(orientation='vertical')#, label=cb_label)\n",
    "    return plt"
   ]
  },
  {
   "cell_type": "code",
   "execution_count": 21,
   "metadata": {},
   "outputs": [],
   "source": [
    "con_dir   = 'srpc/' if constraint_type == 'srpc' else f'wfpc_ncon_{n_constraints}/'\n",
    "fom_figs =  f'./figures/nx_{nx}_ny_{ny}_nt_{nt}_visc_{viscosity}/mu_{mu}/ddfom_{nsub_x}x_by_{nsub_y}y/'\n",
    "rom_figs =  f'./figures/nx_{nx}_ny_{ny}_nt_{nt}_visc_{viscosity}/mu_{mu}/ddnmrom_{nsub_x}x_by_{nsub_y}y/{con_dir}snapshots/'\n",
    "if not os.path.exists(rom_figs):os.mkdir(rom_figs)\n",
    "    \n",
    "rom_str = {}\n",
    "for rd in [intr_dict, intf_dict, port_dict]:\n",
    "    rom_str[rd['comp']] = f\"{rd['comp']}_ld{rd['size']}rnz{rd['rnnz']}rs{rd['rshift']}wd{rd['wd']}{rd['act']}_\"\n",
    "    \n",
    "hr_str    = f'hr_{sample_ratio}x_' if hr else ''\n",
    "intf_comp = 'port' if constraint_type == 'srpc' else 'intf'"
   ]
  },
  {
   "cell_type": "code",
   "execution_count": 25,
   "metadata": {},
   "outputs": [
    {
     "name": "stdout",
     "output_type": "stream",
     "text": [
      "Max error = 0.03208476121316728\n",
      "argmax k  = 0\n"
     ]
    },
    {
     "data": {
      "image/png": "[encoded data removed]",
      "text/plain": [
       "<Figure size 640x480 with 2 Axes>"
      ]
     },
     "metadata": {},
     "output_type": "display_data"
    },
    {
     "data": {
      "image/png": "[encoded data removed]",
      "text/plain": [
       "<Figure size 640x480 with 2 Axes>"
      ]
     },
     "metadata": {},
     "output_type": "display_data"
    },
    {
     "data": {
      "image/png": "[encoded data removed]",
      "text/plain": [
       "<Figure size 640x480 with 2 Axes>"
      ]
     },
     "metadata": {},
     "output_type": "display_data"
    }
   ],
   "source": [
    "tk    = 5\n",
    "\n",
    "prefix = rom_figs + f\"t{tk}_{rom_str['intr']}{rom_str[intf_comp]}{hr_str}\"\n",
    "error = np.abs(ddfom_data.UU[:ddnmrom_data.nt+1] - ddnmrom_data.UU)\n",
    "\n",
    "max_error = error.max()\n",
    "\n",
    "print(f'Max error = {error.max()}')\n",
    "print(f'argmax k  = {maxk}')\n",
    "\n",
    "update_frame(tk, ddnmrom_data.UU, umin, umax, '$u(t, x, y)$')\n",
    "plt.savefig(prefix + \"u_state.png\", bbox_inches='tight', pad_inches=0.1)\n",
    "plt.show()\n",
    "\n",
    "update_frame(tk, ddfom_data.UU, umin, umax, '$u(t, x, y)$')\n",
    "plt.savefig(fom_figs+f't{tk}_u_state.png', bbox_inches='tight', pad_inches=0.1)\n",
    "plt.show()\n",
    "\n",
    "update_frame(tk, error, 0.0, max_error, 'error')\n",
    "plt.savefig(prefix + f\"error_max{max_error:1.3e}.png\", bbox_inches='tight', pad_inches=0.1)\n",
    "plt.show()"
   ]
  },
  {
   "cell_type": "markdown",
   "metadata": {},
   "source": [
    "## Sandbox"
   ]
  },
  {
   "cell_type": "code",
   "execution_count": null,
   "metadata": {},
   "outputs": [],
   "source": [
    "maxk"
   ]
  },
  {
   "cell_type": "code",
   "execution_count": null,
   "metadata": {},
   "outputs": [],
   "source": []
  }
 ],
 "metadata": {
  "kernelspec": {
   "display_name": "Open-CE-1.7.2",
   "language": "python",
   "name": "opence-1.7.2-cuda-11.4"
  },
  "language_info": {
   "codemirror_mode": {
    "name": "ipython",
    "version": 3
   },
   "file_extension": ".py",
   "mimetype": "text/x-python",
   "name": "python",
   "nbconvert_exporter": "python",
   "pygments_lexer": "ipython3",
   "version": "3.9.15"
  }
 },
 "nbformat": 4,
 "nbformat_minor": 4
}
