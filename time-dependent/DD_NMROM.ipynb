{
 "cells": [
  {
   "cell_type": "markdown",
   "metadata": {},
   "source": [
    "# DD_NMROM\n",
    "Notebook to implement and test DD NM-ROM on time-dependent 2D Burgers' equation.  \n",
    "Author: Alejandro Diaz  \n",
    "Date:  1/30/2024"
   ]
  },
  {
   "cell_type": "code",
   "execution_count": 1,
   "metadata": {},
   "outputs": [
    {
     "name": "stderr",
     "output_type": "stream",
     "text": [
      "/usr/workspace/diaz64/anaconda/envs/opence-1.7.2-cuda-11.4/lib/python3.9/site-packages/tqdm/auto.py:22: TqdmWarning: IProgress not found. Please update jupyter and ipywidgets. See https://ipywidgets.readthedocs.io/en/stable/user_install.html\n",
      "  from .autonotebook import tqdm as notebook_tqdm\n"
     ]
    }
   ],
   "source": [
    "import numpy as np\n",
    "import matplotlib.pyplot as plt\n",
    "import matplotlib.animation as animation\n",
    "import scipy.sparse as sp\n",
    "# import scipy.linalg as la\n",
    "# from time import time\n",
    "from utils.Burgers2D_probgen import Burgers2D\n",
    "from utils.domain_decomposition import DD_FOM, DDFOM_data\n",
    "from utils.lsrom import compute_bases_from_svd, assemble_snapshot_matrix\n",
    "from IPython.display import Image\n",
    "from utils.nmrom import DD_NMROM, dd_rbf\n",
    "# from time import time\n",
    "import sys, os, torch\n",
    "import dill as pickle"
   ]
  },
  {
   "cell_type": "code",
   "execution_count": 2,
   "metadata": {},
   "outputs": [],
   "source": [
    "plt.rc('font', size=20)\n",
    "plt.rcParams['lines.linewidth'] = 4\n",
    "plt.rcParams['text.usetex'] = True"
   ]
  },
  {
   "cell_type": "code",
   "execution_count": 3,
   "metadata": {},
   "outputs": [],
   "source": [
    "# make directories for figures and data\n",
    "data_dir = './data/'\n",
    "fig_dir0 = './figures/'\n",
    "for d in [data_dir, fig_dir0]:\n",
    "    if not os.path.exists(d): os.mkdir(d)"
   ]
  },
  {
   "cell_type": "markdown",
   "metadata": {},
   "source": [
    "## Set FOM parameters, initial condition"
   ]
  },
  {
   "cell_type": "code",
   "execution_count": 4,
   "metadata": {},
   "outputs": [],
   "source": [
    "# parameters for physical domain and FD discretization\n",
    "x_lim = [0, 1]\n",
    "y_lim = [0, 1]\n",
    "nx, ny    = 60, 60\n",
    "viscosity = 1e-2\n",
    "\n",
    "# number of subdomains in x and y directions\n",
    "nsub_x, nsub_y = 2, 1\n",
    "nsub = nsub_x*nsub_y\n",
    "\n",
    "# time integration parameters\n",
    "nt    = 1000\n",
    "t_lim = [0, 2]\n",
    "ht    = (t_lim[1]-t_lim[0])/nt\n",
    "\n",
    "# parameter for initial condition\n",
    "mu = 1.0\n",
    "\n",
    "scaling = -1"
   ]
  },
  {
   "cell_type": "code",
   "execution_count": 5,
   "metadata": {},
   "outputs": [],
   "source": [
    "# parameterized initial conditions\n",
    "def u0(XY, mu):\n",
    "    val = np.zeros(len(XY))\n",
    "    for i, xy in enumerate(XY):\n",
    "        if np.all([xy[0] >= 0.0, xy[0] <= 0.5, xy[1] >= 0.0, xy[1] <= 0.5]):\n",
    "            val[i] = mu*np.sin(2*np.pi*xy[0])*np.sin(2*np.pi*xy[1])\n",
    "    return val \n",
    "\n",
    "def v0(XY, mu):\n",
    "    val = np.zeros(len(XY))\n",
    "    for i, xy in enumerate(XY):\n",
    "        if np.all([xy[0] >= 0.0, xy[0] <= 0.5, xy[1] >= 0.0, xy[1] <= 0.5]):\n",
    "            val[i] = mu*np.sin(2*np.pi*xy[0])*np.sin(2*np.pi*xy[1])\n",
    "    return val "
   ]
  },
  {
   "cell_type": "markdown",
   "metadata": {},
   "source": [
    "## Initialize monolithic FOM and DD FOM"
   ]
  },
  {
   "cell_type": "code",
   "execution_count": 6,
   "metadata": {},
   "outputs": [
    {
     "name": "stdout",
     "output_type": "stream",
     "text": [
      "Initializing Burgers model...\n",
      "Done!\n"
     ]
    }
   ],
   "source": [
    "# initialize model\n",
    "print('Initializing Burgers model...')\n",
    "sys.stdout.flush()\n",
    "fom = Burgers2D(nx, ny, x_lim, y_lim, viscosity)\n",
    "print('Done!')"
   ]
  },
  {
   "cell_type": "code",
   "execution_count": 7,
   "metadata": {},
   "outputs": [],
   "source": [
    "# initialize DD FOM\n",
    "ddfom = DD_FOM(fom, nsub_x, nsub_y, scaling=scaling)\n",
    "ddfom.set_initial(lambda xy: u0(xy, mu), lambda xy: v0(xy, mu))"
   ]
  },
  {
   "cell_type": "code",
   "execution_count": 8,
   "metadata": {},
   "outputs": [],
   "source": [
    "# march=2\n",
    "# u_full, v_full, u_intr, v_intr, u_intf, v_intf, lam, runtime, flag = ddfom.solve([0, 2/nt*march],\n",
    "#                                                                            march, \n",
    "#                                                                            tol=1e-4,\n",
    "#                                                                            maxit=20, \n",
    "#                                                                             print_hist=True)"
   ]
  },
  {
   "cell_type": "markdown",
   "metadata": {},
   "source": [
    "## Load FOM solution"
   ]
  },
  {
   "cell_type": "code",
   "execution_count": 9,
   "metadata": {},
   "outputs": [],
   "source": [
    "ddfom_data = DDFOM_data(nx, ny, nt, viscosity, mu, nsub_x, nsub_y, data_dir)\n",
    "ddfom_data.assemble_full_solution(ddfom)"
   ]
  },
  {
   "cell_type": "markdown",
   "metadata": {},
   "source": [
    "## Build DD NM-ROM"
   ]
  },
  {
   "cell_type": "code",
   "execution_count": 10,
   "metadata": {},
   "outputs": [],
   "source": [
    "# parameters for NM-ROM components\n",
    "intr_size   = [8]*ddfom.n_sub#[5, 5]\n",
    "intr_rnnz   = [5]*ddfom.n_sub#[5, 5]\n",
    "intr_rshift = [5]*ddfom.n_sub#[5, 5]\n",
    "intr_act    = ['Swish']*ddfom.n_sub#['Swish', 'Swish']\n",
    "intr_loss   = ['RelMSE']*ddfom.n_sub#['AbsMSE', 'AbsMSE']\n",
    "intr_batch  = [32]*ddfom.n_sub#[32, 32]\n",
    "wd_intr     = 1e-6\n",
    "\n",
    "intf_size   = [2]*ddfom.n_sub#[5, 5]\n",
    "intf_rnnz   = [5]*ddfom.n_sub#[5, 5]\n",
    "intf_rshift = [5]*ddfom.n_sub#[5, 5]\n",
    "intf_act    = ['Swish']*ddfom.n_sub#['Swish', 'Swish']\n",
    "intf_loss   = ['RelMSE']*ddfom.n_sub#['AbsMSE', 'AbsMSE']\n",
    "intf_batch  = [32]*ddfom.n_sub#[32, 32]\n",
    "wd_intf     = 1e-6\n",
    "\n",
    "port_size   = [6]*len(ddfom.ports)#[5]\n",
    "port_rnnz   = [5]*len(ddfom.ports)#[3]\n",
    "port_rshift = [5]*len(ddfom.ports)#[5]\n",
    "port_act    = ['Swish']*len(ddfom.ports)#['Swish']\n",
    "port_loss   = ['RelMSE']*len(ddfom.ports)#['AbsMSE']\n",
    "port_batch  = [32]*len(ddfom.ports)#[32, 32]\n",
    "wd_port     = 1e-6\n",
    "\n",
    "constraint_type = 'srpc'     # 'srpc' (strong rom-port constraints) or 'wfpc' (weak fom-port constraints)\n",
    "\n",
    "# construct file and directory names for loading trained nets\n",
    "net_dir = f'./trained_nets/nx_{nx}_ny_{ny}_nt_{nt}_visc_{viscosity}/DD_{nsub_x}x_by_{nsub_y}y/'"
   ]
  },
  {
   "cell_type": "code",
   "execution_count": 11,
   "metadata": {},
   "outputs": [],
   "source": [
    "# load trained nets\n",
    "intr_ae_list, intf_ae_list, port_ae_list = [], [], []\n",
    "# wdstr = f'_wd{wd}' if wd > 0 else ''\n",
    "for i in range(nsub):\n",
    "    intr_file = f'ld_{intr_size[i]}_rnnz_{intr_rnnz[i]}_rshift_{intr_rshift[i]}_'  + \\\n",
    "                f'{intr_act[i]}_batch_{intr_batch[i]}_{intr_loss[i]}loss_wd{wd_intr}.p'\n",
    "    intr_dir = net_dir+f'sub_{i+1}of{nsub}/interior/'\n",
    "    intr_ae_list.append(torch.load(intr_dir+intr_file))\n",
    "\n",
    "if constraint_type == 'wfpc':\n",
    "    for i in range(nsub):\n",
    "        intf_file = f'ld_{intf_size[i]}_rnnz_{intf_rnnz[i]}_rshift_{intf_rshift[i]}_'  + \\\n",
    "                    f'{intf_act[i]}_batch_{intf_batch[i]}_{intf_loss[i]}loss_wd{wd_intf}.p'\n",
    "        intf_dir = net_dir+f'sub_{i+1}of{nsub}/interface/'\n",
    "        intf_ae_list.append(torch.load(intf_dir+intf_file))\n",
    "else:\n",
    "    nports = len(ddfom.ports)\n",
    "    for i in range(nports):\n",
    "        port_file = f'ld_{port_size[i]}_rnnz_{port_rnnz[i]}_rshift_{port_rshift[i]}_'  + \\\n",
    "                    f'{port_act[i]}_batch_{port_batch[i]}_{port_loss[i]}loss_wd{wd_port}.p'\n",
    "        port_dir = net_dir + f'port_{i+1}of{nports}/'\n",
    "        port_ae_list.append(torch.load(port_dir+port_file))"
   ]
  },
  {
   "cell_type": "code",
   "execution_count": 12,
   "metadata": {},
   "outputs": [
    {
     "name": "stdout",
     "output_type": "stream",
     "text": [
      "Subdomain 0:\n",
      "residual_basis.shape  = (3600, 128)\n",
      "Subdomain 1:\n",
      "residual_basis.shape  = (3600, 131)\n"
     ]
    }
   ],
   "source": [
    "# compute residual bases\n",
    "ec_res     = 1e-16\n",
    "nbasis_res = -1\n",
    "\n",
    "res_bases = []\n",
    "data_dir2 = data_dir + f'nx_{nx}_ny_{ny}_nt_{nt}_visc_{viscosity}/DD_{nsub_x}x_by_{nsub_y}y/' \n",
    "for i in range(ddfom.n_sub):\n",
    "    sub_dir  = data_dir2 + f'sub_{i+1}of{ddfom.n_sub}/'\n",
    "    res_dict  = pickle.load(open(sub_dir  + f'residual_svd_data.p', 'rb'))\n",
    "    res_bases.append(compute_bases_from_svd(res_dict, ec=ec_res, nbasis=nbasis_res))\n",
    "    \n",
    "    print(f'Subdomain {i}:')\n",
    "    print(f'residual_basis.shape  = {res_bases[i].shape}')"
   ]
  },
  {
   "cell_type": "code",
   "execution_count": 14,
   "metadata": {},
   "outputs": [],
   "source": [
    "# NM-ROM parameters\n",
    "hr              = True       # set to True to employ hyper reduction\n",
    "hr_type         = 'collocation'\n",
    "n_constraints   = 1          # number of constraints when using wfpc formulation\n",
    "sample_ratio    = 2.0          # ratio of HR nodes to residual basis size\n",
    "n_samples       = -1         # number of HR nodes to use. -1 uses sample_ratio\n",
    "n_corners       = -1\n",
    "\n",
    "# port_ae_list = [intf_ae_list[0]]\n",
    "# constraint_type='srpc'\n",
    "\n",
    "ddnmrom = DD_NMROM(ddfom, \n",
    "                   intr_ae_list, \n",
    "                   intf_ae_list=intf_ae_list,\n",
    "                   port_ae_list=port_ae_list, \n",
    "                   res_bases=res_bases,\n",
    "                   constraint_type=constraint_type, \n",
    "                   hr=hr,\n",
    "                   hr_type=hr_type,\n",
    "                   sample_ratio=sample_ratio,\n",
    "                   n_samples=n_samples,\n",
    "                   n_corners=n_corners,\n",
    "                   n_constraints=n_constraints, \n",
    "                   seed=0,\n",
    "                   scaling=-1)\n",
    "ddnmrom.set_initial(lambda xy: u0(xy, mu), lambda xy: v0(xy, mu))"
   ]
  },
  {
   "cell_type": "code",
   "execution_count": 15,
   "metadata": {},
   "outputs": [],
   "source": [
    "# train rbf interpolant\n",
    "mu_list = [0.9, 0.95, 1.05, 1.1]\n",
    "data_dir0 = 'data/'\n",
    "data_dir1 = data_dir0 + f'nx_{nx}_ny_{ny}_nt_{nt}_visc_{viscosity}/'\n",
    "snapshots = assemble_snapshot_matrix(data_dir1, mu_list)\n",
    "rbfmdl    = dd_rbf(ddnmrom, t_lim, nt, mu_list, snapshots, n_snaps=(nt+1)//2) #, kernel='linear')"
   ]
  },
  {
   "cell_type": "code",
   "execution_count": 16,
   "metadata": {},
   "outputs": [],
   "source": [
    "# compute intial guess using RBF interpolant\n",
    "guess, rbftime = rbfmdl.compute_guess(t_lim, nt, mu, ddnmrom)"
   ]
  },
  {
   "cell_type": "code",
   "execution_count": null,
   "metadata": {
    "scrolled": false
   },
   "outputs": [],
   "source": [
    "march=nt\n",
    "w_intr, w_intf, u_intr, v_intr, u_intf, v_intf, u_full, v_full, lam, romtime, ih, flag=\\\n",
    "ddnmrom.solve([0, 2/nt*march], march,\n",
    "              guess=guess, \n",
    "              tol=1e-5, maxit=15, print_hist=False)\n",
    "romtime += rbftime"
   ]
  },
  {
   "cell_type": "code",
   "execution_count": null,
   "metadata": {},
   "outputs": [],
   "source": [
    "lt = np.array([np.linalg.norm(l) for l in lam])\n",
    "plt.figure(figsize=(8,6))\n",
    "plt.semilogy(lt+1e-16, 'o-')\n",
    "plt.xlabel('$k$')\n",
    "plt.ylabel('$\\|\\widehat{\\mathbf{\\lambda}}^{(k)}\\|$')\n",
    "plt.show()"
   ]
  },
  {
   "cell_type": "markdown",
   "metadata": {},
   "source": [
    "## Compute error"
   ]
  },
  {
   "cell_type": "code",
   "execution_count": null,
   "metadata": {},
   "outputs": [],
   "source": [
    "ntr    = u_full.shape[0]\n",
    "abserr = np.zeros(ntr)\n",
    "for i, s in enumerate(ddfom_data.subdomain):\n",
    "    abserr += np.sum(np.square(s.interior.u[:ntr]-u_intr[i]), 1) + \\\n",
    "              np.sum(np.square(s.interior.v[:ntr]-v_intr[i]), 1) + \\\n",
    "              np.sum(np.square(s.interface.u[:ntr]-u_intf[i]), 1) + \\\n",
    "              np.sum(np.square(s.interface.v[:ntr]-v_intf[i]), 1)\n",
    "\n",
    "abserr = np.max(np.sqrt(ddfom.hx*ddfom.hy*abserr/ddfom.n_sub))\n",
    "print(f'Absolute error for {ntr-1} time steps = {abserr:1.3e}')\n",
    "print(f'FOM runtime    = {ddfom_data.runtime:1.3e} seconds')\n",
    "print(f'ROM runtime    = {romtime:1.3e} seconds')\n",
    "print(f'Speedup        = {ddfom_data.runtime*ntr/nt/romtime}')"
   ]
  },
  {
   "cell_type": "code",
   "execution_count": null,
   "metadata": {},
   "outputs": [],
   "source": [
    "Ax = np.zeros((march, ddnmrom.n_constraints))\n",
    "for i, s in enumerate(ddnmrom.subdomain):\n",
    "    for k in range(ntr-1):\n",
    "        Ax[k] += s.constraint_mat@w_intf[i][k]\n",
    "max_con = np.max(np.sqrt(np.sum(np.square(Ax),1)))\n",
    "print(f'max_k ||Ax(t_k)||_2 = {max_con:1.2e}')"
   ]
  },
  {
   "cell_type": "code",
   "execution_count": null,
   "metadata": {},
   "outputs": [],
   "source": [
    "Ax0 = np.zeros(ddnmrom.n_constraints)\n",
    "for s in ddnmrom.subdomain:\n",
    "    Ax0 += s.constraint_mat@s.interface.w0\n",
    "print(f'initial constraint norm = {np.linalg.norm(Ax0):1.2e}')"
   ]
  },
  {
   "cell_type": "markdown",
   "metadata": {},
   "source": [
    "## Compute residuals of encoded solution"
   ]
  },
  {
   "cell_type": "code",
   "execution_count": null,
   "metadata": {},
   "outputs": [],
   "source": [
    "ht = (t_lim[1]-t_lim[0])/nt\n",
    "lam = np.ones(ddnmrom.n_constraints)\n",
    "lamfom = np.ones(ddfom.n_constraints)\n",
    "residuals = np.zeros((ddfom.n_sub, nt+1))\n",
    "# resfom_enc  = np.zeros((ddfom.n_sub, nt+1))\n",
    "# resfom_ex   = np.zeros((ddfom.n_sub, nt+1))\n",
    "constraints = np.zeros((nt+1, ddnmrom.n_constraints))\n",
    "for i, s in enumerate(ddnmrom.subdomain):\n",
    "    uv_intr = np.hstack([ddfom_data.subdomain[i].interior.u,\n",
    "                         ddfom_data.subdomain[i].interior.v])\n",
    "    uv_intf = np.hstack([ddfom_data.subdomain[i].interface.u,\n",
    "                         ddfom_data.subdomain[i].interface.v])\n",
    "    w_intr = s.interior.encoder.fwd(uv_intr)\n",
    "    w_intf = s.interface.encoder.fwd(uv_intf)\n",
    "    \n",
    "#     uv_intr_dec = s.interior.decoder.fwd(w_intr)\n",
    "#     u_intr_dec = uv_intr_dec[:, :s.interior.fomsize]\n",
    "#     v_intr_dec = uv_intr_dec[:, s.interior.fomsize:]\n",
    "    \n",
    "#     uv_intf_dec = s.interface.decoder.fwd(w_intf)\n",
    "#     u_intf_dec = uv_intf_dec[:, :s.interface.fomsize]\n",
    "#     v_intf_dec = uv_intf_dec[:, s.interface.fomsize:]\n",
    "    \n",
    "    for k in range(nt):\n",
    "        res, jac, H, rhs, Ag, Adg = s.res_jac(w_intr[k+1], w_intf[k+1], w_intr[k], w_intf[k], lam, ht)\n",
    "        residuals[i, k] = np.sum(np.square(res))\n",
    "        constraints[k] += Ag\n",
    "        \n",
    "#         rfenc = ddfom.subdomain[i].res_jac(u_intr_dec[k+1], v_intr_dec[k+1], u_intf_dec[k+1], v_intf_dec[k+1], \n",
    "#                                         u_intr_dec[k], v_intr_dec[k], u_intf_dec[k], v_intf_dec[k], lamfom, ht)[0]\n",
    "#         resfom_enc[i, k] = np.sum(np.square(rfenc))\n",
    "        \n",
    "#         rfex = ddfom.subdomain[i].res_jac(ddfom_data.subdomain[i].interior.u[k+1], \n",
    "#                                           ddfom_data.subdomain[i].interior.v[k+1], \n",
    "#                                           ddfom_data.subdomain[i].interface.u[k+1], \n",
    "#                                           ddfom_data.subdomain[i].interface.v[k+1], \n",
    "#                                           ddfom_data.subdomain[i].interior.u[k], \n",
    "#                                           ddfom_data.subdomain[i].interior.v[k], \n",
    "#                                           ddfom_data.subdomain[i].interface.u[k], \n",
    "#                                           ddfom_data.subdomain[i].interface.v[k], \n",
    "#                                           lamfom, ht)[0]\n",
    "#         resfom_ex[i, k] = np.sum(np.square(rfex))"
   ]
  },
  {
   "cell_type": "code",
   "execution_count": null,
   "metadata": {},
   "outputs": [],
   "source": [
    "tt=np.linspace(t_lim[0], t_lim[1], nt+1)\n",
    "con_norm = np.sqrt(np.sum(np.square(constraints), 1))\n",
    "plt.figure(figsize=(8,6))\n",
    "plt.semilogy(tt,con_norm+1e-16)\n",
    "plt.xlabel('$t_k$')\n",
    "plt.ylabel('$\\|\\Sigma_i \\widehat{\\mathbf{A}}_i \\widehat{\\mathbf{x}}_i^{\\Gamma(k)}\\|_2$')\n",
    "plt.show()"
   ]
  },
  {
   "cell_type": "code",
   "execution_count": null,
   "metadata": {},
   "outputs": [],
   "source": [
    "plt.figure(figsize=(8,6))\n",
    "ls = ['-', '--', '.-', ':']\n",
    "for i in range(ddnmrom.n_sub):\n",
    "    plt.semilogy(tt, residuals[i], ls[i], label=f'Subdomain {i}')\n",
    "plt.xlabel('$t_k$')\n",
    "plt.ylabel('$\\|\\mathbf{r}_i(\\mathbf{g}_i^\\Omega(\\mathbf{h}_i^\\Omega(\\mathbf{x}_i^{\\Omega(k)})), \\mathbf{g}_i^\\Gamma(\\mathbf{h}_i^\\Gamma(\\mathbf{x}_i^{\\Gamma (k)})))\\|_2^2$')\n",
    "plt.legend()\n",
    "plt.show()"
   ]
  },
  {
   "cell_type": "markdown",
   "metadata": {},
   "source": [
    "## Save solution, gifs of solution"
   ]
  },
  {
   "cell_type": "code",
   "execution_count": null,
   "metadata": {},
   "outputs": [],
   "source": [
    "# store snapshots\n",
    "con_dir = 'srpc/' if constraint_type == 'srpc' else f'wfpc_ncon_{n_constraints}'\n",
    "intr_str = f'intr_ld{intr_size}rnz{intr_rnnz}rs{intr_rshift}_'\n",
    "if constraint_type == 'srpc':\n",
    "    intf_str = f'port_ld{port_size}rnz{port_rnnz}rs{port_rshift}_'\n",
    "else:\n",
    "    intf_str = f'intf_ld{intf_size}rnz{intf_rnnz}rs{intf_rshift}_'\n",
    "if hr:\n",
    "    hr_str = f'hr_{n_samples}_' if n_samples > 0 else f'hr_{sample_ratio}x_'\n",
    "else:\n",
    "    hr_str = ''\n",
    "    \n",
    "# print('\\nSaving data...')\n",
    "# for i, s in enumerate(ddnmrom.subdomain):\n",
    "#     hr_str = f'hr_{s.hr_nodes.size}_' if hr else ''\n",
    "#     sub_dir  = data_dir2 + f'sub_{i+1}of{ddnmrom.n_sub}/'\n",
    "#     intr_dir = sub_dir + 'interior/' + con_dir\n",
    "#     intf_dir = sub_dir + 'interface/' + con_dir\n",
    "#     for d in [intr_dir, intf_dir]:\n",
    "#         if not os.path.exists(d): os.mkdir(d)\n",
    "            \n",
    "#     intr_dict = {'solution': w_intr[i],\n",
    "#                  'runtime':  romtime}\n",
    "#     intf_dict = {'solution': w_intf[i],\n",
    "#                  'runtime':  romtime}\n",
    "\n",
    "#     intr_filename = intr_dir + f'nmrom_{intr_str}{hr_str}mu_{mu}_state.p'\n",
    "#     intf_filename = intf_dir + f'nmrom_{intf_str}{hr_str}mu_{mu}_state.p'\n",
    "\n",
    "#     pickle.dump(intr_dict, open(intr_filename, 'wb'))\n",
    "#     pickle.dump(intf_dict, open(intf_filename, 'wb'))\n",
    "# print('Done!')    "
   ]
  },
  {
   "cell_type": "code",
   "execution_count": null,
   "metadata": {},
   "outputs": [],
   "source": [
    "# frame updater for animation\n",
    "umin = np.min([s.interior.u.min() for s in ddfom_data.subdomain]+\n",
    "              [s.interface.u.min() for s in ddfom_data.subdomain])\n",
    "umax = np.max([s.interior.u.max() for s in ddfom_data.subdomain]+\n",
    "              [s.interface.u.max() for s in ddfom_data.subdomain])\n",
    "vmin = np.min([s.interior.v.min() for s in ddfom_data.subdomain]+\n",
    "              [s.interface.v.min() for s in ddfom_data.subdomain])\n",
    "vmax = np.max([s.interior.v.max() for s in ddfom_data.subdomain]+\n",
    "              [s.interface.v.max() for s in ddfom_data.subdomain])\n",
    "\n",
    "X, Y = np.meshgrid(fom.xx, fom.yy)\n",
    "def update_frame(i, Z, zmin, zmax, cb_label):\n",
    "    plt.clf()\n",
    "    plt.pcolormesh(X, Y, Z[i], cmap='viridis', shading='auto', vmin=zmin, vmax=zmax) \n",
    "    plt.xlabel('$x$')\n",
    "    plt.ylabel('$y$')\n",
    "    plt.title('$t_{'+f'{i:4d}'+'}' + f'={ht*i+t_lim[0]:1.4f}$')\n",
    "    cb = plt.colorbar(orientation='vertical', label=cb_label)\n",
    "    return plt"
   ]
  },
  {
   "cell_type": "code",
   "execution_count": null,
   "metadata": {},
   "outputs": [],
   "source": [
    "# save gifs of solutions\n",
    "con_dir = 'srpc/' if constraint_type == 'srpc' else f'wfpc_ncon_{n_constraints}'\n",
    "for suffix in ['', con_dir]:\n",
    "    rom_figs = fig_dir0 + \\\n",
    "               f'nx_{nx}_ny_{ny}_nt_{nt}_visc_{viscosity}/' +\\\n",
    "               f'mu_{mu}/ddnmrom_{nsub_x}x_by_{nsub_y}y/' + suffix\n",
    "    if not os.path.exists(rom_figs): os.mkdir(rom_figs)\n",
    "\n",
    "prefix = rom_figs + f'{intr_str}{intf_str}{hr_str}_ntr{ntr}_'\n",
    "\n",
    "print('\\nGenerating gif for u state...')\n",
    "UU = u_full.reshape(u_full.shape[0], ddfom.ny, ddfom.nx)\n",
    "fig = plt.figure()\n",
    "ani = animation.FuncAnimation(fig, lambda i: update_frame(i, UU, umin, umax, '$u(x,y)$'),\n",
    "                              frames=u_full.shape[0], interval=1)\n",
    "ani.save(prefix + 'u_state.gif', writer='imagemagick', fps=nt//10)\n",
    "plt.close()\n",
    "print('Done!')\n",
    "print('u state gif = ' + prefix + 'u_state.gif')\n",
    "Image(filename=prefix+'u_state.gif')"
   ]
  },
  {
   "cell_type": "code",
   "execution_count": null,
   "metadata": {},
   "outputs": [],
   "source": [
    "print('\\nGenerating gif for v state...')\n",
    "VV = v_full.reshape(v_full.shape[0], ddfom.ny, ddfom.nx)\n",
    "fig = plt.figure()\n",
    "ani = animation.FuncAnimation(fig, lambda i: update_frame(i, VV, vmin, vmax, '$v(x,y)$'),\n",
    "                              frames=v_full.shape[0], interval=1)\n",
    "ani.save(prefix + f'v_state_nt{ntr}.gif', writer='imagemagick', fps=nt//10)\n",
    "plt.close()\n",
    "print('Done!')\n",
    "print('v state gif = ' + prefix + 'v_state.gif')\n",
    "Image(filename=prefix+f'v_state_nt{ntr}.gif')"
   ]
  },
  {
   "cell_type": "markdown",
   "metadata": {},
   "source": [
    "## Sandbox"
   ]
  },
  {
   "cell_type": "code",
   "execution_count": null,
   "metadata": {},
   "outputs": [],
   "source": []
  }
 ],
 "metadata": {
  "kernelspec": {
   "display_name": "Open-CE-1.7.2",
   "language": "python",
   "name": "opence-1.7.2-cuda-11.4"
  },
  "language_info": {
   "codemirror_mode": {
    "name": "ipython",
    "version": 3
   },
   "file_extension": ".py",
   "mimetype": "text/x-python",
   "name": "python",
   "nbconvert_exporter": "python",
   "pygments_lexer": "ipython3",
   "version": "3.9.15"
  }
 },
 "nbformat": 4,
 "nbformat_minor": 4
}
