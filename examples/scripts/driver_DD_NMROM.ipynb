{
 "cells": [
  {
   "cell_type": "markdown",
   "metadata": {},
   "source": [
    "# driver_DD_NMROM\n",
    "Driver to implement and test NM ROM on the 2D Burgers Equation.  "
   ]
  },
  {
   "cell_type": "code",
   "execution_count": null,
   "metadata": {},
   "outputs": [],
   "source": [
    "import sys\n",
    "with open(\"./../../PATHS.txt\") as file:\n",
    "  paths = file.read().splitlines()\n",
    "sys.path.extend(paths)"
   ]
  },
  {
   "cell_type": "code",
   "execution_count": null,
   "metadata": {},
   "outputs": [],
   "source": [
    "import os\n",
    "import numpy as np\n",
    "import dill as pickle\n",
    "import scipy.sparse as sp\n",
    "import scipy.linalg as la\n",
    "import matplotlib.pyplot as plt\n",
    "import matplotlib.colors as colors\n",
    "import dill as pickle\n",
    "\n",
    "from matplotlib import cm"
   ]
  },
  {
   "cell_type": "code",
   "execution_count": null,
   "metadata": {},
   "outputs": [],
   "source": [
    "from dd_nm_rom.fom import Burgers2D, DDBurgers2D, Burgers2DExact\n",
    "from dd_nm_rom.rom import DD_NM_ROM\n",
    "from dd_nm_rom.rom.linear.domain_dec import compute_bases_from_svd"
   ]
  },
  {
   "cell_type": "code",
   "execution_count": null,
   "metadata": {},
   "outputs": [],
   "source": [
    "path_to_run = \"/Users/zanardi1/Workspace/Codes/DD-NM-ROM/run/\"\n",
    "data_dir = path_to_run + '/data/'\n",
    "fig_dir0 = path_to_run + '/figures/'\n",
    "for d in [data_dir, fig_dir0]:\n",
    "    os.makedirs(d, exist_ok=True)\n",
    "plt.rc('font', size=20)\n",
    "plt.rcParams['text.usetex'] = False"
   ]
  },
  {
   "cell_type": "markdown",
   "metadata": {},
   "source": [
    "## Set model parameters"
   ]
  },
  {
   "cell_type": "code",
   "execution_count": null,
   "metadata": {},
   "outputs": [],
   "source": [
    "# define constant parameters for PDE\n",
    "nx, ny  = 480, 24\n",
    "x_lim   = [-1.0, 1.0]\n",
    "y_lim   = [0.0, 0.05]\n",
    "\n",
    "na1, nlam = 80, 80\n",
    "a1_lim  = [1.0, 10000.0]\n",
    "lam_lim = [5.0, 25.0]\n",
    "\n",
    "a1, lam = 7692.5384, 21.9230\n",
    "viscosity = 1e-1\n",
    "\n",
    "print(f'a1, lam = {a1, lam}')\n",
    "\n",
    "# number of subdomains in x and y directions for DD model\n",
    "n_sub_x = 2\n",
    "n_sub_y = 2\n",
    "\n",
    "scaling = -1 # scaling factor for residual. -1 uses hx*hy\n",
    "\n",
    "n_sub   = n_sub_x*n_sub_y\n",
    "fig_dir1 = fig_dir0 + f'/nx_{nx}_ny_{ny}_mu_{viscosity}_{n_sub_x}x_by_{n_sub_y}y/'\n",
    "fig_dir  = fig_dir1 + f'/a1_{a1}_lam_{lam}/'\n",
    "svd_dir  = path_to_run + f'/linear/data/nx_{nx}_ny_{ny}_mu_{viscosity}_{n_sub_x}x_by_{n_sub_y}y/'\n",
    "for d in [fig_dir1, fig_dir]:\n",
    "    os.makedirs(d, exist_ok=True)\n",
    "if not os.path.exists(svd_dir): print('Error: Must run LS-ROM notebook before proceeding.')"
   ]
  },
  {
   "cell_type": "code",
   "execution_count": null,
   "metadata": {},
   "outputs": [],
   "source": [
    "# load snapshot and residual data\n",
    "file = data_dir + f'/residual/nx{nx}_ny{ny}_mu{viscosity}_nsamples{400}.p'\n",
    "data = pickle.load(open(file, 'rb'))\n",
    "Mu = data['parameters']\n",
    "snapshots = data['snapshots']\n",
    "residuals = data['residuals']"
   ]
  },
  {
   "cell_type": "markdown",
   "metadata": {},
   "source": [
    "## Solve DD FOM"
   ]
  },
  {
   "cell_type": "code",
   "execution_count": null,
   "metadata": {},
   "outputs": [],
   "source": [
    "burg_ex = Burgers2DExact()\n",
    "burg_ex.set_params(a1, lam, viscosity)"
   ]
  },
  {
   "cell_type": "code",
   "execution_count": null,
   "metadata": {},
   "outputs": [],
   "source": [
    "print('\\nSolving full domain model:')\n",
    "\n",
    "# generate Burgers FOM\n",
    "fom = Burgers2D(nx, ny, x_lim, y_lim, viscosity)\n",
    "fom.set_bc(burg_ex.u, burg_ex.v)\n",
    "uv, rhs = fom.solve(tol=1e-8, maxit=20, stepsize_min=1e-20, verbose=True)\n",
    "sol = np.concatenate([uv[\"u\"], uv[\"v\"]])\n",
    "print(\"RUNTIME:\", fom.runtime)\n",
    "\n",
    "print('\\nSolving DD model:')\n",
    "ddmdl = DDBurgers2D(fom, n_sub_x, n_sub_y, scaling=-1)\n",
    "ddmdl.set_bc()\n",
    "ndof_fom = ddmdl.get_ndof()\n",
    "\n",
    "print(f'\\nFOM DoF = {ndof_fom-ddmdl.n_constraints}')\n",
    "\n",
    "uv_dd, lambdas = ddmdl.solve(x0=np.zeros(ndof_fom), tol=1e-8, maxit=100, verbose=True)\n",
    "sol_dd = np.concatenate([uv_dd[\"res\"][\"u\"], uv_dd[\"res\"][\"v\"]])\n",
    "print(\"RUNTIME:\", ddmdl.runtime)\n",
    "\n",
    "# dd_fom_rel_err = np.linalg.norm(sol_dd-sol)/np.linalg.norm(sol)\n",
    "dd_fom_rel_err = 100*np.mean(np.abs(sol_dd-sol)/(np.abs(sol)+1e-7))\n",
    "print(f'\\nDD-FOM mean relative error = {dd_fom_rel_err:1.4e} %') "
   ]
  },
  {
   "cell_type": "code",
   "execution_count": null,
   "metadata": {},
   "outputs": [],
   "source": [
    "# plot DD FOM u and v\n",
    "x = np.linspace(x_lim[0], x_lim[1], nx+2)[1:-1]\n",
    "y = np.linspace(y_lim[0], y_lim[1], ny+2)[1:-1]\n",
    "X, Y = np.meshgrid(x, y)\n",
    "U_fom = uv_dd[\"res\"][\"u\"].reshape(ny, nx)\n",
    "V_fom = uv_dd[\"res\"][\"v\"].reshape(ny, nx)\n",
    "\n",
    "plt.figure(figsize=(12, 4))\n",
    "plt.pcolormesh(X, Y, U_fom, cmap=cm.jet, shading='auto', vmin=uv[\"u\"].min(), vmax=uv[\"u\"].max())\n",
    "plt.xlabel('$x$')\n",
    "plt.ylabel('$y$')\n",
    "cb = plt.colorbar(label='$u$')\n",
    "plt.tight_layout()\n",
    "file = fig_dir+'u_fom.png'\n",
    "plt.savefig(file, bbox_inches='tight', pad_inches=0.1)\n",
    "plt.show()\n",
    "\n",
    "plt.figure(figsize=(12, 4))\n",
    "plt.pcolormesh(X, Y, V_fom, cmap=cm.jet, shading='auto', vmin=uv[\"v\"].min(), vmax=uv[\"v\"].max())\n",
    "plt.xlabel('$x$')\n",
    "plt.ylabel('$y$')\n",
    "cb = plt.colorbar(label='$v$')\n",
    "plt.tight_layout()\n",
    "file = fig_dir+'v_fom.png'\n",
    "plt.savefig(file, bbox_inches='tight', pad_inches=0.1)\n",
    "plt.show()"
   ]
  },
  {
   "cell_type": "markdown",
   "metadata": {},
   "source": [
    "## Solve DD NM-ROM"
   ]
  },
  {
   "cell_type": "code",
   "execution_count": null,
   "metadata": {
    "scrolled": true
   },
   "outputs": [],
   "source": [
    "ec     = 1e-10          # energy criteria for number of interior and interface basis vectors\n",
    "nbasis = -1             # number of residual basis vectors. set to -1 to use energy criteria\n",
    "\n",
    "# load SVD data\n",
    "print('Loading residual SVD data...')\n",
    "res_dict  = pickle.load(open(svd_dir+'res_svd.p', 'rb'))\n",
    "print('Data loaded!')\n",
    "\n",
    "# compute bases\n",
    "print('Computing residual bases...')\n",
    "residual_bases = compute_bases_from_svd(res_dict, ec=ec, nbasis=nbasis)\n",
    "print('Bases computed!')\n",
    "\n",
    "for i in range(n_sub):\n",
    "    print(f'residual_bases[{i}]={residual_bases[i].shape}')"
   ]
  },
  {
   "cell_type": "code",
   "execution_count": null,
   "metadata": {},
   "outputs": [],
   "source": [
    "single_model = True # False True\n",
    "suffix = \"_numpy\"\n",
    "name = f'nx_{nx}_ny_{ny}_mu_{viscosity}_{n_sub_x}x_by_{n_sub_y}y'\n",
    "\n",
    "# port ROM sizes\n",
    "pld = 2\n",
    "\n",
    "# interior and interface state ROM sizes\n",
    "intr_size = 6\n",
    "intf_size = 4\n",
    "intr_rnnz = 5\n",
    "intf_rnnz = 5\n",
    "intr_shift = 5\n",
    "intf_shift = 5\n",
    "intr_act_type = 'Swish'\n",
    "intf_act_type = 'Swish'\n",
    "batch = 32\n",
    "\n",
    "if single_model:\n",
    "  pld = 4\n",
    "  intr_size = 12\n",
    "  intf_size = 8\n",
    "  batch = 64\n",
    "\n",
    "# port states\n",
    "port_size  = [min(len(ddmdl.port_to_nodes[p]-1), pld) for p in ddmdl.ports]\n",
    "port_rnnz  = 3*np.ones(len(ddmdl.ports), dtype=int) \n",
    "port_shift = 3*np.ones(len(ddmdl.ports), dtype=int) \n",
    "port_act_type = 'Sigmoid' #'Swish'\n",
    "\n",
    "Ntotal = 6400 if nx in [240, 480] else 4200\n",
    "net_folder0 = data_dir + f'/trained_nets/{name}/multi/ports-iden/'\n",
    "port_net_list = [net_folder0+\\\n",
    "                 f'port_{i+1}of{len(ddmdl.ports)}/'+\\\n",
    "                 f'ld_{port_size[i]}_rnnz_{port_rnnz[i]}_rshift_{port_shift[i]}_'+\\\n",
    "                 f'{port_act_type}_batch_32_AbsMSEloss_{Ntotal}snaps{suffix}.p' \\\n",
    "                  for i in range(len(ddmdl.ports))]\n",
    "\n",
    "# interior and interface states\n",
    "Ntotal = 6400 if nx in [240, 480] else 4200\n",
    "net_folder0 = data_dir + f'/trained_nets/{name}/multi/'\n",
    "intr_net_list = [net_folder0+\\\n",
    "                 f'sub_{i+1}of{n_sub}/interior/'+\\\n",
    "                 f'ld_{intr_size}_rnnz_{intr_rnnz}_rshift_{intr_shift}_'+\\\n",
    "                 f'{intr_act_type}_batch_32_AbsMSEloss_{Ntotal}snaps{suffix}.p' \\\n",
    "                  for i in range(n_sub)]\n",
    "intf_net_list = [net_folder0+\\\n",
    "                 f'sub_{i+1}of{n_sub}/interface/'+\\\n",
    "                 f'ld_{intf_size}_rnnz_{intf_rnnz}_rshift_{intf_shift}_'+\\\n",
    "                 f'{intf_act_type}_batch_32_AbsMSEloss_{Ntotal}snaps{suffix}.p' \\\n",
    "                  for i in range(n_sub)]\n",
    "\n",
    "if single_model:\n",
    "\n",
    "  Ntotal = 6400 if nx in [240, 480] else 4200\n",
    "  net_folder0 = data_dir + f'/trained_nets/{name}/single/ports/'\n",
    "  port_net_list = [net_folder0+\\\n",
    "                  f'port_dim_{ddmdl.port_to_nodes[i].size}/'+\\\n",
    "                  f'ld_{port_size[i]}_rnnz_{port_rnnz[i]}_rshift_{port_shift[i]}_'+\\\n",
    "                  f'{port_act_type}_batch_{batch}_AbsMSEloss_{Ntotal}snaps{suffix}.p' \\\n",
    "                    for i in range(len(ddmdl.ports))]\n",
    "  \n",
    "  \n",
    "  Ntotal = 6400 if nx in [240, 480] else 4200\n",
    "  net_folder0 = data_dir + f'/trained_nets/{name}/single/'\n",
    "  intr_net_list = [net_folder0 + '/interior/'+\\\n",
    "                  f'ld_{intr_size}_rnnz_{intr_rnnz}_rshift_{intr_shift}_'+\\\n",
    "                  f'{intr_act_type}_batch_{batch}_AbsMSEloss_{Ntotal}snaps{suffix}.p' \\\n",
    "                    for _ in range(n_sub)]\n",
    "  intf_net_list = [net_folder0 + '/interface/'+\\\n",
    "                  f'ld_{intf_size}_rnnz_{intf_rnnz}_rshift_{intf_shift}_'+\\\n",
    "                  f'{intf_act_type}_batch_{batch}_AbsMSEloss_{Ntotal}snaps{suffix}.p' \\\n",
    "                    for _ in range(n_sub)]"
   ]
  },
  {
   "cell_type": "code",
   "execution_count": null,
   "metadata": {},
   "outputs": [],
   "source": [
    "nn_configfiles = {\n",
    "  \"port\": port_net_list,\n",
    "  \"interface\": intf_net_list,\n",
    "  \"interior\": intr_net_list,\n",
    "}"
   ]
  },
  {
   "cell_type": "code",
   "execution_count": null,
   "metadata": {},
   "outputs": [],
   "source": [
    "# build ROM and RBF model (used for generating initial iterate)\n",
    "print('Building DD NM-ROM...')\n",
    "ddnmrom = DD_NM_ROM(\n",
    "  dd_fom=ddmdl,\n",
    "  nn_configfiles=nn_configfiles,\n",
    "  res_bases=residual_bases,\n",
    "  hr_active=True,\n",
    "  hr_n_samples=100,\n",
    "  hr_n_edge_samples_ratio=0.75,\n",
    "  hr_sample_small_ports=True,\n",
    "  hr_small_ports_dim=5,\n",
    "  constraint_type='weak',\n",
    "  n_constraints_weak=intf_size,\n",
    "  seed=1,\n",
    "  scaling=-1\n",
    ")\n",
    "print('ROM built!\\n')"
   ]
  },
  {
   "cell_type": "code",
   "execution_count": null,
   "metadata": {},
   "outputs": [],
   "source": [
    "# for sub in ddnmrom.subdomains:\n",
    "#   samples = np.array([], dtype=np.int32)\n",
    "#   for p in sub.ports:\n",
    "#     nodes = sub.port_to_nodes[p]\n",
    "#     if (nodes.size <= sub.hr_small_ports_dim):\n",
    "#       inter = np.nonzero(np.isin(sub.indices[\"res\"], nodes))[0]\n",
    "#       inter = np.concatenate([inter, inter + sub.n_nodes[\"res\"]])\n",
    "#       samples = np.union1d(samples, inter)\n",
    "#   print(np.isin(samples, sub.hr_ind_uv[\"res\"]))"
   ]
  },
  {
   "cell_type": "code",
   "execution_count": null,
   "metadata": {},
   "outputs": [],
   "source": [
    "print('Computing RBF interpolant ...')\n",
    "dd_data = ddmdl.map_sol_on_elements(np.vstack(snapshots), map_on_ports=False)\n",
    "ddnmrom.init_rbf(dd_data, Mu, smoothing=0.0, kernel='linear')\n",
    "print('Interpolant computed!')"
   ]
  },
  {
   "cell_type": "code",
   "execution_count": null,
   "metadata": {},
   "outputs": [],
   "source": [
    "# solve DD ROM\n",
    "print('Solving DD NM-ROM...')\n",
    "uv_dd_rom, z_rom, lambdas, rhs = ddnmrom.solve(mu=np.array([a1, lam]), tol=1e-8, maxit=50, stepsize_min=1e-10, verbose=True)\n",
    "print('Solution found!\\n')\n",
    "print(\"RUNTIME:\", ddnmrom.runtime)\n",
    "\n",
    "# compute error\n",
    "dd_rom_rel_err = ddnmrom.compute_error(uv_dd, uv_dd_rom)\n",
    "print(f'DD NM-ROM rel. error = {dd_rom_rel_err:1.4e}')"
   ]
  },
  {
   "cell_type": "markdown",
   "metadata": {},
   "source": [
    "Plot DD ROM u and v"
   ]
  },
  {
   "cell_type": "code",
   "execution_count": null,
   "metadata": {},
   "outputs": [],
   "source": [
    "nm_figs  = fig_dir + '/nmrom/'\n",
    "nm_figs += '/single/' if single_model else '/multi/'\n",
    "os.makedirs(nm_figs, exist_ok=True)"
   ]
  },
  {
   "cell_type": "code",
   "execution_count": null,
   "metadata": {},
   "outputs": [],
   "source": [
    "# plot DD ROM u and v\n",
    "filename = nm_figs\n",
    "filename += '/srpc' if ddnmrom.constraint_type == 'strong' else '/wfpc'\n",
    "filename += '_col_hr' if ddnmrom.hr_active else ''\n",
    "\n",
    "# plot DD FOM u and v\n",
    "x = np.linspace(x_lim[0], x_lim[1], nx+2)[1:-1]\n",
    "y = np.linspace(y_lim[0], y_lim[1], ny+2)[1:-1]\n",
    "X, Y = np.meshgrid(x, y)\n",
    "U_rom = uv_dd_rom[\"res\"][\"u\"].reshape(ny, nx)\n",
    "V_rom = uv_dd_rom[\"res\"][\"v\"].reshape(ny, nx)\n",
    "\n",
    "plt.figure(figsize=(12, 4))\n",
    "plt.pcolormesh(X, Y, U_rom, cmap=cm.jet, shading='auto', vmin=U_fom.min(), vmax=U_fom.max())\n",
    "plt.xlabel('$x$')\n",
    "plt.ylabel('$y$')\n",
    "cb = plt.colorbar(label='$\\hat{u}$')\n",
    "plt.tight_layout()\n",
    "file = filename+'_u.png'\n",
    "plt.savefig(file, bbox_inches='tight', pad_inches=0.1)\n",
    "plt.show()\n",
    "\n",
    "plt.figure(figsize=(12, 4))\n",
    "plt.pcolormesh(X, Y, V_rom, cmap=cm.jet, shading='auto', vmin=V_fom.min(), vmax=V_fom.max())\n",
    "plt.xlabel('$x$')\n",
    "plt.ylabel('$y$')\n",
    "cb = plt.colorbar(label='$\\hat{v}$')\n",
    "plt.tight_layout()\n",
    "file = filename+'_v.png'\n",
    "plt.savefig(file, bbox_inches='tight', pad_inches=0.1)\n",
    "plt.show()"
   ]
  },
  {
   "cell_type": "code",
   "execution_count": null,
   "metadata": {},
   "outputs": [],
   "source": [
    "# plot errors\n",
    "u_rel_err = np.abs(U_fom-U_rom) / np.linalg.norm(U_fom)\n",
    "plt.figure(figsize=(12,4))\n",
    "plt.pcolormesh(X, Y, u_rel_err, cmap=cm.jet, shading='auto')#, vmin=0.0, vmax=4.88e-4)\n",
    "plt.xlabel('$x$')\n",
    "plt.ylabel('$y$')\n",
    "cb = plt.colorbar(label='$u$ error', format='%.0e')\n",
    "plt.tight_layout()\n",
    "file = filename+'_u_error.png'\n",
    "plt.savefig(file, bbox_inches='tight', pad_inches=0.1)\n",
    "plt.show()\n",
    "\n",
    "plt.figure(figsize=(12,4))\n",
    "v_rel_err = np.abs(V_fom-V_rom)/np.linalg.norm(V_fom)\n",
    "plt.pcolormesh(X, Y, v_rel_err, cmap=cm.jet, shading='auto')#, vmin=0.0, vmax=4.88e-4)\n",
    "plt.xlabel('$x$')\n",
    "plt.ylabel('$y$')\n",
    "cb = plt.colorbar(label='$v$ error', format='%.0e')\n",
    "plt.tight_layout()\n",
    "file = filename+'_v_error.png'\n",
    "plt.savefig(file, bbox_inches='tight', pad_inches=0.1)\n",
    "plt.show()"
   ]
  },
  {
   "cell_type": "code",
   "execution_count": null,
   "metadata": {},
   "outputs": [],
   "source": []
  },
  {
   "cell_type": "code",
   "execution_count": null,
   "metadata": {},
   "outputs": [],
   "source": []
  },
  {
   "cell_type": "code",
   "execution_count": null,
   "metadata": {},
   "outputs": [],
   "source": []
  },
  {
   "cell_type": "code",
   "execution_count": null,
   "metadata": {},
   "outputs": [],
   "source": [
    "# Check constraints\n",
    "# FOM\n",
    "cres_fp= np.zeros(ddmdl.n_constraints)\n",
    "for i, s in enumerate(ddmdl.subdomains):\n",
    "    zi = w_dd_rom[\"interface\"][i]\n",
    "    x_intf = ddnmrom.subdomains[i].decode(x=zi, k=\"interface\")[0]\n",
    "    cres_fp += s.cmat[\"interface\"]@x_intf\n",
    "\n",
    "# ROM\n",
    "cres_rp = np.zeros(ddnmrom.n_constraints)\n",
    "if ddnmrom.constraint_type == 'strong':\n",
    "    for i, s in enumerate(ddnmrom.subdomains):\n",
    "        cres_rp += s.cmat@w_dd_rom[\"interface\"][i]\n",
    "    print(f'ROM-port constraint residual (SRPC) = {np.linalg.norm(cres_rp):1.4e}')\n",
    "    print(f'FOM-port constraint residual (SRPC) = {np.linalg.norm(cres_fp):1.4e}')\n",
    "else:\n",
    "    for i, s in enumerate(ddnmrom.subdomains):\n",
    "        zi = w_dd_rom[\"interface\"][i]\n",
    "        x_intf = ddnmrom.subdomains[i].decode(x=zi, k=\"interface\")[0]\n",
    "        cres_fp += s.cmat@x_intf\n",
    "    print(f'ROM-port constraint residual (WFPC) = {np.linalg.norm(cres_rp):1.4e}')\n",
    "    print(f'FOM-port constraint residual (WFPC)= {np.linalg.norm(cres_fp):1.4e}')"
   ]
  },
  {
   "cell_type": "code",
   "execution_count": null,
   "metadata": {},
   "outputs": [],
   "source": [
    "# compute lagrange multiplier approximation\n",
    "de, jde = ddnmrom.subdomain[0].de_intf(w_dd_rom[\"interface\"][0])\n",
    "en, jen = ddnmrom.subdomain[0].en_intf(de)\n",
    "lam_rom_approx = jen.T@lam_opt if ddnmrom.constraint_type=='strong' else ddnmrom.constraint_mult.T@lam_opt\n",
    "\n",
    "# compute error estimate\n",
    "xtilde = []\n",
    "xhat = []\n",
    "for i, s in enumerate(ddnmrom.subdomain):\n",
    "    xtilde.append(s.de_intr(w_intr[i])[0])\n",
    "    xtilde.append(s.de_intf(w_dd_rom[\"interface\"][i])[0])\n",
    "    xhat.append(w_intr[i])\n",
    "    xhat.append(w_dd_rom[\"interface\"][i])\n",
    "    \n",
    "xtilde.append(lam_rom_approx)\n",
    "xtilde = np.concatenate(xtilde)\n",
    "xhat.append(lam_opt)\n",
    "xhat = np.concatenate(xhat)\n",
    "\n",
    "f, j, rt = ddmdl.FJac(xtilde)\n",
    "e = np.linalg.norm(sp.linalg.spsolve(j, f))\n",
    "\n",
    "print(f'norm of FOM lagrange mult. = {np.linalg.norm(lam_fom):1.4e}')\n",
    "print(f'norm of ROM lagrange mult. = {np.linalg.norm(lam_rom_approx):1.4e}')\n",
    "print(f'Lagrange mult. error       = {np.linalg.norm(lam_fom-lam_rom_approx):1.4e}')\n",
    "print(f\"||(F'(g(x))^(-1)F(g(x)||   = {np.linalg.norm(e):1.4e}\")"
   ]
  },
  {
   "cell_type": "code",
   "execution_count": null,
   "metadata": {},
   "outputs": [],
   "source": [
    "xstar = []\n",
    "for i, s in enumerate(ddmdl.subdomain):\n",
    "    xstar.append(u_intr[i])\n",
    "    xstar.append(v_intr[i])    \n",
    "    xstar.append(u_intf[i])\n",
    "    xstar.append(v_intf[i]) \n",
    "xstar.append(lam_fom)\n",
    "xstar = np.concatenate(xstar)\n",
    "\n",
    "f, j, rt = ddmdl.FJac(xstar)\n",
    "np.linalg.norm(sp.linalg.spsolve(j, f))"
   ]
  },
  {
   "cell_type": "markdown",
   "metadata": {},
   "source": [
    "## Training time, number of parameters per subdomain"
   ]
  },
  {
   "cell_type": "code",
   "execution_count": null,
   "metadata": {},
   "outputs": [],
   "source": [
    "print('subdomain       interior          interface')\n",
    "for i, s in enumerate(ddnmrom.subdomain):\n",
    "    print(f'    {i}          {s.train_time_intr:1.4e}         {s.train_time_intr:1.4e}')"
   ]
  },
  {
   "cell_type": "code",
   "execution_count": null,
   "metadata": {},
   "outputs": [],
   "source": [
    "intr_params = []\n",
    "intf_params = []\n",
    "print('subdomain     interior     interface')\n",
    "for i, s in enumerate(ddnmrom.subdomain):\n",
    "    pcount = s.en_W1_intr.nnz+np.prod(s.en_W2_intr.shape)+s.en_b1_intr.size\n",
    "    pcount += s.de_W2_intr.nnz+np.prod(s.de_W1_intr.shape)+s.de_b1_intr.size\n",
    "    intr_params.append(pcount)\n",
    "    \n",
    "    pcount = s.en_W1_intf.nnz+np.prod(s.en_W2_intf.shape)+s.en_b1_intf.size\n",
    "    pcount += s.de_W2_intf.nnz+np.prod(s.de_W1_intf.shape)+s.de_b1_intf.size\n",
    "    intf_params.append(pcount)\n",
    "    print(f'    {i}          {intr_params[i]}         {intf_params[i]}')"
   ]
  },
  {
   "cell_type": "code",
   "execution_count": null,
   "metadata": {},
   "outputs": [],
   "source": [
    "maxp_per_subdomain=np.max(np.array(intr_params+intf_params))\n",
    "all_params=np.sum(np.array(intr_params+intf_params))\n",
    "all_params"
   ]
  },
  {
   "cell_type": "code",
   "execution_count": null,
   "metadata": {},
   "outputs": [],
   "source": [
    "maxp_per_subdomain"
   ]
  },
  {
   "cell_type": "code",
   "execution_count": null,
   "metadata": {},
   "outputs": [],
   "source": [
    "max_train_time = np.max([s.train_time_intr for s in ddnmrom.subdomain]+\\\n",
    "                        [s.train_time_intf for s in ddnmrom.subdomain])\n",
    "max_train_time"
   ]
  },
  {
   "cell_type": "code",
   "execution_count": null,
   "metadata": {},
   "outputs": [],
   "source": [
    "intr_params+intf_params"
   ]
  },
  {
   "cell_type": "markdown",
   "metadata": {},
   "source": [
    "## Spy plots of sparsity masks"
   ]
  },
  {
   "cell_type": "code",
   "execution_count": null,
   "metadata": {},
   "outputs": [],
   "source": [
    "# plot sparsity masks\n",
    "sub = 0\n",
    "plt.figure(figsize=(12, 4))\n",
    "plt.spy(ddnmrom.subdomain[sub].de_mask_intr)\n",
    "file = fig_dir+f'ld_{ddnmrom.subdomain[sub].intr_latent_dim}_rnnz_{intr_rnnz}_rshift_{intr_shift}_intr_mask.png'\n",
    "plt.savefig(file, bbox_inches='tight', pad_inches=0.1)\n",
    "plt.show()\n",
    "\n",
    "plt.figure(figsize=(12, 8))\n",
    "plt.spy(ddnmrom.subdomain[sub].de_mask_intf)\n",
    "plt.xticks([])\n",
    "plt.yticks([])\n",
    "file = fig_dir+f'ld_{ddnmrom.subdomain[sub].intf_latent_dim}'+ \\\n",
    "               f'_rnnz_{port_rnnz[0]}_rshift_{port_shift[0]}_intf_mask{ct_str}.png'\n",
    "plt.savefig(file, bbox_inches='tight', pad_inches=0.1)\n",
    "plt.show()"
   ]
  },
  {
   "cell_type": "markdown",
   "metadata": {},
   "source": [
    "## Check reconstruction error"
   ]
  },
  {
   "cell_type": "code",
   "execution_count": null,
   "metadata": {},
   "outputs": [],
   "source": [
    "error = 0.0\n",
    "intr_errors = []\n",
    "intf_errors = []\n",
    "\n",
    "for i, s in enumerate(ddnmrom.subdomain):\n",
    "    uv_intr = np.concatenate([u_intr[i], v_intr[i]])\n",
    "    uv_intf = np.concatenate([u_intf[i], v_intf[i]])\n",
    "    \n",
    "    num_intr = np.sum(np.square(uv_intr - s.de_intr(s.en_intr(uv_intr))[0])) \n",
    "    num_intf = np.sum(np.square(uv_intf - s.de_intf(s.en_intf(uv_intf))[0])) \n",
    "    den_intr = np.sum(np.square(uv_intr)) \n",
    "    den_intf =  np.sum(np.square(uv_intf)) \n",
    "    intr_errors.append(num_intr/den_intr)\n",
    "    intf_errors.append(num_intf/den_intf)\n",
    "    error += (num_intr+num_intf)/(den_intr+den_intf)\n",
    "    \n",
    "error = np.sqrt(error/ddnmrom.n_sub)\n",
    "print(f'Relative reconstruction error = {error:1.4e}\\n')\n",
    "print('Subdomain     Intr. rel. error     Intf. rel. error')\n",
    "for i in range(n_sub):\n",
    "    print(f'    {i+1:2d}           {intr_errors[i]:1.4e}           {intf_errors[i]:1.4e}') "
   ]
  },
  {
   "cell_type": "markdown",
   "metadata": {},
   "source": [
    "## Analyze behavior of residual at FOM and ROM solutions"
   ]
  },
  {
   "cell_type": "code",
   "execution_count": null,
   "metadata": {},
   "outputs": [],
   "source": [
    "# compute ROM residual, equality constraint\n",
    "Ag_rom = np.zeros(ddnmrom.n_constraints)\n",
    "res_rom = 0.0\n",
    "res_list = []\n",
    "for j, s in enumerate(ddnmrom.subdomain):\n",
    "    res, jac, H, rhs, Ag, Adg = s.res_jac(w_intr[j], w_dd_rom[\"interface\"][j], lam_opt)\n",
    "    res_list.append(res)\n",
    "    res_rom += np.dot(res, res)\n",
    "    Ag_rom += Ag\n",
    "res_rom *= 0.5\n",
    "\n",
    "# compute FOM residual, equality constraint\n",
    "Ag_fom  = np.zeros(ddmdl.n_constraints)\n",
    "res_fom = 0.0\n",
    "for j, s in enumerate(ddmdl.subdomain):\n",
    "    res_fom += np.linalg.norm(s.res_jac(u_intr[j], v_intr[j], u_intf[j], v_intf[j], lam_fom)[0])**2\n",
    "    Ag_fom += s.cmat@np.concatenate([u_intf[j], v_intf[j]])\n",
    "res_fom *= 0.5\n",
    "\n",
    "print(f'ROM LSTSQ residual  = {res_rom:1.4e}')\n",
    "print(f'ROM constraint norm = {np.linalg.norm(Ag_rom):1.4e}')\n",
    "print(f'FOM LSTSQ residual  = {res_fom:1.4e}')\n",
    "print(f'FOM constraint norm = {np.linalg.norm(Ag_fom):1.4e}')"
   ]
  },
  {
   "cell_type": "code",
   "execution_count": null,
   "metadata": {},
   "outputs": [],
   "source": [
    "# compute residual, constraint at encoded FOM solution \n",
    "Ag_en = np.zeros(ddnmrom.n_constraints)\n",
    "res_en = 0.0\n",
    "en_res_list = []\n",
    "for j, s in enumerate(ddnmrom.subdomain):\n",
    "    en_uv_intr = s.en_intr(np.concatenate((u_intr[j], v_intr[j])))\n",
    "    en_uv_intf = s.en_intf(np.concatenate((u_intf[j], v_intf[j])))\n",
    "    \n",
    "    res, jac, H, rhs, Ag, Adg = s.res_jac(en_uv_intr, en_uv_intf, lam_opt)\n",
    "    en_res_list.append(res)\n",
    "    res_en += np.dot(res, res)\n",
    "    Ag_en += Ag\n",
    "res_en *= 0.5\n",
    "print(f'ROM LSTSQ residual at encoded FOM sol.  = {res_en:1.4e}')\n",
    "print(f'ROM constraint norm at encoded FOM sol. = {np.linalg.norm(Ag_en):1.4e}')"
   ]
  },
  {
   "cell_type": "code",
   "execution_count": null,
   "metadata": {},
   "outputs": [],
   "source": [
    "x_err_list = []\n",
    "res_fom_list = []\n",
    "res_enc_list = []\n",
    "RTr_fom_list = []\n",
    "RTr_enc_list = []\n",
    "for j, s in enumerate(ddmdl.subdomain):\n",
    "    res, jac, H, rhs, Ax = s.res_jac(u_intr[j], v_intr[j], u_intf[j], v_intf[j], lam_fom)\n",
    "    RTr = jac.T@res #np.concatenate([jac_intr.T@res, jac_intf.T@res])\n",
    "    RTr_fom_list.append(np.linalg.norm(RTr))\n",
    "    res_fom_list.append(np.linalg.norm(res))\n",
    "    \n",
    "    uv_intr_enc = np.concatenate((u_intr[j], v_intr[j]))\n",
    "    uv_intf_enc = np.concatenate((u_intf[j], v_intf[j]))\n",
    "    \n",
    "    uv_intr_enc = ddnmrom.subdomain[j].de_intr(ddnmrom.subdomain[j].en_intr(uv_intr_enc))[0]\n",
    "    uv_intf_enc = ddnmrom.subdomain[j].de_intf(ddnmrom.subdomain[j].en_intf(uv_intf_enc))[0]\n",
    "    \n",
    "    u_intr_enc = uv_intr_enc[:s.n_interior]\n",
    "    v_intr_enc = uv_intr_enc[s.n_interior:] \n",
    "    u_intf_enc = uv_intf_enc[:s.n_interface]\n",
    "    v_intf_enc = uv_intf_enc[s.n_interface:]\n",
    "    \n",
    "    res, jac, H, rhs, Ax = s.res_jac(u_intr_enc, v_intr_enc, u_intf_enc, v_intf_enc, lam_fom)\n",
    "    RTr = jac.T@res #np.concatenate([jac_intr.T@res, jac_intf.T@res])\n",
    "    RTr_enc_list.append(np.linalg.norm(RTr))\n",
    "    res_enc_list.append(np.linalg.norm(res))\n",
    "    \n",
    "    x_err_list.append(np.linalg.norm(np.concatenate([u_intr[j], v_intr[j], u_intf[j], v_intf[j]])-\n",
    "                                    np.concatenate([uv_intr_enc, uv_intf_enc])))\n",
    "    \n",
    "print(f\"sub.     ||x-x_enc|||    ||r(x)||      ||r(x_enc)||     ||R'(x)^Tr(x)||    ||R'(x_enc)^Tr(x_enc)||\")\n",
    "for j in range(n_sub):\n",
    "    print(f' {j:d}       {x_err_list[j]:1.3e}       {res_fom_list[j]:1.3e}     {res_enc_list[j]:1.3e}         {RTr_fom_list[j]:1.3e}         {RTr_enc_list[j]:1.3e}')    "
   ]
  },
  {
   "cell_type": "code",
   "execution_count": null,
   "metadata": {},
   "outputs": [],
   "source": [
    "print(f\"itr     ||R'*r||         ||Ag||\")\n",
    "for j, r in enumerate(rhs_vecs):\n",
    "    Rr = np.linalg.norm(r[:-ddnmrom.n_constraints])\n",
    "    Ag = np.linalg.norm(r[-ddnmrom.n_constraints:])    \n",
    "    print(f' {j:2d}     {Rr:1.6e}     {Ag:1.6e}')"
   ]
  },
  {
   "cell_type": "code",
   "execution_count": null,
   "metadata": {},
   "outputs": [],
   "source": [
    "# plot residuals on FD grid\n",
    "nx_sub, ny_sub = nx//n_sub_x, ny//n_sub_y\n",
    "nxy_sub = nx_sub*ny_sub\n",
    "if ddnmrom.hr:\n",
    "    u_res_list = []\n",
    "    v_res_list = []\n",
    "    for i, s in enumerate(ddnmrom.subdomain):\n",
    "        r = np.zeros(2*s.n_residual)+1e-16\n",
    "        r[s.hr_ind] = res_list[i]\n",
    "        u_res_list.append(r[:nxy_sub].reshape(ny_sub, nx_sub))\n",
    "        v_res_list.append(r[nxy_sub:].reshape(ny_sub, nx_sub))\n",
    "else:\n",
    "    u_res_list = [r[:nxy_sub].reshape(ny_sub, nx_sub) for r in res_list]\n",
    "    v_res_list = [r[nxy_sub:].reshape(ny_sub, nx_sub) for r in res_list]\n",
    "\n",
    "Ures = []\n",
    "Vres = []\n",
    "counter = 0\n",
    "for j in range(n_sub_y):\n",
    "    Urow = []\n",
    "    Vrow = []\n",
    "    for i in range(n_sub_x):\n",
    "        sub = n_sub_x*j+i\n",
    "        Urow.append(u_res_list[sub])\n",
    "        Vrow.append(v_res_list[sub])\n",
    "    Ures.append(Urow)\n",
    "    Vres.append(Vrow)\n",
    "Ures = np.abs(np.bmat(Ures))\n",
    "Vres = np.abs(np.bmat(Vres))        \n",
    "\n",
    "plt.figure(figsize=(12, 4))\n",
    "plt.pcolormesh(X, Y, Ures, norm=colors.LogNorm(vmin=Ures.min(), vmax=Ures.max()), cmap=cm.jet)\n",
    "plt.xlabel('$x$')\n",
    "plt.ylabel('$y$')\n",
    "cb = plt.colorbar(label='$u$ residual')\n",
    "plt.show()\n",
    "\n",
    "plt.figure(figsize=(12, 4))\n",
    "plt.pcolormesh(X, Y, Vres, norm=colors.LogNorm(vmin=Vres.min(), vmax=Vres.max()), cmap=cm.jet)\n",
    "plt.xlabel('$x$')\n",
    "plt.ylabel('$y$')\n",
    "cb = plt.colorbar(label='$v$ residual')\n",
    "plt.show()"
   ]
  },
  {
   "cell_type": "code",
   "execution_count": null,
   "metadata": {},
   "outputs": [],
   "source": [
    "# net_folder1 = './trained_nets/nx_480_ny_24_mu_0.1_2x_by_2y/'\n",
    "# net_name = 'ld_10_rnnz_10_rshift_10_Sigmoid_batch_32_AbsMSEloss_4200snaps.p'\n",
    "# filename = net_folder1 + 'sub_1of4/interior/' + net_name\n",
    "# net_dict = torch.load(filename)\n",
    "# de_net = net_dict['decoder']\n",
    "# de_net"
   ]
  },
  {
   "cell_type": "code",
   "execution_count": null,
   "metadata": {},
   "outputs": [],
   "source": [
    "# if 'net.2.bias' in de_net:\n",
    "#     print('Deleting old NNs...')\n",
    "#     for phase in ['interior', 'interface']:\n",
    "#         for sub in range(n_sub):\n",
    "#             os.remove(net_folder1+f'sub_{sub+1}of{n_sub}/{phase}/'+net_name)\n",
    "#     print('All done!')\n",
    "# else:\n",
    "#     print('all good')"
   ]
  },
  {
   "cell_type": "code",
   "execution_count": null,
   "metadata": {},
   "outputs": [],
   "source": [
    "w_opt = np.array([])\n",
    "for i in range(ddnmrom.n_sub):\n",
    "    w_opt = np.concatenate([w_opt, w_intr[i], w_dd_rom[\"interface\"][i]])\n",
    "w_opt = np.concatenate([w_opt, lam_opt])\n",
    "\n",
    "eig_list = []\n",
    "for vec in [np.zeros(w0.shape), w_rbf, w_opt]:\n",
    "    rhs, KKT, rjtime = ddnmrom.FJac(vec)\n",
    "    eigs = la.eigh(KKT.toarray(), eigvals_only = True)\n",
    "    eig_list.append(eigs/eigs.max())\n",
    "    \n",
    "plt.figure(figsize=(10, 8))\n",
    "plt.scatter(np.arange(eig_list[0].size), eig_list[0], s=100, c='blue', marker='o', label='zeros', alpha=0.75)\n",
    "plt.scatter(np.arange(eig_list[0].size), eig_list[1], s=100, c='red', marker='^', label='RBF initial', alpha=0.75)\n",
    "plt.scatter(np.arange(eig_list[0].size), eig_list[2], s=100, c='green', marker='x', label='Final', alpha=0.75)\n",
    "plt.yscale('log')\n",
    "# plt.xscale('log')\n",
    "plt.ylabel('Normalized Eigenvalues')\n",
    "plt.xlabel('$k$')\n",
    "plt.grid()\n",
    "plt.legend()\n",
    "plt.show()\n",
    "\n",
    "print(f'# DoF = {ndof_rom}')\n",
    "print(f'# constraints = {ddnmrom.n_constraints}\\n')\n",
    "print('          Zeros     RBF      Final')\n",
    "print(f'# Pos.      {np.sum(eig_list[0]>0):2d}       {np.sum(eig_list[1]>0):2d}        {np.sum(eig_list[2]>0):2d}')\n",
    "print(f'# Neg.      {np.sum(eig_list[0]<0):2d}       {np.sum(eig_list[1]<0):2d}        {np.sum(eig_list[2]<0):2d}')"
   ]
  }
 ],
 "metadata": {
  "kernelspec": {
   "display_name": "toss",
   "language": "python",
   "name": "python3"
  },
  "language_info": {
   "codemirror_mode": {
    "name": "ipython",
    "version": 3
   },
   "file_extension": ".py",
   "mimetype": "text/x-python",
   "name": "python",
   "nbconvert_exporter": "python",
   "pygments_lexer": "ipython3",
   "version": "3.9.19"
  }
 },
 "nbformat": 4,
 "nbformat_minor": 4
}
