{
 "cells": [
  {
   "cell_type": "markdown",
   "metadata": {},
   "source": [
    "# driver_monolithic_NMROM\n",
    "Driver to implement and test NM ROM on the 2D Burgers Equation.  "
   ]
  },
  {
   "cell_type": "code",
   "execution_count": null,
   "metadata": {},
   "outputs": [],
   "source": [
    "import sys\n",
    "sys.path.append(\"/Users/zanardi1/Workspace/Codes/DD-NM-ROM/dd-nm-rom\")"
   ]
  },
  {
   "cell_type": "code",
   "execution_count": null,
   "metadata": {},
   "outputs": [],
   "source": [
    "import numpy as np\n",
    "import matplotlib.pyplot as plt\n",
    "import torch\n",
    "from matplotlib import cm\n",
    "import matplotlib.colors as colors\n",
    "import scipy.sparse as sp\n",
    "import scipy.linalg as la\n",
    "from time import time\n",
    "import dill as pickle\n",
    "import os\n",
    "from utils.Burgers2D_probgen import Burgers2D\n",
    "from utils.domain_decomposition import DD_model\n",
    "from utils.monolithic_LSROM import compute_basis_from_svd #, select_sample_nodes\n",
    "# from utils.NM_ROM import DD_NM_ROM, separate_snapshots, compute_residual_bases, RBFmdl, get_net_np_params, sp_diag\n",
    "from utils.monolithic_NMROM import monolithic_NMROM, monolithic_NMROM_HR\n",
    "from utils.newton_solve import gauss_newton\n",
    "from scipy.interpolate import RBFInterpolator"
   ]
  },
  {
   "cell_type": "code",
   "execution_count": null,
   "metadata": {},
   "outputs": [],
   "source": [
    "data_dir = './data/'\n",
    "fig_dir0 = './figures/'\n",
    "for d in [data_dir, fig_dir0]:\n",
    "    if not os.path.exists(d): os.mkdir(d)\n",
    "plt.rc('font', size=20)\n",
    "plt.rcParams['text.usetex'] = True"
   ]
  },
  {
   "cell_type": "markdown",
   "metadata": {},
   "source": [
    "## Set model parameters"
   ]
  },
  {
   "cell_type": "code",
   "execution_count": null,
   "metadata": {},
   "outputs": [],
   "source": [
    "# define constant parameters for PDE\n",
    "nx, ny  = 480, 24\n",
    "x_lim   = [-1.0, 1.0]\n",
    "y_lim   = [0.0, 0.05]\n",
    "\n",
    "na1, nlam = 80, 80\n",
    "a1_lim  = [1.0, 10000.0]\n",
    "lam_lim = [5.0, 25.0]\n",
    "\n",
    "a1, lam = 7692.5384, 21.9230\n",
    "viscosity = 1e-1\n",
    "\n",
    "print(f'a1, lam = {a1, lam}')\n",
    "\n",
    "# number of subdomains in x and y directions for DD model\n",
    "n_sub_x = 1\n",
    "n_sub_y = 1\n",
    "\n",
    "n_sub   = n_sub_x*n_sub_y\n",
    "fig_dir1 = fig_dir0 + f'nx_{nx}_ny_{ny}_mu_{viscosity}_{n_sub_x}x_by_{n_sub_y}y/'\n",
    "fig_dir  = fig_dir1 + f'a1_{a1}_lam_{lam}/'\n",
    "svd_dir  = data_dir + f'nx_{nx}_ny_{ny}_mu_{viscosity}_{n_sub_x}x_by_{n_sub_y}y/'\n",
    "nm_figs  = fig_dir + 'nmrom/'\n",
    "for d in [fig_dir1, fig_dir, nm_figs]:\n",
    "    if not os.path.exists(d):\n",
    "        os.mkdir(d)\n",
    "if not os.path.exists(svd_dir): print('Error: Must run LS-ROM notebook before proceeding.')"
   ]
  },
  {
   "cell_type": "code",
   "execution_count": null,
   "metadata": {},
   "outputs": [],
   "source": [
    "# load snapshot and residual data\n",
    "file = f'./data/residual_nx_{nx}_ny_{ny}_mu_{viscosity}_Nsamples_{400}.p'\n",
    "data = pickle.load(open(file, 'rb'))\n",
    "Mu = data['parameters']\n",
    "snapshots = data['snapshots']\n",
    "residuals = data['residuals']"
   ]
  },
  {
   "cell_type": "markdown",
   "metadata": {},
   "source": [
    "## Solve monolithic FOM"
   ]
  },
  {
   "cell_type": "code",
   "execution_count": null,
   "metadata": {},
   "outputs": [],
   "source": [
    "# compute FOM for given a1 and lambda\n",
    "def u_exact(x, y):\n",
    "    phi = a1 + a1*x + (np.exp(lam*(x-1.0)) + np.exp(-lam*(x - 1.0)))*np.cos(lam*y)\n",
    "    val = -2.0*viscosity*(a1 + lam*(np.exp(lam*(x-1.0)) \\\n",
    "          - np.exp(-lam*(x - 1.0)))*np.cos(lam*y))/phi\n",
    "    return val\n",
    "def v_exact(x, y):\n",
    "    phi = a1 + a1*x + (np.exp(lam*(x-1.0)) + np.exp(-lam*(x - 1.0)))*np.cos(lam*y)\n",
    "    val =  2.0*viscosity*(lam*(np.exp(lam*(x-1.0)) \\\n",
    "           + np.exp(-lam*(x - 1.0)))*np.sin(lam*y))/phi\n",
    "    return val\n",
    "\n",
    "# generate Burgers FOM on full domain\n",
    "fom = Burgers2D(nx, ny, x_lim, y_lim, viscosity, u_exact, v_exact)\n",
    "print('Solving monolithic FOM:')\n",
    "start = time()\n",
    "u_fom, v_fom, res_hist = fom.solve(np.zeros(fom.nxy), np.zeros(fom.nxy), tol=1e-8, print_hist=True)\n",
    "fom_time = time()-start\n",
    "sol_fd = np.concatenate([u_fom, v_fom])"
   ]
  },
  {
   "cell_type": "code",
   "execution_count": null,
   "metadata": {},
   "outputs": [],
   "source": [
    "# plot DD FOM u and v\n",
    "x = np.linspace(x_lim[0], x_lim[1], nx+2)[1:-1]\n",
    "y = np.linspace(y_lim[0], y_lim[1], ny+2)[1:-1]\n",
    "X, Y = np.meshgrid(x, y)\n",
    "U_fom = u_fom.reshape(ny, nx)\n",
    "V_fom = v_fom.reshape(ny, nx)\n",
    "\n",
    "plt.figure(figsize=(12, 4))\n",
    "plt.pcolormesh(X, Y, U_fom, cmap=cm.jet, shading='auto', vmin=u_fom.min(), vmax=u_fom.max())\n",
    "# plt.xlabel('$x$')\n",
    "# plt.ylabel('$y$')\n",
    "cb = plt.colorbar()#label='$u(x, y)$')\n",
    "file = fig_dir+'u_fom.png'\n",
    "plt.savefig(file, bbox_inches='tight', pad_inches=0.1)\n",
    "plt.show()\n",
    "\n",
    "plt.figure(figsize=(12, 4))\n",
    "plt.pcolormesh(X, Y, V_fom, cmap=cm.jet, shading='auto', vmin=v_fom.min(), vmax=v_fom.max())\n",
    "# plt.xlabel('$x$')\n",
    "# plt.ylabel('$y$')\n",
    "cb = plt.colorbar()#label='$v(x, y)$')\n",
    "file = fig_dir+'v_fom.png'\n",
    "plt.savefig(file, bbox_inches='tight', pad_inches=0.1)\n",
    "plt.show()"
   ]
  },
  {
   "cell_type": "markdown",
   "metadata": {},
   "source": [
    "## Generate NM-ROM class"
   ]
  },
  {
   "cell_type": "code",
   "execution_count": null,
   "metadata": {
    "scrolled": true
   },
   "outputs": [],
   "source": [
    "ec     = 1e-10          # energy criteria for number of interior and interface basis vectors\n",
    "nbasis = -1             # number of residual basis vectors. set to -1 to use energy criteria\n",
    "\n",
    "# load SVD data\n",
    "print('Loading residual SVD data...')\n",
    "res_dict  = pickle.load(open(svd_dir+'res_svd.p', 'rb'))\n",
    "print('Data loaded!')\n",
    "\n",
    "# compute bases\n",
    "print('Computing residual basis...')\n",
    "residual_basis = compute_basis_from_svd(res_dict, ec=ec, nbasis=nbasis)\n",
    "print('Bases computed!')\n",
    "\n",
    "print(f'residual_basis.shape={residual_basis.shape}')"
   ]
  },
  {
   "cell_type": "code",
   "execution_count": null,
   "metadata": {},
   "outputs": [],
   "source": [
    "# autoencoder parameters\n",
    "latent_dim = 9\n",
    "row_nnz    = 5\n",
    "row_shift  = 5\n",
    "act_type   = 'Swish'\n",
    "\n",
    "Ntotal = 6400 if nx in [240, 480] else 4200\n",
    "net_folder0 = f'./trained_nets/nx_{nx}_ny_{ny}_mu_{viscosity}_{n_sub_x}x_by_{n_sub_y}y/sub_1of1/'\n",
    "net_name = net_folder0+\\\n",
    "           f'ld_{latent_dim}_rnnz_{row_nnz}_rshift_{row_shift}_'+\\\n",
    "           f'{act_type}_batch_32_AbsMSEloss_{Ntotal}snaps.p' \n",
    "device = torch.device(\"cuda\" if torch.cuda.is_available() else \"cpu\")\n",
    "net_dict = torch.load(net_name, map_location=device)"
   ]
  },
  {
   "cell_type": "code",
   "execution_count": null,
   "metadata": {},
   "outputs": [],
   "source": [
    "# instatiate NM-ROM\n",
    "nmrom = monolithic_NMROM(fom, net_dict)"
   ]
  },
  {
   "cell_type": "code",
   "execution_count": null,
   "metadata": {},
   "outputs": [],
   "source": [
    "# train RBF interpolator for initial iterate\n",
    "enc_snapshots = np.vstack([nmrom.encoder(s) for s in snapshots])\n",
    "rbfmdl = RBFInterpolator(Mu, enc_snapshots, neighbors=None, kernel='linear')"
   ]
  },
  {
   "cell_type": "code",
   "execution_count": null,
   "metadata": {},
   "outputs": [],
   "source": [
    "# solve nmrom\n",
    "start = time()\n",
    "w0 = rbfmdl(np.array([[a1,lam]])).reshape(-1,) # compute initial iterate\n",
    "w, res_hist, step_hist, iter = nmrom.solve(w0, tol=1e-3, maxit=5, print_hist=True)\n",
    "rom_time = time()-start\n",
    "nmrom_rel_err = np.linalg.norm(sol_fd-nmrom.decoder(w)[0])/np.linalg.norm(sol_fd)\n",
    "print(f'DD-ROM rel. error = {nmrom_rel_err:1.4e}')\n",
    "print(f'Speedup = {fom_time/rom_time}')"
   ]
  },
  {
   "cell_type": "code",
   "execution_count": null,
   "metadata": {},
   "outputs": [],
   "source": [
    "# plot rom solutions\n",
    "uv_rom = nmrom.decoder(w)[0]\n",
    "u_rom = uv_rom[:nmrom.nxy]\n",
    "v_rom = uv_rom[nmrom.nxy:]\n",
    "U_rom = u_rom.reshape(ny, nx)\n",
    "V_rom = v_rom.reshape(ny, nx)\n",
    "\n",
    "plt.figure(figsize=(12, 4))\n",
    "plt.pcolormesh(X, Y, U_rom, cmap=cm.jet, shading='auto', vmin=u_fom.min(), vmax=u_fom.max())\n",
    "plt.xlabel('$x$')\n",
    "plt.ylabel('$y$')\n",
    "cb = plt.colorbar()#label='$u(x, y)$')\n",
    "file = nm_figs+'u_state.png'\n",
    "plt.savefig(file, bbox_inches='tight', pad_inches=0.1)\n",
    "plt.show()\n",
    "\n",
    "plt.figure(figsize=(12, 4))\n",
    "plt.pcolormesh(X, Y, V_rom, cmap=cm.jet, shading='auto', vmin=v_fom.min(), vmax=v_fom.max())\n",
    "plt.xlabel('$x$')\n",
    "plt.ylabel('$y$')\n",
    "cb = plt.colorbar()#label='$v(x, y)$')\n",
    "file = nm_figs+'v_state.png'\n",
    "plt.savefig(file, bbox_inches='tight', pad_inches=0.1)\n",
    "plt.show()"
   ]
  },
  {
   "cell_type": "code",
   "execution_count": null,
   "metadata": {},
   "outputs": [],
   "source": [
    "# plot errors\n",
    "u_rel_err = np.abs(U_fom-U_rom)/np.linalg.norm(U_fom)\n",
    "plt.figure(figsize=(12, 4))\n",
    "plt.pcolormesh(X, Y, u_rel_err, cmap=cm.jet, shading='auto')#, vmin=0.0, vmax=4.88e-4)\n",
    "plt.xlabel('$x$')\n",
    "plt.ylabel('$y$')\n",
    "cb = plt.colorbar()#label='$u$ Relative error')\n",
    "file = nm_figs+f'u_rel_error.png'\n",
    "plt.savefig(file, bbox_inches='tight', pad_inches=0.1)\n",
    "plt.show()\n",
    "\n",
    "plt.figure(figsize=(12, 4))\n",
    "v_rel_err = np.abs(V_fom-V_rom)/np.linalg.norm(V_fom)\n",
    "plt.pcolormesh(X, Y, v_rel_err, cmap=cm.jet, shading='auto')#, vmin=0.0, vmax=4.88e-4)\n",
    "plt.xlabel('$x$')\n",
    "plt.ylabel('$y$')\n",
    "cb = plt.colorbar()#label='$v$ Relative error')\n",
    "file = nm_figs+f'v_rel_error.png'\n",
    "plt.savefig(file, bbox_inches='tight', pad_inches=0.1)\n",
    "plt.show()"
   ]
  },
  {
   "cell_type": "markdown",
   "metadata": {},
   "source": [
    "## NMROM with HR"
   ]
  },
  {
   "cell_type": "code",
   "execution_count": null,
   "metadata": {},
   "outputs": [],
   "source": [
    "# instantiate NMROM with HR\n",
    "nmromhr = monolithic_NMROM_HR(fom, net_dict, residual_basis, sample_ratio=2, n_samples=-1)"
   ]
  },
  {
   "cell_type": "code",
   "execution_count": null,
   "metadata": {},
   "outputs": [],
   "source": [
    "# train RBF interpolator for initial iterate\n",
    "enc_snapshots = np.vstack([nmromhr.encoder(s) for s in snapshots])\n",
    "rbfmdl = RBFInterpolator(Mu, enc_snapshots, neighbors=None, kernel='linear')"
   ]
  },
  {
   "cell_type": "code",
   "execution_count": null,
   "metadata": {},
   "outputs": [],
   "source": [
    "# solve nmrom\n",
    "start = time()\n",
    "w0 = rbfmdl(np.array([[a1,lam]])).reshape(-1,) # compute initial iterate\n",
    "w_hr, res_hist, step_hist, iter = nmromhr.solve(w0, tol=1e-3, maxit=5, print_hist=True)\n",
    "hr_rom_time = time()-start\n",
    "nmromhr_rel_err = np.linalg.norm(sol_fd-nmromhr.decoder(w_hr)[0])/np.linalg.norm(sol_fd)\n",
    "print(f'DD-ROM rel. error = {nmromhr_rel_err:1.4e}')\n",
    "print(f'Speedup = {fom_time/hr_rom_time}')"
   ]
  },
  {
   "cell_type": "code",
   "execution_count": null,
   "metadata": {},
   "outputs": [],
   "source": [
    "# plot rom solutions\n",
    "uv_rom = nmromhr.decoder(w_hr)[0]\n",
    "u_rom = uv_rom[:nmromhr.nxy]\n",
    "v_rom = uv_rom[nmromhr.nxy:]\n",
    "U_rom = u_rom.reshape(ny, nx)\n",
    "V_rom = v_rom.reshape(ny, nx)\n",
    "\n",
    "plt.figure(figsize=(12, 4))\n",
    "plt.pcolormesh(X, Y, U_rom, cmap=cm.jet, shading='auto', vmin=u_fom.min(), vmax=u_fom.max())\n",
    "plt.xlabel('$x$')\n",
    "plt.ylabel('$y$')\n",
    "cb = plt.colorbar()#label='$u(x, y)$')\n",
    "file = nm_figs+'u_col_hr_state.png'\n",
    "plt.savefig(file, bbox_inches='tight', pad_inches=0.1)\n",
    "plt.show()\n",
    "\n",
    "plt.figure(figsize=(12, 4))\n",
    "plt.pcolormesh(X, Y, V_rom, cmap=cm.jet, shading='auto', vmin=v_fom.min(), vmax=v_fom.max())\n",
    "plt.xlabel('$x$')\n",
    "plt.ylabel('$y$')\n",
    "cb = plt.colorbar()#label='$v(x, y)$')\n",
    "file = nm_figs+'v_col_hr_state.png'\n",
    "plt.savefig(file, bbox_inches='tight', pad_inches=0.1)\n",
    "plt.show()"
   ]
  },
  {
   "cell_type": "code",
   "execution_count": null,
   "metadata": {},
   "outputs": [],
   "source": [
    "# plot errors\n",
    "u_rel_err = np.abs(U_fom-U_rom)/np.linalg.norm(U_fom)\n",
    "plt.figure(figsize=(12, 4))\n",
    "plt.pcolormesh(X, Y, u_rel_err, cmap=cm.jet, shading='auto')#, vmin=0.0, vmax=4.88e-4)\n",
    "plt.xlabel('$x$')\n",
    "plt.ylabel('$y$')\n",
    "cb = plt.colorbar()#label='$u$ Relative error')\n",
    "file = nm_figs+f'u_col_hr_rel_error.png'\n",
    "plt.savefig(file, bbox_inches='tight', pad_inches=0.1)\n",
    "plt.show()\n",
    "\n",
    "plt.figure(figsize=(12, 4))\n",
    "v_rel_err = np.abs(V_fom-V_rom)/np.linalg.norm(V_fom)\n",
    "plt.pcolormesh(X, Y, v_rel_err, cmap=cm.jet, shading='auto')#, vmin=0.0, vmax=4.88e-4)\n",
    "plt.xlabel('$x$')\n",
    "plt.ylabel('$y$')\n",
    "cb = plt.colorbar()#label='$v$ Relative error')\n",
    "file = nm_figs+f'v_col_hr_rel_error.png'\n",
    "plt.savefig(file, bbox_inches='tight', pad_inches=0.1)\n",
    "plt.show()"
   ]
  },
  {
   "cell_type": "code",
   "execution_count": null,
   "metadata": {},
   "outputs": [],
   "source": [
    "n_params = nmrom.en_W1.nnz + nmrom.en_b1.size + np.prod(nmrom.en_W2.shape) \\\n",
    "           + nmrom.de_W2.nnz + nmrom.de_b1.size + np.prod(nmrom.de_W1.shape)"
   ]
  },
  {
   "cell_type": "code",
   "execution_count": null,
   "metadata": {},
   "outputs": [],
   "source": [
    "nmromhr.train_time"
   ]
  },
  {
   "cell_type": "code",
   "execution_count": null,
   "metadata": {},
   "outputs": [],
   "source": [
    "nmromhr.train_time/1276.4079313278198"
   ]
  },
  {
   "cell_type": "code",
   "execution_count": null,
   "metadata": {},
   "outputs": [],
   "source": [
    "n_params"
   ]
  },
  {
   "cell_type": "code",
   "execution_count": null,
   "metadata": {},
   "outputs": [],
   "source": [
    "P = [1.147e6, 5.257e5, 2.617e5, 1.297e5]\n",
    "red = [(1-p/n_params)*100 for p in P]\n",
    "red"
   ]
  },
  {
   "cell_type": "code",
   "execution_count": null,
   "metadata": {},
   "outputs": [],
   "source": [
    "[p/3.226e6 for p in P]"
   ]
  },
  {
   "cell_type": "code",
   "execution_count": null,
   "metadata": {},
   "outputs": [],
   "source": []
  }
 ],
 "metadata": {
  "kernelspec": {
   "display_name": "toss",
   "language": "python",
   "name": "python3"
  },
  "language_info": {
   "codemirror_mode": {
    "name": "ipython",
    "version": 3
   },
   "file_extension": ".py",
   "mimetype": "text/x-python",
   "name": "python",
   "nbconvert_exporter": "python",
   "pygments_lexer": "ipython3",
   "version": "3.9.19"
  }
 },
 "nbformat": 4,
 "nbformat_minor": 4
}
