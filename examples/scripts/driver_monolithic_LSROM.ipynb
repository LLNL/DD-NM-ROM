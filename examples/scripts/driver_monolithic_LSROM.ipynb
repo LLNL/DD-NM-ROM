{
 "cells": [
  {
   "cell_type": "markdown",
   "metadata": {},
   "source": [
    "# driver_monolithic_LSROM\n",
    "Driver to test and evaluate the monolithic LS-ROM on the 2D Burgers' equation.   "
   ]
  },
  {
   "cell_type": "code",
   "execution_count": null,
   "metadata": {},
   "outputs": [],
   "source": [
    "import numpy as np\n",
    "import scipy.linalg as la\n",
    "import scipy.sparse as sp\n",
    "import matplotlib.pyplot as plt\n",
    "from matplotlib import cm\n",
    "import matplotlib.colors as colors\n",
    "import dill as pickle\n",
    "from time import time\n",
    "import os\n",
    "\n",
    "from utils.Burgers2D_probgen import Burgers2D\n",
    "from utils.monolithic_LSROM import monolithic_LSROM, monolithic_LSROM_HR, compute_basis_from_svd\n",
    "from utils.newton_solve import gauss_newton"
   ]
  },
  {
   "cell_type": "code",
   "execution_count": null,
   "metadata": {},
   "outputs": [],
   "source": [
    "data_dir = './data/'\n",
    "plt.rc('font', size=20)\n",
    "plt.rcParams['text.usetex'] = True"
   ]
  },
  {
   "cell_type": "markdown",
   "metadata": {},
   "source": [
    "## Build monolithic FOM"
   ]
  },
  {
   "cell_type": "code",
   "execution_count": null,
   "metadata": {},
   "outputs": [],
   "source": [
    "# define constant parameters for PDE\n",
    "nx, ny  = 480, 24\n",
    "x_lim   = [-1.0, 1.0]\n",
    "y_lim   = [0.0, 0.05]\n",
    "\n",
    "na1, nlam = 80, 80\n",
    "a1_lim  = [1.0, 10000.0]\n",
    "lam_lim = [5.0, 25.0]\n",
    "A, Lam  = np.meshgrid(np.linspace(a1_lim[0], a1_lim[1], na1), np.linspace(lam_lim[0], lam_lim[1], nlam))\n",
    "Mu      = np.vstack([A.flatten(), Lam.flatten()]).T\n",
    "\n",
    "a1, lam = 7692.5384, 21.9230\n",
    "# a1, lam = 1.0, 25.0\n",
    "# a1, lam = np.trunc(np.random.uniform(1.0, 1e4)*1e4)/1e4, np.trunc(np.random.uniform(5.0, 25.0)*1e4)/1e4\n",
    "viscosity = 0.1\n",
    "\n",
    "print(f'a1, lam = {a1, lam}')\n",
    "\n",
    "# number of subdomains in x and y directions for DD model\n",
    "n_sub_x = 1\n",
    "n_sub_y = 1\n",
    "\n",
    "n_sub   = n_sub_x*n_sub_y\n",
    "Ntotal = 6400 if nx in [240, 480] else 4200\n",
    "fig_dir0 = f'./figures/nx_{nx}_ny_{ny}_mu_{viscosity}_{n_sub_x}x_by_{n_sub_y}y/'\n",
    "fig_dir  = fig_dir0+f'a1_{a1}_lam_{lam}/'\n",
    "svd_dir  = f'./data/nx_{nx}_ny_{ny}_mu_{viscosity}_{n_sub_x}x_by_{n_sub_y}y/'\n",
    "ls_figs = fig_dir + 'lsrom/'\n",
    "for d in [fig_dir0, fig_dir, ls_figs, svd_dir]:\n",
    "    if not os.path.exists(d):\n",
    "        os.mkdir(d)"
   ]
  },
  {
   "cell_type": "code",
   "execution_count": null,
   "metadata": {},
   "outputs": [],
   "source": [
    "# compute FOM for given a1 and lambda\n",
    "def u_exact(x, y):\n",
    "    phi = a1 + a1*x + (np.exp(lam*(x-1.0)) + np.exp(-lam*(x - 1.0)))*np.cos(lam*y)\n",
    "    val = -2.0*viscosity*(a1 + lam*(np.exp(lam*(x-1.0)) \\\n",
    "          - np.exp(-lam*(x - 1.0)))*np.cos(lam*y))/phi\n",
    "    return val\n",
    "def v_exact(x, y):\n",
    "    phi = a1 + a1*x + (np.exp(lam*(x-1.0)) + np.exp(-lam*(x - 1.0)))*np.cos(lam*y)\n",
    "    val =  2.0*viscosity*(lam*(np.exp(lam*(x-1.0)) \\\n",
    "           + np.exp(-lam*(x - 1.0)))*np.sin(lam*y))/phi\n",
    "    return val\n",
    "\n",
    "# generate Burgers FOM on full domain\n",
    "fom = Burgers2D(nx, ny, x_lim, y_lim, viscosity, u_exact, v_exact)\n",
    "print('Solving full domain model:')\n",
    "start = time()\n",
    "u_fom, v_fom, res_hist = fom.solve(np.zeros(fom.nxy), np.zeros(fom.nxy), tol=1e-8, print_hist=True)\n",
    "fom_time = time()-start\n",
    "sol_fd = np.concatenate([u_fom, v_fom])"
   ]
  },
  {
   "cell_type": "code",
   "execution_count": null,
   "metadata": {},
   "outputs": [],
   "source": [
    "# plot DD FOM u and v\n",
    "x = np.linspace(x_lim[0], x_lim[1], nx+2)[1:-1]\n",
    "y = np.linspace(y_lim[0], y_lim[1], ny+2)[1:-1]\n",
    "X, Y = np.meshgrid(x, y)\n",
    "U_fom = u_fom.reshape(ny, nx)\n",
    "V_fom = v_fom.reshape(ny, nx)\n",
    "\n",
    "plt.figure(figsize=(12, 4))\n",
    "plt.pcolormesh(X, Y, U_fom, cmap=cm.jet, shading='auto', vmin=u_fom.min(), vmax=u_fom.max())\n",
    "plt.xlabel('$x$')\n",
    "plt.ylabel('$y$')\n",
    "cb = plt.colorbar()#label='$u(x, y)$')\n",
    "file = fig_dir+'u_fom.png'\n",
    "plt.savefig(file, bbox_inches='tight', pad_inches=0.1)\n",
    "plt.show()\n",
    "\n",
    "plt.figure(figsize=(12, 4))\n",
    "plt.pcolormesh(X, Y, V_fom, cmap=cm.jet, shading='auto', vmin=v_fom.min(), vmax=v_fom.max())\n",
    "plt.xlabel('$x$')\n",
    "plt.ylabel('$y$')\n",
    "cb = plt.colorbar()#label='$v(x, y)$')\n",
    "file = fig_dir+'v_fom.png'\n",
    "plt.savefig(file, bbox_inches='tight', pad_inches=0.1)\n",
    "plt.show()"
   ]
  },
  {
   "cell_type": "markdown",
   "metadata": {},
   "source": [
    "## Compute POD basis"
   ]
  },
  {
   "cell_type": "code",
   "execution_count": null,
   "metadata": {},
   "outputs": [],
   "source": [
    "# energy criteria for number of interior and interface basis vectors\n",
    "ec_res   = 1e-8\n",
    "ec_state = 1e-6\n",
    "\n",
    "# number of interior and interface basis vectors. set to -1 to use energy criteria\n",
    "nbasis_res  = -1\n",
    "nbasis_state = 10"
   ]
  },
  {
   "cell_type": "code",
   "execution_count": null,
   "metadata": {},
   "outputs": [],
   "source": [
    "# compute SVD for snapshots/residuals for each subdomain \n",
    "nsnaps = Ntotal\n",
    "if not os.path.exists(svd_dir+f'state_svd_nsnaps_{nsnaps}.p'):\n",
    "    # load snapshot and residual data\n",
    "    print('Loading snapshot data...')\n",
    "    file = f'./data/residual_nx_{nx}_ny_{ny}_mu_{viscosity}_Nsamples_400.p'\n",
    "    data = pickle.load(open(file, 'rb'))\n",
    "    Mu = data['parameters']\n",
    "    residuals = data['residuals']\n",
    "\n",
    "    # load snapshot and residual data\n",
    "    file = f'./data/snapshot_nx_{nx}_ny_{ny}_mu_{viscosity}_Nsamples_{Ntotal}.p'\n",
    "    data = pickle.load(open(file, 'rb'))\n",
    "    Mu = data['parameters']\n",
    "    snapshots = data['snapshots']\n",
    "    print('Data loaded!')\n",
    "    \n",
    "    # gets indices for training snapshots\n",
    "    if nsnaps>=0:\n",
    "        idx = np.linspace(0, len(snapshots), num=nsnaps, endpoint=False, dtype=int)\n",
    "        snapshots = np.vstack(snapshots)[idx]\n",
    "    \n",
    "    Nsnaps = len(snapshots)\n",
    "    Nres   = len(residuals)\n",
    "    \n",
    "    # sets file names\n",
    "    res_file =svd_dir+f'res_svd.p'\n",
    "    state_file=svd_dir+f'state_svd_nsnaps_{Nsnaps}.p'        \n",
    "    \n",
    "    print(f'Computing state SVD...')\n",
    "    state_leftvecs, state_singvals, vh_state = la.svd(snapshots.T, full_matrices=False, check_finite=False)\n",
    "    print('Done!')\n",
    "    \n",
    "    print('Saving state SVD data...')\n",
    "    state_dict = {'left_vecs': state_leftvecs, \n",
    "                 'sing_vals': state_singvals}\n",
    "    pickle.dump(state_dict, open(state_file,'wb'))\n",
    "    print('State SVD data saved!')\n",
    "    \n",
    "    print(f'Computing residual SVD...')\n",
    "    res_leftvecs, res_singvals, vh_res = la.svd(np.vstack(residuals).T, full_matrices=False, check_finite=False)\n",
    "    print('Done!')  \n",
    "\n",
    "    # saves data\n",
    "    print('Saving residual SVD data...')\n",
    "    res_dict = {'left_vecs': res_leftvecs, \n",
    "                'sing_vals': res_singvals}\n",
    "    pickle.dump(res_dict, open(res_file,'wb'))    \n",
    "    print('Residual SVD data saved!')\n",
    "    \n",
    "else:\n",
    "    # load SVD data\n",
    "    print('Loading SVD data...')\n",
    "    state_dict = pickle.load(open(svd_dir+f'state_svd_nsnaps_{nsnaps}.p', 'rb'))\n",
    "    res_dict   = pickle.load(open(svd_dir+'res_svd.p', 'rb'))\n",
    "    print('Data loaded!')\n"
   ]
  },
  {
   "cell_type": "code",
   "execution_count": null,
   "metadata": {},
   "outputs": [],
   "source": [
    "# compute bases\n",
    "print('Computing state and residual bases...')\n",
    "state_basis = compute_basis_from_svd(state_dict, ec=ec_state, nbasis=nbasis_state)\n",
    "res_basis = compute_basis_from_svd(res_dict, ec=ec_res, nbasis=nbasis_res)\n",
    "print('Bases computed!')"
   ]
  },
  {
   "cell_type": "markdown",
   "metadata": {},
   "source": [
    "## Construct LS-ROM class"
   ]
  },
  {
   "cell_type": "markdown",
   "metadata": {},
   "source": [
    "## Solve LS-ROM"
   ]
  },
  {
   "cell_type": "code",
   "execution_count": null,
   "metadata": {},
   "outputs": [],
   "source": [
    "# compute LS-ROM\n",
    "lsrom = monolithic_LSROM(fom, state_basis)"
   ]
  },
  {
   "cell_type": "code",
   "execution_count": null,
   "metadata": {},
   "outputs": [],
   "source": [
    "# solve lsrom\n",
    "w0 = np.zeros(lsrom.n_state)\n",
    "start = time()\n",
    "w, res_hist, step_hist, iter = lsrom.solve(w0, tol=1e-3, maxit=15, print_hist=True)\n",
    "rom_time = time()-start\n",
    "lsrom_rel_err = np.linalg.norm(sol_fd-lsrom.basis@w)/np.linalg.norm(sol_fd)\n",
    "print(f'DD-ROM rel. error = {lsrom_rel_err:1.4e}')\n",
    "print(f'Speedup = {fom_time/rom_time}')"
   ]
  },
  {
   "cell_type": "code",
   "execution_count": null,
   "metadata": {},
   "outputs": [],
   "source": [
    "# plot rom solutions\n",
    "u_rom = lsrom.u_basis@w\n",
    "v_rom = lsrom.v_basis@w\n",
    "U_rom = u_rom.reshape(ny, nx)\n",
    "V_rom = v_rom.reshape(ny, nx)\n",
    "\n",
    "plt.figure(figsize=(12, 4))\n",
    "plt.pcolormesh(X, Y, U_rom, cmap=cm.jet, shading='auto', vmin=u_fom.min(), vmax=u_fom.max())\n",
    "plt.xlabel('$x$')\n",
    "plt.ylabel('$y$')\n",
    "cb = plt.colorbar()#label='$u(x, y)$')\n",
    "file = ls_figs+'u_state.png'\n",
    "plt.savefig(file, bbox_inches='tight', pad_inches=0.1)\n",
    "plt.show()\n",
    "\n",
    "plt.figure(figsize=(12, 4))\n",
    "plt.pcolormesh(X, Y, V_rom, cmap=cm.jet, shading='auto', vmin=v_fom.min(), vmax=v_fom.max())\n",
    "plt.xlabel('$x$')\n",
    "plt.ylabel('$y$')\n",
    "cb = plt.colorbar()#label='$v(x, y)$')\n",
    "file = ls_figs+'v_state.png'\n",
    "plt.savefig(file, bbox_inches='tight', pad_inches=0.1)\n",
    "plt.show()"
   ]
  },
  {
   "cell_type": "code",
   "execution_count": null,
   "metadata": {},
   "outputs": [],
   "source": [
    "# plot errors\n",
    "u_rel_err = np.abs(U_fom-U_rom)/np.linalg.norm(U_fom)\n",
    "plt.figure(figsize=(12, 4))\n",
    "plt.pcolormesh(X, Y, u_rel_err, cmap=cm.jet, shading='auto')#, vmin=0.0, vmax=4.88e-4)\n",
    "plt.xlabel('$x$')\n",
    "plt.ylabel('$y$')\n",
    "cb = plt.colorbar()#label='$u$ Relative error')\n",
    "file = ls_figs+f'u_rel_error.png'\n",
    "plt.savefig(file, bbox_inches='tight', pad_inches=0.1)\n",
    "plt.show()\n",
    "\n",
    "plt.figure(figsize=(12, 4))\n",
    "v_rel_err = np.abs(V_fom-V_rom)/np.linalg.norm(V_fom)\n",
    "plt.pcolormesh(X, Y, v_rel_err, cmap=cm.jet, shading='auto')#, vmin=0.0, vmax=4.88e-4)\n",
    "plt.xlabel('$x$')\n",
    "plt.ylabel('$y$')\n",
    "cb = plt.colorbar()#label='$v$ Relative error')\n",
    "file = ls_figs+f'v_rel_error.png'\n",
    "plt.savefig(file, bbox_inches='tight', pad_inches=0.1)\n",
    "plt.show()"
   ]
  },
  {
   "cell_type": "markdown",
   "metadata": {},
   "source": [
    "## Implement LS-ROM with HR"
   ]
  },
  {
   "cell_type": "code",
   "execution_count": null,
   "metadata": {},
   "outputs": [],
   "source": [
    "# compute LS-ROM\n",
    "lsromhr = monolithic_LSROM_HR(fom, state_basis, res_basis, sample_ratio=2, n_samples=-1)"
   ]
  },
  {
   "cell_type": "code",
   "execution_count": null,
   "metadata": {},
   "outputs": [],
   "source": [
    "# solve lsrom\n",
    "w0 = np.zeros(lsromhr.n_state)\n",
    "start = time()\n",
    "w_hr, res_hist, step_hist, iter = lsromhr.solve(w0, tol=1e-3, maxit=15, print_hist=True)\n",
    "hr_rom_time = time()-start\n",
    "lsromhr_rel_err = np.linalg.norm(sol_fd-lsromhr.basis@w_hr)/np.linalg.norm(sol_fd)\n",
    "print(f'DD-ROM rel. error = {lsromhr_rel_err:1.4e}')\n",
    "print(f'Speedup = {fom_time/hr_rom_time}')"
   ]
  },
  {
   "cell_type": "code",
   "execution_count": null,
   "metadata": {},
   "outputs": [],
   "source": [
    "# plot rom solutions\n",
    "u_rom = lsromhr.u_basis@w\n",
    "v_rom = lsromhr.v_basis@w\n",
    "U_rom = u_rom.reshape(ny, nx)\n",
    "V_rom = v_rom.reshape(ny, nx)\n",
    "\n",
    "plt.figure(figsize=(12, 4))\n",
    "plt.pcolormesh(X, Y, U_rom, cmap=cm.jet, shading='auto', vmin=u_fom.min(), vmax=u_fom.max())\n",
    "plt.xlabel('$x$')\n",
    "plt.ylabel('$y$')\n",
    "cb = plt.colorbar()#label='$u(x, y)$')\n",
    "file = ls_figs+'u_col_hr_state.png'\n",
    "plt.savefig(file, bbox_inches='tight', pad_inches=0.1)\n",
    "plt.show()\n",
    "\n",
    "plt.figure(figsize=(12, 4))\n",
    "plt.pcolormesh(X, Y, V_rom, cmap=cm.jet, shading='auto', vmin=v_fom.min(), vmax=v_fom.max())\n",
    "plt.xlabel('$x$')\n",
    "plt.ylabel('$y$')\n",
    "cb = plt.colorbar()#label='$v(x, y)$')\n",
    "file = ls_figs+'v_col_hr_state.png'\n",
    "plt.savefig(file, bbox_inches='tight', pad_inches=0.1)\n",
    "plt.show()"
   ]
  },
  {
   "cell_type": "code",
   "execution_count": null,
   "metadata": {},
   "outputs": [],
   "source": [
    "# plot errors\n",
    "u_rel_err = np.abs(U_fom-U_rom)/np.linalg.norm(U_fom)\n",
    "plt.figure(figsize=(12, 4))\n",
    "plt.pcolormesh(X, Y, u_rel_err, cmap=cm.jet, shading='auto')#, vmin=0.0, vmax=4.88e-4)\n",
    "plt.xlabel('$x$')\n",
    "plt.ylabel('$y$')\n",
    "cb = plt.colorbar()#label='$u$ Relative error')\n",
    "file = ls_figs+f'u_col_hr_rel_error.png'\n",
    "plt.savefig(file, bbox_inches='tight', pad_inches=0.1)\n",
    "plt.show()\n",
    "\n",
    "plt.figure(figsize=(12, 4))\n",
    "v_rel_err = np.abs(V_fom-V_rom)/np.linalg.norm(V_fom)\n",
    "plt.pcolormesh(X, Y, v_rel_err, cmap=cm.jet, shading='auto')#, vmin=0.0, vmax=4.88e-4)\n",
    "plt.xlabel('$x$')\n",
    "plt.ylabel('$y$')\n",
    "cb = plt.colorbar()#label='$v$ Relative error')\n",
    "file = ls_figs+f'v_col_hr_rel_error.png'\n",
    "plt.savefig(file, bbox_inches='tight', pad_inches=0.1)\n",
    "plt.show()"
   ]
  },
  {
   "cell_type": "markdown",
   "metadata": {},
   "source": [
    "## Compute FOM residual at ROM solution"
   ]
  },
  {
   "cell_type": "code",
   "execution_count": null,
   "metadata": {},
   "outputs": [],
   "source": [
    "uv = lsromhr.basis@w_hr\n",
    "u, v = uv[:fom.nxy], uv[fom.nxy:]\n",
    "r = fom.residual(u, v)\n",
    "np.linalg.norm(r/fom.nxy)"
   ]
  }
 ],
 "metadata": {
  "kernelspec": {
   "display_name": "Open-CE-1.7.2",
   "language": "python",
   "name": "opence-1.7.2-cuda-11.4"
  },
  "language_info": {
   "codemirror_mode": {
    "name": "ipython",
    "version": 3
   },
   "file_extension": ".py",
   "mimetype": "text/x-python",
   "name": "python",
   "nbconvert_exporter": "python",
   "pygments_lexer": "ipython3",
   "version": "3.9.15"
  }
 },
 "nbformat": 4,
 "nbformat_minor": 4
}
