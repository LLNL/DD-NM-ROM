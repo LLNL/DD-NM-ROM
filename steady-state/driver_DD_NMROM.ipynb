{
 "cells": [
  {
   "cell_type": "markdown",
   "metadata": {},
   "source": [
    "# driver_DD_NMROM\n",
    "Driver to implement and test NM ROM on the 2D Burgers Equation.  "
   ]
  },
  {
   "cell_type": "code",
   "execution_count": 1,
   "metadata": {},
   "outputs": [
    {
     "name": "stderr",
     "output_type": "stream",
     "text": [
      "/usr/workspace/diaz64/anaconda/envs/opence-1.7.2-cuda-11.4/lib/python3.9/site-packages/tqdm/auto.py:22: TqdmWarning: IProgress not found. Please update jupyter and ipywidgets. See https://ipywidgets.readthedocs.io/en/stable/user_install.html\n",
      "  from .autonotebook import tqdm as notebook_tqdm\n"
     ]
    }
   ],
   "source": [
    "import numpy as np\n",
    "import matplotlib.pyplot as plt\n",
    "import torch\n",
    "from matplotlib import cm\n",
    "import matplotlib.colors as colors\n",
    "import scipy.sparse as sp\n",
    "import scipy.linalg as la\n",
    "from time import time\n",
    "import dill as pickle\n",
    "import os\n",
    "from utils.Burgers2D_probgen import Burgers2D\n",
    "from utils.domain_decomposition import DD_model\n",
    "from utils.LS_ROM import compute_bases_from_svd, DD_LS_ROM\n",
    "from utils.NM_ROM import DD_NM_ROM, separate_snapshots, compute_residual_bases, RBFmdl, get_net_np_params, sp_diag\n",
    "from scipy.interpolate import RBFInterpolator"
   ]
  },
  {
   "cell_type": "code",
   "execution_count": 2,
   "metadata": {},
   "outputs": [],
   "source": [
    "data_dir = './data/'\n",
    "fig_dir0 = './figures/'\n",
    "for d in [data_dir, fig_dir0]:\n",
    "    if not os.path.exists(d): os.mkdir(d)\n",
    "plt.rc('font', size=20)\n",
    "plt.rcParams['text.usetex'] = True"
   ]
  },
  {
   "cell_type": "markdown",
   "metadata": {},
   "source": [
    "## Set model parameters"
   ]
  },
  {
   "cell_type": "code",
   "execution_count": 3,
   "metadata": {},
   "outputs": [
    {
     "name": "stdout",
     "output_type": "stream",
     "text": [
      "a1, lam = (7692.5384, 21.923)\n"
     ]
    }
   ],
   "source": [
    "# define constant parameters for PDE\n",
    "nx, ny  = 480, 24\n",
    "x_lim   = [-1.0, 1.0]\n",
    "y_lim   = [0.0, 0.05]\n",
    "\n",
    "na1, nlam = 80, 80\n",
    "a1_lim  = [1.0, 10000.0]\n",
    "lam_lim = [5.0, 25.0]\n",
    "\n",
    "a1, lam = 7692.5384, 21.9230\n",
    "viscosity = 1e-1\n",
    "\n",
    "print(f'a1, lam = {a1, lam}')\n",
    "\n",
    "# number of subdomains in x and y directions for DD model\n",
    "n_sub_x = 2\n",
    "n_sub_y = 1\n",
    "\n",
    "scaling = -1 # scaling factor for residual. -1 uses hx*hy\n",
    "\n",
    "n_sub   = n_sub_x*n_sub_y\n",
    "fig_dir1 = fig_dir0 + f'nx_{nx}_ny_{ny}_mu_{viscosity}_{n_sub_x}x_by_{n_sub_y}y/'\n",
    "fig_dir  = fig_dir1 + f'a1_{a1}_lam_{lam}/'\n",
    "svd_dir  = data_dir + f'nx_{nx}_ny_{ny}_mu_{viscosity}_{n_sub_x}x_by_{n_sub_y}y/'\n",
    "nm_figs  = fig_dir + 'nmrom/'\n",
    "for d in [fig_dir1, fig_dir, nm_figs]:\n",
    "    if not os.path.exists(d):\n",
    "        os.mkdir(d)\n",
    "if not os.path.exists(svd_dir): print('Error: Must run LS-ROM notebook before proceeding.')"
   ]
  },
  {
   "cell_type": "code",
   "execution_count": 4,
   "metadata": {},
   "outputs": [],
   "source": [
    "# load snapshot and residual data\n",
    "file = f'./data/residual_nx_{nx}_ny_{ny}_mu_{viscosity}_Nsamples_{400}.p'\n",
    "data = pickle.load(open(file, 'rb'))\n",
    "Mu = data['parameters']\n",
    "snapshots = data['snapshots']\n",
    "residuals = data['residuals']"
   ]
  },
  {
   "cell_type": "markdown",
   "metadata": {},
   "source": [
    "## Solve DD FOM"
   ]
  },
  {
   "cell_type": "code",
   "execution_count": 5,
   "metadata": {},
   "outputs": [
    {
     "name": "stdout",
     "output_type": "stream",
     "text": [
      "Solving full domain model:\n",
      "Starting Newton solver...\n",
      "Newton solver terminated after 14 iterations with residual 5.9127e-09.\n",
      "\n",
      "Solving DD model:\n",
      "FOM DoF = 23136\n",
      "Starting Newton solver...\n",
      "iter       Stepsize       Residual\n",
      "   0       0.000e+00      2.341e+06\n",
      "   1       1.000e+00      7.364e+04\n",
      "   2       1.000e+00      1.058e+04\n",
      "   3       1.000e+00      1.096e+03\n",
      "   4       1.000e+00      9.303e+01\n",
      "   5       1.000e+00      7.897e+00\n",
      "   6       1.000e+00      6.731e-01\n",
      "   7       1.000e+00      5.762e-02\n",
      "   8       1.000e+00      4.959e-03\n",
      "   9       1.000e+00      4.295e-04\n",
      "  10       1.000e+00      3.748e-05\n",
      "  11       1.000e+00      3.299e-06\n",
      "  12       1.000e+00      2.932e-07\n",
      "  13       1.000e+00      2.638e-08\n",
      "  14       1.000e+00      2.944e-09\n",
      "  15       1.000e+00      1.742e-09\n",
      "Newton failed to converge in 15 iterations.\n",
      "Newton solver terminated after 15 iterations with residual 1.7418e-09.\n",
      "\n",
      "DD-FOM relative error = 8.5641e-16\n"
     ]
    }
   ],
   "source": [
    "# compute FOM for given a1 and lambda\n",
    "def u_exact(x, y):\n",
    "    phi = a1 + a1*x + (np.exp(lam*(x-1.0)) + np.exp(-lam*(x - 1.0)))*np.cos(lam*y)\n",
    "    val = -2.0*viscosity*(a1 + lam*(np.exp(lam*(x-1.0)) \\\n",
    "          - np.exp(-lam*(x - 1.0)))*np.cos(lam*y))/phi\n",
    "    return val\n",
    "def v_exact(x, y):\n",
    "    phi = a1 + a1*x + (np.exp(lam*(x-1.0)) + np.exp(-lam*(x - 1.0)))*np.cos(lam*y)\n",
    "    val =  2.0*viscosity*(lam*(np.exp(lam*(x-1.0)) \\\n",
    "           + np.exp(-lam*(x - 1.0)))*np.sin(lam*y))/phi\n",
    "    return val\n",
    "\n",
    "# generate Burgers FOM on full domain\n",
    "fom = Burgers2D(nx, ny, x_lim, y_lim, viscosity, u_exact, v_exact)\n",
    "print('Solving full domain model:')\n",
    "u_fom, v_fom, res_hist = fom.solve(np.zeros(fom.nxy), np.zeros(fom.nxy), tol=1e-8, print_hist=False)\n",
    "sol_fd = np.concatenate([u_fom, v_fom])\n",
    "\n",
    "# compute Burgers DD FOM\n",
    "ddmdl = DD_model(fom, n_sub_x, n_sub_y, scaling=scaling)\n",
    "ndof_fom = 2*np.sum([s.n_interior+s.n_interface for s in ddmdl.subdomain]) \\\n",
    "            + ddmdl.subdomain[0].constraint_mat.shape[0]\n",
    "w0 = np.zeros(ndof_fom)\n",
    "print('\\nSolving DD model:')\n",
    "print(f'FOM DoF = {ndof_fom-ddmdl.n_constraints}')\n",
    "u_dd_fom, v_dd_fom, u_intr, v_intr, u_intf, v_intf, lam_fom, fom_time, itr = ddmdl.solve(w0, tol=1e-9, \n",
    "                                                                           maxit=15,\n",
    "                                                                           print_hist=True)\n",
    "sol_dd_fom = np.concatenate([u_dd_fom, v_dd_fom])\n",
    "\n",
    "dd_fom_rel_err = np.linalg.norm(sol_dd_fom-sol_fd)/np.linalg.norm(sol_fd)\n",
    "print(f'\\nDD-FOM relative error = {dd_fom_rel_err:1.4e}') "
   ]
  },
  {
   "cell_type": "code",
   "execution_count": 6,
   "metadata": {},
   "outputs": [],
   "source": [
    "# restrict snapshots to interior and interface subdomains\n",
    "interior, interface = separate_snapshots(ddmdl, snapshots)"
   ]
  },
  {
   "cell_type": "code",
   "execution_count": 7,
   "metadata": {},
   "outputs": [
    {
     "data": {
      "image/png": "[encoded data removed]",
      "text/plain": [
       "<Figure size 1200x400 with 2 Axes>"
      ]
     },
     "metadata": {},
     "output_type": "display_data"
    },
    {
     "data": {
      "image/png": "[encoded data removed]",
      "text/plain": [
       "<Figure size 1200x400 with 2 Axes>"
      ]
     },
     "metadata": {},
     "output_type": "display_data"
    }
   ],
   "source": [
    "# plot DD FOM u and v\n",
    "x = np.linspace(x_lim[0], x_lim[1], nx+2)[1:-1]\n",
    "y = np.linspace(y_lim[0], y_lim[1], ny+2)[1:-1]\n",
    "X, Y = np.meshgrid(x, y)\n",
    "U_fom = u_dd_fom.reshape(ny, nx)\n",
    "V_fom = v_dd_fom.reshape(ny, nx)\n",
    "\n",
    "plt.figure(figsize=(12, 4))\n",
    "plt.pcolormesh(X, Y, U_fom, cmap=cm.jet, shading='auto', vmin=u_fom.min(), vmax=u_fom.max())\n",
    "# plt.xlabel('$x$')\n",
    "# plt.ylabel('$y$')\n",
    "cb = plt.colorbar()#label='$u(x, y)$')\n",
    "file = fig_dir+'u_fom.png'\n",
    "plt.savefig(file, bbox_inches='tight', pad_inches=0.1)\n",
    "plt.show()\n",
    "\n",
    "plt.figure(figsize=(12, 4))\n",
    "plt.pcolormesh(X, Y, V_fom, cmap=cm.jet, shading='auto', vmin=v_fom.min(), vmax=v_fom.max())\n",
    "# plt.xlabel('$x$')\n",
    "# plt.ylabel('$y$')\n",
    "cb = plt.colorbar()#label='$v(x, y)$')\n",
    "file = fig_dir+'v_fom.png'\n",
    "plt.savefig(file, bbox_inches='tight', pad_inches=0.1)\n",
    "plt.show()"
   ]
  },
  {
   "cell_type": "markdown",
   "metadata": {},
   "source": [
    "## Solve DD NM-ROM"
   ]
  },
  {
   "cell_type": "code",
   "execution_count": 8,
   "metadata": {
    "scrolled": true
   },
   "outputs": [
    {
     "name": "stdout",
     "output_type": "stream",
     "text": [
      "Loading residual SVD data...\n",
      "Data loaded!\n",
      "Computing residual bases...\n",
      "Bases computed!\n",
      "residual_bases[0]=(11520, 27)\n",
      "residual_bases[1]=(11520, 72)\n"
     ]
    }
   ],
   "source": [
    "ec     = 1e-10          # energy criteria for number of interior and interface basis vectors\n",
    "nbasis = -1             # number of residual basis vectors. set to -1 to use energy criteria\n",
    "\n",
    "# load SVD data\n",
    "print('Loading residual SVD data...')\n",
    "res_dict  = pickle.load(open(svd_dir+'res_svd.p', 'rb'))\n",
    "print('Data loaded!')\n",
    "\n",
    "# compute bases\n",
    "print('Computing residual bases...')\n",
    "residual_bases = compute_bases_from_svd(res_dict, ec=ec, nbasis=nbasis)\n",
    "print('Bases computed!')\n",
    "\n",
    "for i in range(n_sub):\n",
    "    print(f'residual_bases[{i}]={residual_bases[i].shape}')"
   ]
  },
  {
   "cell_type": "code",
   "execution_count": 9,
   "metadata": {},
   "outputs": [],
   "source": [
    "# port ROM sizes\n",
    "pld        = 2\n",
    "port_size  = [min(len(ddmdl.port_dict[p]-1), pld) for p in ddmdl.ports]\n",
    "port_rnnz  = 3*np.ones(len(ddmdl.ports), dtype=int) \n",
    "port_shift = 3*np.ones(len(ddmdl.ports), dtype=int) \n",
    "port_act_type = 'Sigmoid' #'Swish'\n",
    "\n",
    "Ntotal = 6400 if nx in [240, 480] else 4200\n",
    "net_folder0 = f'./trained_nets/nx_{nx}_ny_{ny}_mu_{viscosity}_{n_sub_x}x_by_{n_sub_y}y/'\n",
    "port_net_list = [net_folder0+\\\n",
    "                 f'port_{i+1}of{len(ddmdl.ports)}/'+\\\n",
    "                 f'ld_{port_size[i]}_rnnz_{port_rnnz[i]}_rshift_{port_shift[i]}_'+\\\n",
    "                 f'{port_act_type}_batch_32_AbsMSEloss_{Ntotal}snaps.p' \\\n",
    "                  for i in range(len(ddmdl.ports))] \n",
    "\n",
    "# interior and interface state ROM sizes\n",
    "intr_size = 6\n",
    "intf_size = 3\n",
    "intr_rnnz = 5\n",
    "intf_rnnz = 5\n",
    "intr_shift = 5\n",
    "intf_shift = 5\n",
    "intr_act_type = 'Swish'\n",
    "intf_act_type = 'Swish'\n",
    "\n",
    "Ntotal = 6400 if nx in [240, 480] else 4200\n",
    "net_folder0 = f'./trained_nets/nx_{nx}_ny_{ny}_mu_{viscosity}_{n_sub_x}x_by_{n_sub_y}y/'\n",
    "intr_net_list = [net_folder0+\\\n",
    "                 f'sub_{i+1}of{n_sub}/interior/'+\\\n",
    "                 f'ld_{intr_size}_rnnz_{intr_rnnz}_rshift_{intr_shift}_'+\\\n",
    "                 f'{intr_act_type}_batch_32_AbsMSEloss_{Ntotal}snaps.p' \\\n",
    "                  for i in range(n_sub)]\n",
    "intf_net_list = [net_folder0+\\\n",
    "                 f'sub_{i+1}of{n_sub}/interface/'+\\\n",
    "                 f'ld_{intf_size}_rnnz_{intf_rnnz}_rshift_{intf_shift}_'+\\\n",
    "                 f'{intf_act_type}_batch_32_AbsMSEloss_{Ntotal}snaps.p' \\\n",
    "                  for i in range(n_sub)]"
   ]
  },
  {
   "cell_type": "code",
   "execution_count": 10,
   "metadata": {},
   "outputs": [
    {
     "name": "stdout",
     "output_type": "stream",
     "text": [
      "Building DD NM-ROM...\n",
      "Using device: cuda\n",
      "ROM built!\n",
      "\n",
      "Computing RBF interpolant...\n",
      "Interpolant computed!\n"
     ]
    }
   ],
   "source": [
    "# build ROM and RBF model (used for generating initial iterate)\n",
    "print('Building DD NM-ROM...')\n",
    "ddnmrom = DD_NM_ROM(ddmdl, \n",
    "                    intr_net_list,\n",
    "                    intf_net_list,\n",
    "                    port_net_list=port_net_list,\n",
    "                    residual_bases=residual_bases,\n",
    "                    hr=True, \n",
    "                    n_samples=100,\n",
    "                    n_corners=75, \n",
    "                    constraint_type='strong', \n",
    "                    n_constraints=1,\n",
    "                    seed=1, \n",
    "                    scaling=scaling)\n",
    "print('ROM built!\\n')\n",
    "\n",
    "print('Computing RBF interpolant...')\n",
    "rbfmdl = RBFmdl(ddnmrom, Mu, interior, interface, neighbors=None, kernel='linear')\n",
    "print('Interpolant computed!')"
   ]
  },
  {
   "cell_type": "code",
   "execution_count": 11,
   "metadata": {},
   "outputs": [],
   "source": [
    "# compute initial iterate using RBF interpolant\n",
    "w_rbf, lam_rbf, initial_time = rbfmdl.get_initial(np.array([[a1, lam]]), ddnmrom)\n",
    "w_rbf = np.concatenate([w_rbf, lam_rbf])"
   ]
  },
  {
   "cell_type": "code",
   "execution_count": 12,
   "metadata": {},
   "outputs": [
    {
     "name": "stdout",
     "output_type": "stream",
     "text": [
      "Solving DD NM-ROM...\n",
      "ROM DoF = 16\n",
      "Starting Newton solver...\n",
      "iter       Stepsize       Residual\n",
      "   0       0.000e+00      2.921e+05\n",
      "   1       1.000e+00      9.250e+04\n",
      "   2       1.000e+00      2.220e+03\n",
      "   3       1.000e+00      1.235e+02\n",
      "   4       1.000e+00      1.073e+01\n",
      "   5       1.000e+00      8.770e-01\n",
      "   6       1.000e+00      7.137e-02\n",
      "   7       1.000e+00      5.806e-03\n",
      "   8       1.000e+00      4.722e-04\n",
      "   9       1.000e+00      3.840e-05\n",
      "  10       1.000e+00      3.123e-06\n",
      "  11       1.000e+00      2.540e-07\n",
      "Newton solver terminated after 11 iterations with residual 2.5396e-07.\n",
      "Solution found!\n",
      "\n",
      "DD NM-ROM rel. error = 1.3291e-03\n",
      "Speedup = 36.08443708466478\n"
     ]
    }
   ],
   "source": [
    "# compute initial iterate for Newton's method \n",
    "ndof_rom = np.sum([s.intr_latent_dim+s.intf_latent_dim for s in ddnmrom.subdomain]) \\\n",
    "            + ddnmrom.n_constraints\n",
    "# w0 = np.zeros(ndof_rom)\n",
    "w0 = w_rbf\n",
    "\n",
    "# solve DD ROM\n",
    "print('Solving DD NM-ROM...')\n",
    "print(f'ROM DoF = {ndof_rom-ddnmrom.n_constraints}')\n",
    "u_dd_rom, v_dd_rom, w_intr, w_intf, lam_opt, rom_time, itr, rhs_vecs = \\\n",
    "                        ddnmrom.solve(w0, tol=1e-6, maxit=15, print_hist=True, rhs_hist=True)\n",
    "rom_time += initial_time\n",
    "print('Solution found!\\n')\n",
    "\n",
    "# compute error\n",
    "dd_rom_rel_err = ddnmrom.compute_error(w_intr, w_intf, u_intr, v_intr, u_intf, v_intf)\n",
    "print(f'DD NM-ROM rel. error = {dd_rom_rel_err:1.4e}')\n",
    "print(f'Speedup = {fom_time/rom_time}')"
   ]
  },
  {
   "cell_type": "code",
   "execution_count": 13,
   "metadata": {},
   "outputs": [
    {
     "data": {
      "image/png": "[encoded data removed]",
      "text/plain": [
       "<Figure size 1200x400 with 2 Axes>"
      ]
     },
     "metadata": {},
     "output_type": "display_data"
    },
    {
     "data": {
      "image/png": "[encoded data removed]",
      "text/plain": [
       "<Figure size 1200x400 with 2 Axes>"
      ]
     },
     "metadata": {},
     "output_type": "display_data"
    }
   ],
   "source": [
    "# plot DD ROM u and v\n",
    "hr_str = '_col_hr' if ddnmrom.hr else ''\n",
    "ct_str = '_srpc' if ddnmrom.constraint_type == 'strong' else '_wfpc'\n",
    "\n",
    "x = np.linspace(x_lim[0], x_lim[1], nx+2)[1:-1]\n",
    "y = np.linspace(y_lim[0], y_lim[1], ny+2)[1:-1]\n",
    "X, Y = np.meshgrid(x, y)\n",
    "U_rom = u_dd_rom.reshape(ny, nx)\n",
    "V_rom = v_dd_rom.reshape(ny, nx)\n",
    "\n",
    "plt.figure(figsize=(12,4))\n",
    "plt.pcolormesh(X, Y, U_rom, cmap=cm.jet, shading='auto', vmin=u_fom.min(), vmax=u_fom.max())\n",
    "# plt.xlabel('$x$')\n",
    "# plt.ylabel('$y$')\n",
    "cb = plt.colorbar()#label='$u(x, y)$')\n",
    "file = nm_figs+f'u{ct_str}{hr_str}_state.png'\n",
    "plt.savefig(file, bbox_inches='tight', pad_inches=0.1)\n",
    "plt.show()\n",
    "\n",
    "plt.figure(figsize=(12,4))\n",
    "plt.pcolormesh(X, Y, V_rom, cmap=cm.jet, shading='auto', vmin=v_fom.min(), vmax=v_fom.max())\n",
    "# plt.xlabel('$x$')\n",
    "# plt.ylabel('$y$')\n",
    "cb = plt.colorbar()#label='$v(x, y)$')\n",
    "file = nm_figs+f'v{ct_str}{hr_str}_state.png'\n",
    "plt.savefig(file, bbox_inches='tight', pad_inches=0.1)\n",
    "plt.show()"
   ]
  },
  {
   "cell_type": "code",
   "execution_count": 14,
   "metadata": {},
   "outputs": [
    {
     "data": {
      "image/png": "[encoded data removed]",
      "text/plain": [
       "<Figure size 1200x400 with 2 Axes>"
      ]
     },
     "metadata": {},
     "output_type": "display_data"
    },
    {
     "data": {
      "image/png": "[encoded data removed]",
      "text/plain": [
       "<Figure size 1200x400 with 2 Axes>"
      ]
     },
     "metadata": {},
     "output_type": "display_data"
    }
   ],
   "source": [
    "# plot errors\n",
    "u_rel_err = np.abs(U_fom-U_rom)/np.linalg.norm(U_fom)\n",
    "plt.figure(figsize=(12,4))\n",
    "plt.pcolormesh(X, Y, u_rel_err, cmap=cm.jet, shading='auto')#, vmin=0.0, vmax=4.88e-4)\n",
    "# plt.xlabel('$x$')\n",
    "# plt.ylabel('$y$')\n",
    "cb = plt.colorbar()#label='$u$ Relative error')\n",
    "file = nm_figs+f'u{ct_str}{hr_str}_rel_error.png'\n",
    "plt.savefig(file, bbox_inches='tight', pad_inches=0.1)\n",
    "plt.show()\n",
    "\n",
    "plt.figure(figsize=(12,4))\n",
    "v_rel_err = np.abs(V_fom-V_rom)/np.linalg.norm(V_fom)\n",
    "plt.pcolormesh(X, Y, v_rel_err, cmap=cm.jet, shading='auto')#, vmin=0.0, vmax=4.88e-4)\n",
    "# plt.xlabel('$x$')\n",
    "# plt.ylabel('$y$')\n",
    "cb = plt.colorbar()#label='$v$ Relative error')\n",
    "file = nm_figs+f'v{ct_str}{hr_str}_rel_error.png'\n",
    "plt.savefig(file, bbox_inches='tight', pad_inches=0.1)\n",
    "plt.show()"
   ]
  },
  {
   "cell_type": "code",
   "execution_count": 15,
   "metadata": {},
   "outputs": [
    {
     "name": "stdout",
     "output_type": "stream",
     "text": [
      "ROM-port constraint residual (SRPC) = 0.0000e+00\n",
      "FOM-port constraint residual (SRPC) = 0.0000e+00\n"
     ]
    }
   ],
   "source": [
    "# Check constraints\n",
    "# FOM\n",
    "cres_fp= np.zeros(ddmdl.n_constraints)\n",
    "for i, s in enumerate(ddmdl.subdomain):\n",
    "    cres_fp += s.constraint_mat@ddnmrom.subdomain[i].de_intf(w_intf[i])[0]\n",
    "\n",
    "# ROM\n",
    "cres_rp = np.zeros(ddnmrom.n_constraints)\n",
    "if ddnmrom.constraint_type == 'strong':\n",
    "    for i, s in enumerate(ddnmrom.subdomain):\n",
    "        cres_rp += s.constraint_mat@w_intf[i]\n",
    "    print(f'ROM-port constraint residual (SRPC) = {np.linalg.norm(cres_rp):1.4e}')\n",
    "    print(f'FOM-port constraint residual (SRPC) = {np.linalg.norm(cres_fp):1.4e}')\n",
    "else:\n",
    "    for i, s in enumerate(ddnmrom.subdomain):\n",
    "        cres_rp += s.constraint_mat@s.de_intf(w_intf[i])[0]\n",
    "    print(f'ROM-port constraint residual (WFPC) = {np.linalg.norm(cres_rp):1.4e}')\n",
    "    print(f'FOM-port constraint residual (WFPC)= {np.linalg.norm(cres_fp):1.4e}')"
   ]
  },
  {
   "cell_type": "code",
   "execution_count": 16,
   "metadata": {},
   "outputs": [
    {
     "name": "stdout",
     "output_type": "stream",
     "text": [
      "norm of FOM lagrange mult. = 2.2880e-25\n",
      "norm of ROM lagrange mult. = 1.3069e+01\n",
      "Lagrange mult. error       = 1.3069e+01\n",
      "||(F'(g(x))^(-1)F(g(x)||   = 1.3086e+01\n"
     ]
    }
   ],
   "source": [
    "# compute lagrange multiplier approximation\n",
    "de, jde = ddnmrom.subdomain[0].de_intf(w_intf[0])\n",
    "en, jen = ddnmrom.subdomain[0].en_intf(de)\n",
    "lam_rom_approx = jen.T@lam_opt if ddnmrom.constraint_type=='strong' else ddnmrom.constraint_mult.T@lam_opt\n",
    "\n",
    "# compute error estimate\n",
    "xtilde = []\n",
    "xhat = []\n",
    "for i, s in enumerate(ddnmrom.subdomain):\n",
    "    xtilde.append(s.de_intr(w_intr[i])[0])\n",
    "    xtilde.append(s.de_intf(w_intf[i])[0])\n",
    "    xhat.append(w_intr[i])\n",
    "    xhat.append(w_intf[i])\n",
    "    \n",
    "xtilde.append(lam_rom_approx)\n",
    "xtilde = np.concatenate(xtilde)\n",
    "xhat.append(lam_opt)\n",
    "xhat = np.concatenate(xhat)\n",
    "\n",
    "f, j, rt = ddmdl.FJac(xtilde)\n",
    "e = np.linalg.norm(sp.linalg.spsolve(j, f))\n",
    "\n",
    "print(f'norm of FOM lagrange mult. = {np.linalg.norm(lam_fom):1.4e}')\n",
    "print(f'norm of ROM lagrange mult. = {np.linalg.norm(lam_rom_approx):1.4e}')\n",
    "print(f'Lagrange mult. error       = {np.linalg.norm(lam_fom-lam_rom_approx):1.4e}')\n",
    "print(f\"||(F'(g(x))^(-1)F(g(x)||   = {np.linalg.norm(e):1.4e}\")"
   ]
  },
  {
   "cell_type": "code",
   "execution_count": 17,
   "metadata": {},
   "outputs": [
    {
     "data": {
      "text/plain": [
       "3.1714593546095404e-13"
      ]
     },
     "execution_count": 17,
     "metadata": {},
     "output_type": "execute_result"
    }
   ],
   "source": [
    "xstar = []\n",
    "for i, s in enumerate(ddmdl.subdomain):\n",
    "    xstar.append(u_intr[i])\n",
    "    xstar.append(v_intr[i])    \n",
    "    xstar.append(u_intf[i])\n",
    "    xstar.append(v_intf[i]) \n",
    "xstar.append(lam_fom)\n",
    "xstar = np.concatenate(xstar)\n",
    "\n",
    "f, j, rt = ddmdl.FJac(xstar)\n",
    "np.linalg.norm(sp.linalg.spsolve(j, f))"
   ]
  },
  {
   "cell_type": "markdown",
   "metadata": {},
   "source": [
    "## Training time, number of parameters per subdomain"
   ]
  },
  {
   "cell_type": "code",
   "execution_count": null,
   "metadata": {},
   "outputs": [],
   "source": [
    "print('subdomain       interior          interface')\n",
    "for i, s in enumerate(ddnmrom.subdomain):\n",
    "    print(f'    {i}          {s.train_time_intr:1.4e}         {s.train_time_intr:1.4e}')"
   ]
  },
  {
   "cell_type": "code",
   "execution_count": null,
   "metadata": {},
   "outputs": [],
   "source": [
    "intr_params = []\n",
    "intf_params = []\n",
    "print('subdomain     interior     interface')\n",
    "for i, s in enumerate(ddnmrom.subdomain):\n",
    "    pcount = s.en_W1_intr.nnz+np.prod(s.en_W2_intr.shape)+s.en_b1_intr.size\n",
    "    pcount += s.de_W2_intr.nnz+np.prod(s.de_W1_intr.shape)+s.de_b1_intr.size\n",
    "    intr_params.append(pcount)\n",
    "    \n",
    "    pcount = s.en_W1_intf.nnz+np.prod(s.en_W2_intf.shape)+s.en_b1_intf.size\n",
    "    pcount += s.de_W2_intf.nnz+np.prod(s.de_W1_intf.shape)+s.de_b1_intf.size\n",
    "    intf_params.append(pcount)\n",
    "    print(f'    {i}          {intr_params[i]}         {intf_params[i]}')"
   ]
  },
  {
   "cell_type": "code",
   "execution_count": null,
   "metadata": {},
   "outputs": [],
   "source": [
    "maxp_per_subdomain=np.max(np.array(intr_params+intf_params))\n",
    "all_params=np.sum(np.array(intr_params+intf_params))\n",
    "all_params"
   ]
  },
  {
   "cell_type": "code",
   "execution_count": null,
   "metadata": {},
   "outputs": [],
   "source": [
    "maxp_per_subdomain"
   ]
  },
  {
   "cell_type": "code",
   "execution_count": null,
   "metadata": {},
   "outputs": [],
   "source": [
    "max_train_time = np.max([s.train_time_intr for s in ddnmrom.subdomain]+\\\n",
    "                        [s.train_time_intf for s in ddnmrom.subdomain])\n",
    "max_train_time"
   ]
  },
  {
   "cell_type": "code",
   "execution_count": null,
   "metadata": {},
   "outputs": [],
   "source": [
    "intr_params+intf_params"
   ]
  },
  {
   "cell_type": "markdown",
   "metadata": {},
   "source": [
    "## Spy plots of sparsity masks"
   ]
  },
  {
   "cell_type": "code",
   "execution_count": null,
   "metadata": {},
   "outputs": [],
   "source": [
    "# plot sparsity masks\n",
    "sub = 0\n",
    "plt.figure(figsize=(12, 4))\n",
    "plt.spy(ddnmrom.subdomain[sub].de_mask_intr)\n",
    "file = fig_dir+f'ld_{ddnmrom.subdomain[sub].intr_latent_dim}_rnnz_{intr_rnnz}_rshift_{intr_shift}_intr_mask.png'\n",
    "plt.savefig(file, bbox_inches='tight', pad_inches=0.1)\n",
    "plt.show()\n",
    "\n",
    "plt.figure(figsize=(12, 8))\n",
    "plt.spy(ddnmrom.subdomain[sub].de_mask_intf)\n",
    "plt.xticks([])\n",
    "plt.yticks([])\n",
    "file = fig_dir+f'ld_{ddnmrom.subdomain[sub].intf_latent_dim}'+ \\\n",
    "               f'_rnnz_{port_rnnz[0]}_rshift_{port_shift[0]}_intf_mask{ct_str}.png'\n",
    "plt.savefig(file, bbox_inches='tight', pad_inches=0.1)\n",
    "plt.show()"
   ]
  },
  {
   "cell_type": "markdown",
   "metadata": {},
   "source": [
    "## Check reconstruction error"
   ]
  },
  {
   "cell_type": "code",
   "execution_count": null,
   "metadata": {},
   "outputs": [],
   "source": [
    "error = 0.0\n",
    "intr_errors = []\n",
    "intf_errors = []\n",
    "\n",
    "for i, s in enumerate(ddnmrom.subdomain):\n",
    "    uv_intr = np.concatenate([u_intr[i], v_intr[i]])\n",
    "    uv_intf = np.concatenate([u_intf[i], v_intf[i]])\n",
    "    \n",
    "    num_intr = np.sum(np.square(uv_intr - s.de_intr(s.en_intr(uv_intr))[0])) \n",
    "    num_intf = np.sum(np.square(uv_intf - s.de_intf(s.en_intf(uv_intf))[0])) \n",
    "    den_intr = np.sum(np.square(uv_intr)) \n",
    "    den_intf =  np.sum(np.square(uv_intf)) \n",
    "    intr_errors.append(num_intr/den_intr)\n",
    "    intf_errors.append(num_intf/den_intf)\n",
    "    error += (num_intr+num_intf)/(den_intr+den_intf)\n",
    "    \n",
    "error = np.sqrt(error/ddnmrom.n_sub)\n",
    "print(f'Relative reconstruction error = {error:1.4e}\\n')\n",
    "print('Subdomain     Intr. rel. error     Intf. rel. error')\n",
    "for i in range(n_sub):\n",
    "    print(f'    {i+1:2d}           {intr_errors[i]:1.4e}           {intf_errors[i]:1.4e}') "
   ]
  },
  {
   "cell_type": "markdown",
   "metadata": {},
   "source": [
    "## Analyze behavior of residual at FOM and ROM solutions"
   ]
  },
  {
   "cell_type": "code",
   "execution_count": null,
   "metadata": {},
   "outputs": [],
   "source": [
    "# compute ROM residual, equality constraint\n",
    "Ag_rom = np.zeros(ddnmrom.n_constraints)\n",
    "res_rom = 0.0\n",
    "res_list = []\n",
    "for j, s in enumerate(ddnmrom.subdomain):\n",
    "    res, jac, H, rhs, Ag, Adg = s.res_jac(w_intr[j], w_intf[j], lam_opt)\n",
    "    res_list.append(res)\n",
    "    res_rom += np.dot(res, res)\n",
    "    Ag_rom += Ag\n",
    "res_rom *= 0.5\n",
    "\n",
    "# compute FOM residual, equality constraint\n",
    "Ag_fom  = np.zeros(ddmdl.n_constraints)\n",
    "res_fom = 0.0\n",
    "for j, s in enumerate(ddmdl.subdomain):\n",
    "    res_fom += np.linalg.norm(s.res_jac(u_intr[j], v_intr[j], u_intf[j], v_intf[j], lam_fom)[0])**2\n",
    "    Ag_fom += s.constraint_mat@np.concatenate([u_intf[j], v_intf[j]])\n",
    "res_fom *= 0.5\n",
    "\n",
    "print(f'ROM LSTSQ residual  = {res_rom:1.4e}')\n",
    "print(f'ROM constraint norm = {np.linalg.norm(Ag_rom):1.4e}')\n",
    "print(f'FOM LSTSQ residual  = {res_fom:1.4e}')\n",
    "print(f'FOM constraint norm = {np.linalg.norm(Ag_fom):1.4e}')"
   ]
  },
  {
   "cell_type": "code",
   "execution_count": null,
   "metadata": {},
   "outputs": [],
   "source": [
    "# compute residual, constraint at encoded FOM solution \n",
    "Ag_en = np.zeros(ddnmrom.n_constraints)\n",
    "res_en = 0.0\n",
    "en_res_list = []\n",
    "for j, s in enumerate(ddnmrom.subdomain):\n",
    "    en_uv_intr = s.en_intr(np.concatenate((u_intr[j], v_intr[j])))\n",
    "    en_uv_intf = s.en_intf(np.concatenate((u_intf[j], v_intf[j])))\n",
    "    \n",
    "    res, jac, H, rhs, Ag, Adg = s.res_jac(en_uv_intr, en_uv_intf, lam_opt)\n",
    "    en_res_list.append(res)\n",
    "    res_en += np.dot(res, res)\n",
    "    Ag_en += Ag\n",
    "res_en *= 0.5\n",
    "print(f'ROM LSTSQ residual at encoded FOM sol.  = {res_en:1.4e}')\n",
    "print(f'ROM constraint norm at encoded FOM sol. = {np.linalg.norm(Ag_en):1.4e}')"
   ]
  },
  {
   "cell_type": "code",
   "execution_count": null,
   "metadata": {},
   "outputs": [],
   "source": [
    "x_err_list = []\n",
    "res_fom_list = []\n",
    "res_enc_list = []\n",
    "RTr_fom_list = []\n",
    "RTr_enc_list = []\n",
    "for j, s in enumerate(ddmdl.subdomain):\n",
    "    res, jac, H, rhs, Ax = s.res_jac(u_intr[j], v_intr[j], u_intf[j], v_intf[j], lam_fom)\n",
    "    RTr = jac.T@res #np.concatenate([jac_intr.T@res, jac_intf.T@res])\n",
    "    RTr_fom_list.append(np.linalg.norm(RTr))\n",
    "    res_fom_list.append(np.linalg.norm(res))\n",
    "    \n",
    "    uv_intr_enc = np.concatenate((u_intr[j], v_intr[j]))\n",
    "    uv_intf_enc = np.concatenate((u_intf[j], v_intf[j]))\n",
    "    \n",
    "    uv_intr_enc = ddnmrom.subdomain[j].de_intr(ddnmrom.subdomain[j].en_intr(uv_intr_enc))[0]\n",
    "    uv_intf_enc = ddnmrom.subdomain[j].de_intf(ddnmrom.subdomain[j].en_intf(uv_intf_enc))[0]\n",
    "    \n",
    "    u_intr_enc = uv_intr_enc[:s.n_interior]\n",
    "    v_intr_enc = uv_intr_enc[s.n_interior:] \n",
    "    u_intf_enc = uv_intf_enc[:s.n_interface]\n",
    "    v_intf_enc = uv_intf_enc[s.n_interface:]\n",
    "    \n",
    "    res, jac, H, rhs, Ax = s.res_jac(u_intr_enc, v_intr_enc, u_intf_enc, v_intf_enc, lam_fom)\n",
    "    RTr = jac.T@res #np.concatenate([jac_intr.T@res, jac_intf.T@res])\n",
    "    RTr_enc_list.append(np.linalg.norm(RTr))\n",
    "    res_enc_list.append(np.linalg.norm(res))\n",
    "    \n",
    "    x_err_list.append(np.linalg.norm(np.concatenate([u_intr[j], v_intr[j], u_intf[j], v_intf[j]])-\n",
    "                                    np.concatenate([uv_intr_enc, uv_intf_enc])))\n",
    "    \n",
    "print(f\"sub.     ||x-x_enc|||    ||r(x)||      ||r(x_enc)||     ||R'(x)^Tr(x)||    ||R'(x_enc)^Tr(x_enc)||\")\n",
    "for j in range(n_sub):\n",
    "    print(f' {j:d}       {x_err_list[j]:1.3e}       {res_fom_list[j]:1.3e}     {res_enc_list[j]:1.3e}         {RTr_fom_list[j]:1.3e}         {RTr_enc_list[j]:1.3e}')    "
   ]
  },
  {
   "cell_type": "code",
   "execution_count": null,
   "metadata": {},
   "outputs": [],
   "source": [
    "print(f\"itr     ||R'*r||         ||Ag||\")\n",
    "for j, r in enumerate(rhs_vecs):\n",
    "    Rr = np.linalg.norm(r[:-ddnmrom.n_constraints])\n",
    "    Ag = np.linalg.norm(r[-ddnmrom.n_constraints:])    \n",
    "    print(f' {j:2d}     {Rr:1.6e}     {Ag:1.6e}')"
   ]
  },
  {
   "cell_type": "code",
   "execution_count": null,
   "metadata": {},
   "outputs": [],
   "source": [
    "# plot residuals on FD grid\n",
    "nx_sub, ny_sub = nx//n_sub_x, ny//n_sub_y\n",
    "nxy_sub = nx_sub*ny_sub\n",
    "if ddnmrom.hr:\n",
    "    u_res_list = []\n",
    "    v_res_list = []\n",
    "    for i, s in enumerate(ddnmrom.subdomain):\n",
    "        r = np.zeros(2*s.n_residual)+1e-16\n",
    "        r[s.hr_ind] = res_list[i]\n",
    "        u_res_list.append(r[:nxy_sub].reshape(ny_sub, nx_sub))\n",
    "        v_res_list.append(r[nxy_sub:].reshape(ny_sub, nx_sub))\n",
    "else:\n",
    "    u_res_list = [r[:nxy_sub].reshape(ny_sub, nx_sub) for r in res_list]\n",
    "    v_res_list = [r[nxy_sub:].reshape(ny_sub, nx_sub) for r in res_list]\n",
    "\n",
    "Ures = []\n",
    "Vres = []\n",
    "counter = 0\n",
    "for j in range(n_sub_y):\n",
    "    Urow = []\n",
    "    Vrow = []\n",
    "    for i in range(n_sub_x):\n",
    "        sub = n_sub_x*j+i\n",
    "        Urow.append(u_res_list[sub])\n",
    "        Vrow.append(v_res_list[sub])\n",
    "    Ures.append(Urow)\n",
    "    Vres.append(Vrow)\n",
    "Ures = np.abs(np.bmat(Ures))\n",
    "Vres = np.abs(np.bmat(Vres))        \n",
    "\n",
    "plt.figure(figsize=(12, 4))\n",
    "plt.pcolormesh(X, Y, Ures, norm=colors.LogNorm(vmin=Ures.min(), vmax=Ures.max()), cmap=cm.jet)\n",
    "plt.xlabel('$x$')\n",
    "plt.ylabel('$y$')\n",
    "cb = plt.colorbar(label='$u$ residual')\n",
    "plt.show()\n",
    "\n",
    "plt.figure(figsize=(12, 4))\n",
    "plt.pcolormesh(X, Y, Vres, norm=colors.LogNorm(vmin=Vres.min(), vmax=Vres.max()), cmap=cm.jet)\n",
    "plt.xlabel('$x$')\n",
    "plt.ylabel('$y$')\n",
    "cb = plt.colorbar(label='$v$ residual')\n",
    "plt.show()"
   ]
  },
  {
   "cell_type": "code",
   "execution_count": null,
   "metadata": {},
   "outputs": [],
   "source": [
    "# net_folder1 = './trained_nets/nx_480_ny_24_mu_0.1_2x_by_2y/'\n",
    "# net_name = 'ld_10_rnnz_10_rshift_10_Sigmoid_batch_32_AbsMSEloss_4200snaps.p'\n",
    "# filename = net_folder1 + 'sub_1of4/interior/' + net_name\n",
    "# net_dict = torch.load(filename)\n",
    "# de_net = net_dict['decoder']\n",
    "# de_net"
   ]
  },
  {
   "cell_type": "code",
   "execution_count": null,
   "metadata": {},
   "outputs": [],
   "source": [
    "# if 'net.2.bias' in de_net:\n",
    "#     print('Deleting old NNs...')\n",
    "#     for phase in ['interior', 'interface']:\n",
    "#         for sub in range(n_sub):\n",
    "#             os.remove(net_folder1+f'sub_{sub+1}of{n_sub}/{phase}/'+net_name)\n",
    "#     print('All done!')\n",
    "# else:\n",
    "#     print('all good')"
   ]
  },
  {
   "cell_type": "code",
   "execution_count": null,
   "metadata": {},
   "outputs": [],
   "source": [
    "w_opt = np.array([])\n",
    "for i in range(ddnmrom.n_sub):\n",
    "    w_opt = np.concatenate([w_opt, w_intr[i], w_intf[i]])\n",
    "w_opt = np.concatenate([w_opt, lam_opt])\n",
    "\n",
    "eig_list = []\n",
    "for vec in [np.zeros(w0.shape), w_rbf, w_opt]:\n",
    "    rhs, KKT, rjtime = ddnmrom.FJac(vec)\n",
    "    eigs = la.eigh(KKT.toarray(), eigvals_only = True)\n",
    "    eig_list.append(eigs/eigs.max())\n",
    "    \n",
    "plt.figure(figsize=(10, 8))\n",
    "plt.scatter(np.arange(eig_list[0].size), eig_list[0], s=100, c='blue', marker='o', label='zeros', alpha=0.75)\n",
    "plt.scatter(np.arange(eig_list[0].size), eig_list[1], s=100, c='red', marker='^', label='RBF initial', alpha=0.75)\n",
    "plt.scatter(np.arange(eig_list[0].size), eig_list[2], s=100, c='green', marker='x', label='Final', alpha=0.75)\n",
    "plt.yscale('log')\n",
    "# plt.xscale('log')\n",
    "plt.ylabel('Normalized Eigenvalues')\n",
    "plt.xlabel('$k$')\n",
    "plt.grid()\n",
    "plt.legend()\n",
    "plt.show()\n",
    "\n",
    "print(f'# DoF = {ndof_rom}')\n",
    "print(f'# constraints = {ddnmrom.n_constraints}\\n')\n",
    "print('          Zeros     RBF      Final')\n",
    "print(f'# Pos.      {np.sum(eig_list[0]>0):2d}       {np.sum(eig_list[1]>0):2d}        {np.sum(eig_list[2]>0):2d}')\n",
    "print(f'# Neg.      {np.sum(eig_list[0]<0):2d}       {np.sum(eig_list[1]<0):2d}        {np.sum(eig_list[2]<0):2d}')"
   ]
  },
  {
   "cell_type": "code",
   "execution_count": null,
   "metadata": {},
   "outputs": [],
   "source": [
    "a = {}"
   ]
  },
  {
   "cell_type": "code",
   "execution_count": null,
   "metadata": {},
   "outputs": [],
   "source": [
    "a[1]='b'"
   ]
  },
  {
   "cell_type": "code",
   "execution_count": null,
   "metadata": {},
   "outputs": [],
   "source": [
    "a"
   ]
  },
  {
   "cell_type": "code",
   "execution_count": null,
   "metadata": {},
   "outputs": [],
   "source": []
  }
 ],
 "metadata": {
  "kernelspec": {
   "display_name": "Open-CE-1.7.2",
   "language": "python",
   "name": "opence-1.7.2-cuda-11.4"
  },
  "language_info": {
   "codemirror_mode": {
    "name": "ipython",
    "version": 3
   },
   "file_extension": ".py",
   "mimetype": "text/x-python",
   "name": "python",
   "nbconvert_exporter": "python",
   "pygments_lexer": "ipython3",
   "version": "3.9.15"
  }
 },
 "nbformat": 4,
 "nbformat_minor": 4
}
